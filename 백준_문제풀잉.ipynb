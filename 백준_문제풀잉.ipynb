{
  "nbformat": 4,
  "nbformat_minor": 0,
  "metadata": {
    "colab": {
      "provenance": []
    },
    "kernelspec": {
      "name": "python3",
      "display_name": "Python 3"
    },
    "language_info": {
      "name": "python"
    }
  },
  "cells": [
    {
      "cell_type": "code",
      "execution_count": null,
      "metadata": {
        "colab": {
          "base_uri": "https://localhost:8080/"
        },
        "id": "n-04n4v9K-QR",
        "outputId": "882279aa-8dec-4a38-f3b7-ef6419aecd0d"
      },
      "outputs": [
        {
          "output_type": "stream",
          "name": "stdout",
          "text": [
            "1000 100\n",
            "10\n",
            "0\n"
          ]
        }
      ],
      "source": [
        "# 1271번 엄청난 부자2\n",
        "\n",
        "n, m = map(int, input().split()) # n = 가진 돈, m = 생명체 수\n",
        "\n",
        "a = n%m # 나머지\n",
        "b = n//m\n",
        "print(b); print(a)"
      ]
    },
    {
      "cell_type": "code",
      "source": [
        "i = 0 \n",
        "result_even = 0\n",
        "\n",
        "while i < 100:\n",
        "    i = i + 1\n",
        "    if i % 2 != 0:\n",
        "        result_even = result_even + i\n",
        "print(result_even)"
      ],
      "metadata": {
        "colab": {
          "base_uri": "https://localhost:8080/"
        },
        "id": "TrAI1EB1xlIQ",
        "outputId": "ae5cbae8-5efd-401f-8984-79c5c9a04e8f"
      },
      "execution_count": null,
      "outputs": [
        {
          "output_type": "stream",
          "name": "stdout",
          "text": [
            "2500\n"
          ]
        }
      ]
    },
    {
      "cell_type": "code",
      "source": [
        "food = int(input('어떤 음식을 먹고 싶나요(1: 피자, 2: 햄버거, 3: 스파게티, 4: 치맥)? '))\n",
        "\n",
        "if food == 1:\n",
        "    print('피자')\n",
        "elif food == 2:\n",
        "    print('햄버거')\n",
        "elif food == 3:\n",
        "    print('스파게티')\n",
        "elif food == 4:\n",
        "    print('치맥')"
      ],
      "metadata": {
        "colab": {
          "base_uri": "https://localhost:8080/"
        },
        "id": "OBAPi-geNz3c",
        "outputId": "cbcf81d4-a5b9-40bc-b2fd-863c39db46d8"
      },
      "execution_count": null,
      "outputs": [
        {
          "output_type": "stream",
          "name": "stdout",
          "text": [
            "어떤 음식을 먹고 싶나요(1: 피자, 2: 햄버거, 3: 스파게티, 4: 치맥)? 4\n",
            "치맥\n"
          ]
        }
      ]
    },
    {
      "cell_type": "code",
      "source": [
        "# 1550번 16진수 -> 10진수\n",
        "a = str(input())\n",
        "\n",
        "a = int(a,16)\n",
        "print(a)"
      ],
      "metadata": {
        "colab": {
          "base_uri": "https://localhost:8080/"
        },
        "id": "o8uw8eoaYyDM",
        "outputId": "a072380b-cbc7-4fa6-bb8e-d110be9b1f35"
      },
      "execution_count": null,
      "outputs": [
        {
          "output_type": "stream",
          "name": "stdout",
          "text": [
            "ABC\n",
            "2748\n"
          ]
        }
      ]
    },
    {
      "cell_type": "code",
      "source": [
        "# 2338번 긴자리 계산\n",
        "\n",
        "a = int(input())\n",
        "b = int(input())\n",
        "\n",
        "print(a+b)\n",
        "print(a-b)\n",
        "print(a*b)"
      ],
      "metadata": {
        "colab": {
          "base_uri": "https://localhost:8080/"
        },
        "id": "pKgKUnwOcZo-",
        "outputId": "dbf2734c-0d14-45ca-9ba2-be038f641c96"
      },
      "execution_count": null,
      "outputs": [
        {
          "output_type": "stream",
          "name": "stdout",
          "text": [
            "1\n",
            "-1\n",
            "0\n",
            "2\n",
            "-1\n"
          ]
        }
      ]
    },
    {
      "cell_type": "code",
      "source": [
        "# 2475번 검증수\n",
        "\n",
        "def calculation(a1, a2, a3, a4, a5):\n",
        "    a1 = a1**2\n",
        "    a2 = a2**2\n",
        "    a3 = a3**2\n",
        "    a4 = a4**2\n",
        "    a5 = a5**2\n",
        "    calcul = a1 + a2 + a3 + a4 + a5\n",
        "    result = calcul%10\n",
        "    return result\n",
        "    \n",
        "a1, a2, a3, a4, a5 = map(int, input().split())\n",
        "result = calculation(a1, a2, a3, a4, a5)\n",
        "print(result)"
      ],
      "metadata": {
        "colab": {
          "base_uri": "https://localhost:8080/"
        },
        "id": "sTr91SEKi3Lm",
        "outputId": "e32761b9-b94e-4419-c451-f92868a1f38c"
      },
      "execution_count": null,
      "outputs": [
        {
          "output_type": "stream",
          "name": "stdout",
          "text": [
            "0 4 2 5 6\n",
            "1\n"
          ]
        }
      ]
    },
    {
      "cell_type": "code",
      "source": [
        "# 2558번 A+B - 2\n",
        "\n",
        "a = int(input())\n",
        "b = int(input())\n",
        "\n",
        "if 0 < a and b < 10:\n",
        "    print(a+b)"
      ],
      "metadata": {
        "colab": {
          "base_uri": "https://localhost:8080/"
        },
        "id": "RlgrZibdj6kH",
        "outputId": "2a6cd3d1-816c-4af9-eebe-79aae4b198a1"
      },
      "execution_count": null,
      "outputs": [
        {
          "output_type": "stream",
          "name": "stdout",
          "text": [
            "1\n",
            "2\n",
            "3\n"
          ]
        }
      ]
    },
    {
      "cell_type": "code",
      "source": [
        "# 2845번 파티가 끝나고 난 뒤\n",
        "\n",
        "L, P = map(int, input().split()) # L = 1m^2당 사람수, P = 공간 넓이\n",
        "a1, a2, a3, a4, a5 = map(int, input().split())\n",
        "li = [a1, a2, a3, a4, a5]\n",
        "\n",
        "if 1 <= L <= 10 and 1 <= P <= 1000:\n",
        "    person = L * P\n",
        "    \n",
        "    result_li = []\n",
        "    for i in range(len(li)):\n",
        "        result = li[i] - person\n",
        "        result_li.append(result)\n",
        "    for j in range(len(result_li)):\n",
        "        print(result_li[j], end=' ')"
      ],
      "metadata": {
        "colab": {
          "base_uri": "https://localhost:8080/"
        },
        "id": "ItMdGR55keJd",
        "outputId": "ffc8d403-1044-41a2-c4d0-d6197401e0e9"
      },
      "execution_count": null,
      "outputs": [
        {
          "output_type": "stream",
          "name": "stdout",
          "text": [
            "5 20\n",
            "99 101 1000 0 97\n",
            "-1 1 900 -100 -3 "
          ]
        }
      ]
    },
    {
      "cell_type": "code",
      "source": [
        "# 2914번 저작권\n",
        "# x를 구하라\n",
        "A, I = map(float, input().split()) # A 곡의 개수, I = 평균값, % x(저작권 멜로디 개수)/A = I\n",
        "\n",
        "if 1 <= A and I <= 100:\n",
        "    I = I - 1\n",
        "    melody = A*I + 1\n",
        "    print(int(melody))\n"
      ],
      "metadata": {
        "id": "qgL4Vmge6Fkh",
        "colab": {
          "base_uri": "https://localhost:8080/"
        },
        "outputId": "b494ef76-b0bf-4d23-ff84-11b69a480f6e"
      },
      "execution_count": null,
      "outputs": [
        {
          "output_type": "stream",
          "name": "stdout",
          "text": [
            "10 10\n",
            "91\n"
          ]
        }
      ]
    },
    {
      "cell_type": "code",
      "source": [
        "# 3003번 킹, 퀸, 룩, 비숍, 나이트, 폰\n",
        "\n",
        "chees_li = [1, 1, 2, 2, 2, 8]\n",
        "\n",
        "king, queen, rook, bishop, knight, pawn = map(int, input().split())\n",
        "num_li = [king, queen, rook, bishop, knight, pawn]\n",
        "\n",
        "for i in range(len(chees_li)):\n",
        "    result = chees_li[i] - num_li[i]\n",
        "    print(result, end=' ')"
      ],
      "metadata": {
        "colab": {
          "base_uri": "https://localhost:8080/"
        },
        "id": "ZyUwor4O_XsL",
        "outputId": "38b4ba81-2e27-4827-8a38-58150434259c"
      },
      "execution_count": null,
      "outputs": [
        {
          "output_type": "stream",
          "name": "stdout",
          "text": [
            "2 1 2 1 2 1\n",
            "-1 0 0 1 0 7 "
          ]
        }
      ]
    },
    {
      "cell_type": "code",
      "source": [
        "# 1010번 다리 놓기\n",
        "import math\n",
        "\n",
        "testcase = int(input())\n",
        "\n",
        "i = 0\n",
        "while True:\n",
        "    i = i + 1\n",
        "    if i > testcase:\n",
        "        break\n",
        "\n",
        "    n, m = map(int, input().split())\n",
        "    if 0 < n <= m < 30:\n",
        "        result = (math.factorial(m)//math.factorial(m-n)) // math.factorial(n)\n",
        "        print(int(result))"
      ],
      "metadata": {
        "colab": {
          "base_uri": "https://localhost:8080/"
        },
        "id": "Nytg5uGMDFYc",
        "outputId": "79fddb70-e8bd-4e3d-feb4-ba3ff18abb19"
      },
      "execution_count": null,
      "outputs": [
        {
          "output_type": "stream",
          "name": "stdout",
          "text": [
            "1\n",
            "18 25\n",
            "480700\n"
          ]
        }
      ]
    },
    {
      "cell_type": "code",
      "source": [
        "# # 1018번 체스판 다시 칠하기\n",
        "\n",
        "# N, M = map(int, input().split())\n",
        "\n",
        "# i = 0\n",
        "# while True:\n",
        "#     i = i + 1\n",
        "#     if i > N:\n",
        "#         break\n",
        "    \n",
        "#     word = str(input()) # W = White, B = Black\n",
        "#     # cnt = 0\n",
        "#     # for i in range(len(word)-1):\n",
        "#     #     if not word[i] == word[i+1]:\n",
        "#     #         pass\n",
        "#     #     else:\n",
        "#     #         cnt += 1\n",
        "#     # print(cnt)\n",
        "#             # if word[i] == 'W':\n",
        "#             #     word[i+1] = word[i]"
      ],
      "metadata": {
        "colab": {
          "base_uri": "https://localhost:8080/"
        },
        "id": "brN-tgK8V0Oc",
        "outputId": "fe2708aa-cd1d-4bca-f79e-a95bb2d044bb"
      },
      "execution_count": null,
      "outputs": [
        {
          "name": "stdout",
          "output_type": "stream",
          "text": [
            "8 8\n",
            "WBWBWBWB\n",
            "0\n",
            "BWBWBWBW\n",
            "0\n",
            "WBWBWBWB\n",
            "0\n",
            "BWBBBWBW\n",
            "2\n",
            "d\n"
          ]
        }
      ]
    },
    {
      "cell_type": "code",
      "source": [
        "# 1018번 체스판 다시 칠하기\n",
        "\n",
        "N, M = map(int, input().split()) # 8 <= N, M <= 50\n",
        "\n",
        "if 1 <= N <= 50 and 1 <= M <= 50:\n",
        "    i = 0\n",
        "    while True:\n",
        "        i = i + 1\n",
        "        if i > N:\n",
        "            break\n",
        "        cnt = 0\n",
        "        for a in range(N-(N-1)):\n",
        "            for b in range(M-(M-1)):\n",
        "                word = str(input())\n",
        "                print(\"start : \", word[a][b])\n",
        "                if word[a][b] == 'W':\n",
        "                    for i in range(len(word)):\n",
        "                        if word[i] == word[i+1] and word[i] == word[i+2]:\n",
        "\n",
        "                            cnt += 1\n",
        "                        print(word[i])\n",
        "                        for j in range(0, len(word)):\n",
        "                            # print(word[j][a])\n",
        "                            a = 1\n",
        "                    # cnt += 1\n",
        "    print(cnt)\n",
        "\n",
        "    # gg"
      ],
      "metadata": {
        "colab": {
          "base_uri": "https://localhost:8080/",
          "height": 358
        },
        "id": "HduGTVpBakvz",
        "outputId": "2209978b-5b01-4449-d495-3a6abf6a92b1"
      },
      "execution_count": null,
      "outputs": [
        {
          "output_type": "stream",
          "name": "stdout",
          "text": [
            "1 1\n",
            "WWWWW\n",
            "start :  W\n",
            "W\n",
            "W\n",
            "W\n"
          ]
        },
        {
          "output_type": "error",
          "ename": "IndexError",
          "evalue": "ignored",
          "traceback": [
            "\u001b[0;31m---------------------------------------------------------------------------\u001b[0m",
            "\u001b[0;31mIndexError\u001b[0m                                Traceback (most recent call last)",
            "\u001b[0;32m<ipython-input-31-c962f2bc9fd7>\u001b[0m in \u001b[0;36m<module>\u001b[0;34m()\u001b[0m\n\u001b[1;32m     16\u001b[0m                 \u001b[0;32mif\u001b[0m \u001b[0mword\u001b[0m\u001b[0;34m[\u001b[0m\u001b[0ma\u001b[0m\u001b[0;34m]\u001b[0m\u001b[0;34m[\u001b[0m\u001b[0mb\u001b[0m\u001b[0;34m]\u001b[0m \u001b[0;34m==\u001b[0m \u001b[0;34m'W'\u001b[0m\u001b[0;34m:\u001b[0m\u001b[0;34m\u001b[0m\u001b[0;34m\u001b[0m\u001b[0m\n\u001b[1;32m     17\u001b[0m                     \u001b[0;32mfor\u001b[0m \u001b[0mi\u001b[0m \u001b[0;32min\u001b[0m \u001b[0mrange\u001b[0m\u001b[0;34m(\u001b[0m\u001b[0mlen\u001b[0m\u001b[0;34m(\u001b[0m\u001b[0mword\u001b[0m\u001b[0;34m)\u001b[0m\u001b[0;34m)\u001b[0m\u001b[0;34m:\u001b[0m\u001b[0;34m\u001b[0m\u001b[0;34m\u001b[0m\u001b[0m\n\u001b[0;32m---> 18\u001b[0;31m                         \u001b[0;32mif\u001b[0m \u001b[0mword\u001b[0m\u001b[0;34m[\u001b[0m\u001b[0mi\u001b[0m\u001b[0;34m]\u001b[0m \u001b[0;34m==\u001b[0m \u001b[0mword\u001b[0m\u001b[0;34m[\u001b[0m\u001b[0mi\u001b[0m\u001b[0;34m+\u001b[0m\u001b[0;36m1\u001b[0m\u001b[0;34m]\u001b[0m \u001b[0;32mand\u001b[0m \u001b[0mword\u001b[0m\u001b[0;34m[\u001b[0m\u001b[0mi\u001b[0m\u001b[0;34m]\u001b[0m \u001b[0;34m==\u001b[0m \u001b[0mword\u001b[0m\u001b[0;34m[\u001b[0m\u001b[0mi\u001b[0m\u001b[0;34m+\u001b[0m\u001b[0;36m2\u001b[0m\u001b[0;34m]\u001b[0m\u001b[0;34m:\u001b[0m\u001b[0;34m\u001b[0m\u001b[0;34m\u001b[0m\u001b[0m\n\u001b[0m\u001b[1;32m     19\u001b[0m \u001b[0;34m\u001b[0m\u001b[0m\n\u001b[1;32m     20\u001b[0m                             \u001b[0mcnt\u001b[0m \u001b[0;34m+=\u001b[0m \u001b[0;36m1\u001b[0m\u001b[0;34m\u001b[0m\u001b[0;34m\u001b[0m\u001b[0m\n",
            "\u001b[0;31mIndexError\u001b[0m: string index out of range"
          ]
        }
      ]
    },
    {
      "cell_type": "code",
      "source": [
        "n, m = map(int, input().split())\n",
        "l = []\n",
        "mini = []\n",
        "\n",
        "for _ in range(n):\n",
        "    l.append(input())\n",
        "\n",
        "for a in range(n - 7):\n",
        "    for i in range(m - 7):\n",
        "        idx1 = 0\n",
        "        idx2 = 0\n",
        "        for b in range(a, a + 8):\n",
        "            for j in range(i, i + 8):              # 8X8 범위를 B와 W로 번갈아가면서 검사\n",
        "                if (j + b)%2 == 0:\n",
        "                    if l[b][j] != 'W': idx1 += 1  \n",
        "                    if l[b][j] != 'B': idx2 += 1\n",
        "                else :\n",
        "                    if l[b][j] != 'B': idx1 += 1\n",
        "                    if l[b][j] != 'W': idx2 += 1\n",
        "        mini.append(idx1)                          # W로 시작했을 때 칠해야 할 부분\n",
        "        mini.append(idx2)                          # B로 시작했을 때 칠해야 할 부분\n",
        " \n",
        "print(min(mini))                                   # 칠해야 하는 개수의 최소값"
      ],
      "metadata": {
        "colab": {
          "base_uri": "https://localhost:8080/",
          "height": 248
        },
        "id": "a1AKa1I2u_YD",
        "outputId": "2a81a082-8359-4f0d-e62d-2234ab8e95c7"
      },
      "execution_count": null,
      "outputs": [
        {
          "name": "stdout",
          "output_type": "stream",
          "text": [
            "1 1\n",
            "WBWBWBWW\n"
          ]
        },
        {
          "output_type": "error",
          "ename": "ValueError",
          "evalue": "ignored",
          "traceback": [
            "\u001b[0;31m---------------------------------------------------------------------------\u001b[0m",
            "\u001b[0;31mValueError\u001b[0m                                Traceback (most recent call last)",
            "\u001b[0;32m<ipython-input-37-72150964d802>\u001b[0m in \u001b[0;36m<module>\u001b[0;34m()\u001b[0m\n\u001b[1;32m     21\u001b[0m         \u001b[0mmini\u001b[0m\u001b[0;34m.\u001b[0m\u001b[0mappend\u001b[0m\u001b[0;34m(\u001b[0m\u001b[0midx2\u001b[0m\u001b[0;34m)\u001b[0m                          \u001b[0;31m# B로 시작했을 때 칠해야 할 부분\u001b[0m\u001b[0;34m\u001b[0m\u001b[0;34m\u001b[0m\u001b[0m\n\u001b[1;32m     22\u001b[0m     \u001b[0mprint\u001b[0m\u001b[0;34m(\u001b[0m\u001b[0mmini\u001b[0m\u001b[0;34m)\u001b[0m\u001b[0;34m\u001b[0m\u001b[0;34m\u001b[0m\u001b[0m\n\u001b[0;32m---> 23\u001b[0;31m \u001b[0mprint\u001b[0m\u001b[0;34m(\u001b[0m\u001b[0mmin\u001b[0m\u001b[0;34m(\u001b[0m\u001b[0mmini\u001b[0m\u001b[0;34m)\u001b[0m\u001b[0;34m)\u001b[0m                                   \u001b[0;31m# 칠해야 하는 개수의 최소값\u001b[0m\u001b[0;34m\u001b[0m\u001b[0;34m\u001b[0m\u001b[0m\n\u001b[0m",
            "\u001b[0;31mValueError\u001b[0m: min() arg is an empty sequence"
          ]
        }
      ]
    },
    {
      "cell_type": "code",
      "source": [
        "# 1037번 약수\n",
        "# 양수 A가 N의 진짜 약수가 되려면, N이 A의 배수이고, A가 1과 N이 아니어야 한다.\n",
        "# N이 A의 배수 = N % A == 0\n",
        "\n",
        "N = int(input()) # N <= 50 진짜 약수의 개수\n",
        "\n",
        "num = map(int, input().split())\n",
        "num = sorted(num)\n",
        "\n",
        "if N == 1:\n",
        "    if not num == 0:\n",
        "        print(num[0]**2)\n",
        "else:\n",
        "    result = num[0] * num[-1]\n",
        "    print(result)"
      ],
      "metadata": {
        "colab": {
          "base_uri": "https://localhost:8080/"
        },
        "id": "Zfa0Jbr4tO67",
        "outputId": "60e39c83-8624-467e-bb6b-f32a0055b61f"
      },
      "execution_count": null,
      "outputs": [
        {
          "output_type": "stream",
          "name": "stdout",
          "text": [
            "14\n",
            "14 26456 2 28 13228 3307 7 23149 8 6614 46298 56 4 92596\n",
            "185192\n"
          ]
        }
      ]
    },
    {
      "cell_type": "code",
      "source": [
        "# 2525번 오븐 시계\n",
        "\n",
        "hour, minute = map(int, input().split()) # 현재 시각\n",
        "time = int(input()) # 요리에 필요한 시간\n",
        "\n",
        "if 0 <= hour <= 23 and 0 <= minute <= 59 and 0 <= time <= 1000:\n",
        "    if minute + time >= 60:\n",
        "        a, b = divmod(minute + time, 60)\n",
        "        \n",
        "        if hour + a >= 24:\n",
        "            c, d = divmod(hour + a, 24)\n",
        "            print(d, b)\n",
        "\n",
        "        else:\n",
        "            print(hour + a, b)\n",
        "\n",
        "    else:\n",
        "        print(hour, minute + time)"
      ],
      "metadata": {
        "colab": {
          "base_uri": "https://localhost:8080/"
        },
        "id": "dHZTT-SUojBd",
        "outputId": "222f358a-3abb-4063-ab9b-657b855f43eb"
      },
      "execution_count": null,
      "outputs": [
        {
          "output_type": "stream",
          "name": "stdout",
          "text": [
            "23 48\n",
            "1000\n",
            "16 28\n"
          ]
        }
      ]
    },
    {
      "cell_type": "code",
      "source": [
        "# 2480번 주사위 세개\n",
        "\n",
        "a, b, c = map(int, input().split())\n",
        "\n",
        "if 0 < a <= 6 and 0 < b <= 6 and 0 < c <= 6:\n",
        "    if a == b == c: # 같은눈 3개\n",
        "        reward1 = 10000 + (a*1000) ;print(reward1)\n",
        "\n",
        "    elif a == b or b == c or a == c: # 같은눈 2개\n",
        "        if a == b:\n",
        "            reward2 = 1000  + (a*100) ;print(reward2)\n",
        "        elif b == c:\n",
        "            reward2 = 1000  + (b*100) ;print(reward2)\n",
        "        elif a == c:\n",
        "            reward2 = 1000  + (a*100) ;print(reward2)\n",
        "    elif a != b != c != a: # 모두 다를 때\n",
        "        if a > b > c or a > c > b:\n",
        "            reward3 = a*100 ;print(reward3)\n",
        "        if b > a > c or b > c > a:\n",
        "            reward3 = b*100 ;print(reward3)\n",
        "        if c > a > b or c > b > a:\n",
        "            reward3 = c*100 ;print(reward3)"
      ],
      "metadata": {
        "colab": {
          "base_uri": "https://localhost:8080/"
        },
        "id": "Y4_c7qPMuyKn",
        "outputId": "3c7e747e-f6a1-4f58-ca0f-5f0cab5b65a1"
      },
      "execution_count": null,
      "outputs": [
        {
          "output_type": "stream",
          "name": "stdout",
          "text": [
            "1 2 1\n",
            "1100\n"
          ]
        }
      ]
    },
    {
      "cell_type": "code",
      "source": [
        "# 3046번 R2\n",
        "\n",
        "R1, S = map(int, input().split())\n",
        "\n",
        "if -1000 <= R1 <= 1000 and -1000 <= S <= 1000:\n",
        "    R2 = (2*S) - R1\n",
        "    print(R2)"
      ],
      "metadata": {
        "id": "O7XITMsgB23A",
        "colab": {
          "base_uri": "https://localhost:8080/"
        },
        "outputId": "ebb23058-027e-4d31-8bfa-e59a9810fdf6"
      },
      "execution_count": null,
      "outputs": [
        {
          "output_type": "stream",
          "name": "stdout",
          "text": [
            "4 3\n",
            "2\n"
          ]
        }
      ]
    },
    {
      "cell_type": "code",
      "source": [
        "# 5522번 카드 게임\n",
        "\n",
        "sum_li = []\n",
        "for i in range(5):\n",
        "    num = int(input())\n",
        "    if 0 <= num <= 100:\n",
        "        sum_li.append(num)\n",
        "num_sum = sum(sum_li)\n",
        "print(num_sum)"
      ],
      "metadata": {
        "colab": {
          "base_uri": "https://localhost:8080/"
        },
        "id": "R0wO82DVSqV9",
        "outputId": "bcff398d-bcec-4b6b-8b7d-f1c64452bf7f"
      },
      "execution_count": null,
      "outputs": [
        {
          "output_type": "stream",
          "name": "stdout",
          "text": [
            "1\n",
            "2\n",
            "3\n",
            "4\n",
            "5\n",
            "15\n"
          ]
        }
      ]
    },
    {
      "cell_type": "code",
      "source": [
        "# 5554번 심부름 가는 길\n",
        "\n",
        "# 집 -> 학교 -> PC방 -> 학원 -> 집\n",
        "\n",
        "li = []\n",
        "for i in range(4):\n",
        "    minutes = int(input())\n",
        "    li.append(minutes)\n",
        "x, y = divmod(sum(li), 60)\n",
        "print(x)\n",
        "print(y)"
      ],
      "metadata": {
        "colab": {
          "base_uri": "https://localhost:8080/"
        },
        "id": "-SYqVYphSsJz",
        "outputId": "0d790f3b-bb57-4dab-c305-2c6a2b9b97ad"
      },
      "execution_count": null,
      "outputs": [
        {
          "output_type": "stream",
          "name": "stdout",
          "text": [
            "316\n",
            "643\n",
            "430\n",
            "1253\n",
            "44\n",
            "2\n"
          ]
        }
      ]
    },
    {
      "cell_type": "code",
      "source": [
        "# 2920번 음계\n",
        "a = list(map(int, input().split()))\n",
        "\n",
        "if a == sorted(a):\n",
        "    print('ascending')\n",
        "elif a == sorted(a, reverse=True):\n",
        "    print('descending')\n",
        "else:\n",
        "    print('mixed')"
      ],
      "metadata": {
        "colab": {
          "base_uri": "https://localhost:8080/"
        },
        "id": "_Cy1o_TVsHO2",
        "outputId": "ebd724f4-fc62-438a-ed5e-0281de1e437f"
      },
      "execution_count": null,
      "outputs": [
        {
          "output_type": "stream",
          "name": "stdout",
          "text": [
            "8 1 7 2 6 3 5 4\n",
            "mixed\n"
          ]
        }
      ]
    },
    {
      "cell_type": "code",
      "source": [
        "# 1085번 직사각형에서 탈출\n",
        "\n",
        "x, y, w, h = map(int, input().split())\n",
        "\n",
        "print(min(w-x, h-y, x-0, y-0))"
      ],
      "metadata": {
        "colab": {
          "base_uri": "https://localhost:8080/"
        },
        "id": "7e_EE2qa5Q6U",
        "outputId": "8c6730ea-c9c9-48d6-bfc2-a269fe1a48c9"
      },
      "execution_count": null,
      "outputs": [
        {
          "output_type": "stream",
          "name": "stdout",
          "text": [
            "653 375 1000 1000\n",
            "347\n"
          ]
        }
      ]
    },
    {
      "cell_type": "code",
      "source": [
        "a = 1.5//2 ; print(a)"
      ],
      "metadata": {
        "colab": {
          "base_uri": "https://localhost:8080/"
        },
        "id": "tz61uk3ik7Zh",
        "outputId": "94fa6b0c-f083-4930-e0d2-55db92fcfbb1"
      },
      "execution_count": null,
      "outputs": [
        {
          "output_type": "stream",
          "name": "stdout",
          "text": [
            "0.0\n"
          ]
        }
      ]
    },
    {
      "cell_type": "code",
      "source": [
        "a = int(input())\n",
        "b = int(input())\n",
        "\n",
        "if 0 <= a <= 10**100:\n",
        "    d = a//2 - b//2\n",
        "    x = a - d \n",
        "    print(x)\n",
        "    print(d)"
      ],
      "metadata": {
        "colab": {
          "base_uri": "https://localhost:8080/"
        },
        "id": "dtThCMLIjdHr",
        "outputId": "f134ca5f-abda-4949-d544-417e82ae76d2"
      },
      "execution_count": null,
      "outputs": [
        {
          "output_type": "stream",
          "name": "stdout",
          "text": [
            "10\n",
            "2\n",
            "6\n",
            "4\n"
          ]
        }
      ]
    },
    {
      "cell_type": "code",
      "source": [
        "word = '''NFC West       W   L  T\n",
        "-----------------------\n",
        "Seattle        13  3  0\n",
        "San Francisco  12  4  0\n",
        "Arizona        10  6  0\n",
        "St. Louis      7   9  0\n",
        "\n",
        "NFC North      W   L  T\n",
        "-----------------------\n",
        "Green Bay      8   7  1\n",
        "Chicago        8   8  0\n",
        "Detroit        7   9  0\n",
        "Minnesota      5  10  1'''\n",
        "print(word)"
      ],
      "metadata": {
        "colab": {
          "base_uri": "https://localhost:8080/"
        },
        "id": "UsUtxq2Qmd34",
        "outputId": "e77591ec-9f76-4099-b1ac-ec9c16d36b17"
      },
      "execution_count": null,
      "outputs": [
        {
          "output_type": "stream",
          "name": "stdout",
          "text": [
            "NFC West       W   L  T\n",
            "-----------------------\n",
            "Seattle        13  3  0\n",
            "San Francisco  12  4  0\n",
            "Arizona        10  6  0\n",
            "St. Louis      7   9  0\n",
            "\n",
            "NFC North      W   L  T\n",
            "-----------------------\n",
            "Green Bay      8   7  1\n",
            "Chicago        8   8  0\n",
            "Detroit        7   9  0\n",
            "Minnesota      5  10  1\n"
          ]
        }
      ]
    },
    {
      "cell_type": "code",
      "source": [
        "N, M, K = map(int, input().split())\n",
        "a, b = divmod(K, M)\n",
        "print(a, b)"
      ],
      "metadata": {
        "colab": {
          "base_uri": "https://localhost:8080/"
        },
        "id": "dbplakkSmd8l",
        "outputId": "7a4fecc6-8df7-4be5-8dc2-c4e5baeaf526"
      },
      "execution_count": null,
      "outputs": [
        {
          "output_type": "stream",
          "name": "stdout",
          "text": [
            "6 4 14\n",
            "3 2\n"
          ]
        }
      ]
    },
    {
      "cell_type": "code",
      "source": [
        "# 17256번 달달함이 넘쳐흘러\n",
        "\n",
        "ax, ay, az = map(int, input().split())\n",
        "cx, cy, cz = map(int, input().split())\n",
        "arr = (cx - az, cy//ay, cz - ax)\n",
        "print(arr[0], arr[1], arr[2])"
      ],
      "metadata": {
        "id": "3dmAAyg31Uxm",
        "colab": {
          "base_uri": "https://localhost:8080/"
        },
        "outputId": "76e2790f-0ca8-47b0-82e5-6dabbf0c69aa"
      },
      "execution_count": null,
      "outputs": [
        {
          "output_type": "stream",
          "name": "stdout",
          "text": [
            "15 16 17\n",
            "19 32 90\n",
            "2 2 75\n"
          ]
        }
      ]
    },
    {
      "cell_type": "code",
      "source": [
        "# a, b, c, d, e, f = list(map(int, input().split()))\n",
        "n, m = map(int, input().split())\n",
        "a = int(input())\n",
        "b = int(input())\n",
        "print(a*b)"
      ],
      "metadata": {
        "colab": {
          "base_uri": "https://localhost:8080/"
        },
        "id": "b1tuGJ78bzYn",
        "outputId": "0f14a181-87bc-45f4-c5ec-3a718c79caab"
      },
      "execution_count": null,
      "outputs": [
        {
          "output_type": "stream",
          "name": "stdout",
          "text": [
            "0 0 0 23 3 100\n",
            "630\n"
          ]
        }
      ]
    },
    {
      "cell_type": "code",
      "source": [
        "a, b, c = map(int, input().split())\n",
        "if 50 <= a <= 200 and 50 <= b <= 200 and 50 <= c <= 200:\n",
        "    C4, A3, A4, = 74.196, 124.74, 62.37\n",
        "    result = a*2*C4 + b*2*A3 + c*A4\n",
        "    print(round(result/1000, 7))\n",
        "    # 120 90 70"
      ],
      "metadata": {
        "colab": {
          "base_uri": "https://localhost:8080/"
        },
        "id": "9IXKmXrOssH2",
        "outputId": "5d94d150-a4bc-4088-90df-f7d66a43736d"
      },
      "execution_count": null,
      "outputs": [
        {
          "output_type": "stream",
          "name": "stdout",
          "text": [
            "120 90 70\n",
            "44.62614\n"
          ]
        }
      ]
    },
    {
      "cell_type": "code",
      "source": [
        "x = ['ia', 'ew', 'a', 'ib', 'c']\n",
        "y = sorted(x)\n",
        "y"
      ],
      "metadata": {
        "colab": {
          "base_uri": "https://localhost:8080/"
        },
        "id": "GC7M4WnpklC0",
        "outputId": "d9e09c61-b60c-4b5f-c931-c9db9f6d54ec"
      },
      "execution_count": null,
      "outputs": [
        {
          "output_type": "execute_result",
          "data": {
            "text/plain": [
              "['a', 'c', 'ew', 'ia', 'ib']"
            ]
          },
          "metadata": {},
          "execution_count": 14
        }
      ]
    },
    {
      "cell_type": "code",
      "source": [
        "# 1181번 단어 정렬\n",
        "# sort함수에 key 파라미터로 길이 순으로 정렬가능!!\n",
        "N = int(input())\n",
        "\n",
        "word_li = []\n",
        "for i in range(N):\n",
        "    word = str(input())\n",
        "    word_li.append((len(word), word))\n",
        "\n",
        "word_li = list(set(word_li))\n",
        "\n",
        "word_li = sorted(word_li, key=lambda x: (x[0],x[1]))\n",
        "for _, word in word_li:\n",
        "    print(word)"
      ],
      "metadata": {
        "colab": {
          "base_uri": "https://localhost:8080/"
        },
        "id": "oZUZHF4A09Vj",
        "outputId": "1f3c6181-36b3-46b2-ddef-df65688849d5"
      },
      "execution_count": null,
      "outputs": [
        {
          "output_type": "stream",
          "name": "stdout",
          "text": [
            "3\n",
            "i\n",
            "im\n",
            "p\n",
            "i\n",
            "p\n",
            "im\n"
          ]
        }
      ]
    },
    {
      "cell_type": "code",
      "source": [
        "# 1259번 팰린드롬수\n",
        "\n",
        "li = []\n",
        "while True:\n",
        "    word = str(input())\n",
        "    if word == '0':\n",
        "        break\n",
        "        \n",
        "    if 1 <= word <= 99999:\n",
        "        li.append(word)\n",
        "\n",
        "for i in li:\n",
        "    if len(i)%2 == 0:\n",
        "        if i[0] == i[-1] and i[1] == i[-2]:\n",
        "            print(\"yes\")\n",
        "        else:\n",
        "            print(\"no\")\n",
        "    else:\n",
        "        if len(i) >= 3 and i[0] == i[-1] and i[1] == i[-2]:\n",
        "            print(\"yes\")\n",
        "        else:\n",
        "            print(\"no\")"
      ],
      "metadata": {
        "colab": {
          "base_uri": "https://localhost:8080/"
        },
        "id": "zjlsZ3xDssLq",
        "outputId": "1260c7ef-e687-4744-8c3c-5ef691fbda62"
      },
      "execution_count": null,
      "outputs": [
        {
          "output_type": "stream",
          "name": "stdout",
          "text": [
            "1\n",
            "0\n",
            "no\n"
          ]
        }
      ]
    },
    {
      "cell_type": "code",
      "source": [
        "# 1259번 팰린드롬수\n",
        "\n",
        "while True:\n",
        "    word = str(input())\n",
        "    if word == '0':\n",
        "        break\n",
        "    \n",
        "    if word == word[::-1]:\n",
        "        print(\"yes\")\n",
        "    else:\n",
        "        print(\"no\")"
      ],
      "metadata": {
        "colab": {
          "base_uri": "https://localhost:8080/"
        },
        "id": "CAWK_a953CP7",
        "outputId": "2e747107-043b-44b7-fd7d-6b13739838b4"
      },
      "execution_count": null,
      "outputs": [
        {
          "name": "stdout",
          "output_type": "stream",
          "text": [
            "121\n",
            "yes\n",
            "1231\n",
            "no\n",
            "0\n"
          ]
        }
      ]
    },
    {
      "cell_type": "code",
      "source": [
        "a = 5666\n",
        "print('666' in str(a))"
      ],
      "metadata": {
        "colab": {
          "base_uri": "https://localhost:8080/"
        },
        "id": "ZD380JW58wng",
        "outputId": "388ab1ec-f9e3-477a-b1b1-df2e4edcb70d"
      },
      "execution_count": null,
      "outputs": [
        {
          "output_type": "stream",
          "name": "stdout",
          "text": [
            "True\n"
          ]
        }
      ]
    },
    {
      "cell_type": "code",
      "source": [
        "# 1436번 영화감독 숌\n",
        "n = int(input())\n",
        "\n",
        "num = 666\n",
        "cnt = 0\n",
        "\n",
        "while True:\n",
        "    if '666' in str(num):\n",
        "        cnt += 1\n",
        "\n",
        "    if n == cnt:\n",
        "        print(num)\n",
        "        break\n",
        "    num +=1"
      ],
      "metadata": {
        "colab": {
          "base_uri": "https://localhost:8080/"
        },
        "id": "09P4tsb--ZED",
        "outputId": "32246e72-27f2-4410-9716-93f9d887fde8"
      },
      "execution_count": null,
      "outputs": [
        {
          "output_type": "stream",
          "name": "stdout",
          "text": [
            "500\n",
            "166699\n"
          ]
        }
      ]
    },
    {
      "cell_type": "code",
      "source": [
        "# 1654번 랜선 자르기\n",
        "k, n = map(int, input().split())\n",
        "\n",
        "length = []\n",
        "for _ in range(k):\n",
        "    length.append(int(input()))\n",
        "\n",
        "x, y = divmod(sum(length), n)\n",
        "print(x, y)\n"
      ],
      "metadata": {
        "colab": {
          "base_uri": "https://localhost:8080/"
        },
        "id": "zolGOEfeutH9",
        "outputId": "19a2634a-4328-4ad5-9cbc-b8b94f14449b"
      },
      "execution_count": null,
      "outputs": [
        {
          "output_type": "stream",
          "name": "stdout",
          "text": [
            "4 11\n",
            "802\n",
            "743\n",
            "457\n",
            "539\n",
            "231 0\n"
          ]
        }
      ]
    },
    {
      "cell_type": "code",
      "source": [
        "# 1297번 TV 크기\n",
        "D, H, W = map(int, input().split())\n",
        "\n",
        "a = ((D**2*H**2)/(H**2+W**2))**0.5\n",
        "b = (W/H)*a\n",
        "\n",
        "print(int(a), int(b))"
      ],
      "metadata": {
        "colab": {
          "base_uri": "https://localhost:8080/"
        },
        "id": "tiYot4VHExMY",
        "outputId": "258bc181-7bed-4db4-eb65-cfbdab1dca0f"
      },
      "execution_count": null,
      "outputs": [
        {
          "output_type": "stream",
          "name": "stdout",
          "text": [
            "7 2 3\n",
            "3.882901373576604\n",
            "3.882901373576604\n",
            "3 5\n"
          ]
        }
      ]
    },
    {
      "cell_type": "code",
      "source": [
        "N, M = map(int, input().split())\n",
        "\n",
        "result = abs(N-M)\n",
        "print(result)"
      ],
      "metadata": {
        "colab": {
          "base_uri": "https://localhost:8080/"
        },
        "id": "hx-fcUbBnFOP",
        "outputId": "15fcc64e-1a78-450a-c07b-2eb86070412c"
      },
      "execution_count": null,
      "outputs": [
        {
          "output_type": "stream",
          "name": "stdout",
          "text": [
            "-2 5\n",
            "7\n"
          ]
        }
      ]
    },
    {
      "cell_type": "code",
      "source": [
        "N = int(input())\n",
        "\n",
        "if 1 <= N \n",
        "num_li = []\n",
        "for i in range(N):\n",
        "    word = int(input())\n",
        "    num_li.append(word)\n",
        "\n",
        "num_li.sort()\n",
        "for num in num_li:\n",
        "    print(num)"
      ],
      "metadata": {
        "colab": {
          "base_uri": "https://localhost:8080/"
        },
        "id": "w2D7YCN1vrS0",
        "outputId": "b6975734-e580-490d-8119-2a1c80c533ab"
      },
      "execution_count": null,
      "outputs": [
        {
          "output_type": "stream",
          "name": "stdout",
          "text": [
            "5\n",
            "5\n",
            "4\n",
            "3\n",
            "2\n",
            "1\n",
            "1\n",
            "2\n",
            "3\n",
            "4\n",
            "5\n"
          ]
        }
      ]
    },
    {
      "cell_type": "code",
      "source": [
        "# 2530번 인공지능 시계\n",
        "hour, minute, time = map(int, input().split())\n",
        "data = int(input())\n",
        "if  (0 <= hour <= 23) and (0 <= minute <= 59) and (0 <= time <= 59) and (0 <= data <= 500,000):\n",
        "    x, y = divmod(data, )\n",
        "\n",
        "\n",
        "\n",
        "\n",
        "\n",
        "\n",
        "\n",
        "    # total = hour*3600 + minute*60 + time\n",
        "    # total = total + data\n",
        "\n",
        "    # x, y = divmod(total, 60)\n",
        "    # a, b = divmod(x, 60)\n",
        "    # if a == 24:\n",
        "    #     print(\"0\", b, y)\n",
        "    # else:\n",
        "    #     print(a, b, y)"
      ],
      "metadata": {
        "colab": {
          "base_uri": "https://localhost:8080/"
        },
        "id": "m0AWvVanzHgq",
        "outputId": "f54f85d7-8376-4eb9-a13d-b3aff55aec0d"
      },
      "execution_count": null,
      "outputs": [
        {
          "output_type": "stream",
          "name": "stdout",
          "text": [
            "14 30 0\n",
            "200\n",
            "0\n"
          ]
        }
      ]
    },
    {
      "cell_type": "code",
      "source": [
        "# 2530번 인공지능 시계\n",
        "\n",
        "hour, minute, time= map(int, input().split()) # 현재 시각\n",
        "data = int(input()) # 필요한 시간\n",
        "\n",
        "if  (0 <= hour <= 23) and (0 <= minute <= 59) and (0 <= time <= 59) and (0 <= data <= 500,000):\n",
        "    if time + data >= 60:\n",
        "        a, b = divmod(time + data, 60)\n",
        "        \n",
        "        if minute + a >= 60:\n",
        "            c, d = divmod(minute + a, 60)\n",
        "            \n",
        "            if hour+c >= 24:\n",
        "                hour = (hour+c) - 24\n",
        "                print(hour, d ,b)\n",
        "            else:\n",
        "                print(hour+c, d ,b)\n",
        "        else:\n",
        "            print(hour, minute+a, b)"
      ],
      "metadata": {
        "colab": {
          "base_uri": "https://localhost:8080/"
        },
        "id": "rCmqkphJzHkR",
        "outputId": "96a11f76-5b06-40bc-cd1f-22a63e17bade"
      },
      "execution_count": null,
      "outputs": [
        {
          "output_type": "stream",
          "name": "stdout",
          "text": [
            "17 40 45\n",
            "6015\n",
            "19 21 0\n"
          ]
        }
      ]
    },
    {
      "cell_type": "code",
      "source": [
        "# 2530번 인공지능 시계\n",
        "\n",
        "hour, minute, time= map(int, input().split()) # 현재 시각\n",
        "data = int(input()) # 필요한 시간\n",
        "\n",
        "time += data\n",
        "minute += time//60\n",
        "hour += minute//60\n",
        "\n",
        "time = time%60\n",
        "minute = minute%60\n",
        "hour = hour%24\n",
        "print(hour, minute, time)"
      ],
      "metadata": {
        "colab": {
          "base_uri": "https://localhost:8080/"
        },
        "id": "Edphidlj5dG9",
        "outputId": "a891c54c-d891-4634-d3f8-3cc55040fb20"
      },
      "execution_count": null,
      "outputs": [
        {
          "output_type": "stream",
          "name": "stdout",
          "text": [
            "17 40 45\n",
            "6015\n",
            "19 21 0\n"
          ]
        }
      ]
    },
    {
      "cell_type": "code",
      "source": [
        "# 3004번 체스판 조각\n",
        "a = int(input())\n",
        "\n",
        "if a%2 == 0:\n",
        "    print((a//2 + 1)*(a//2 + 1))\n",
        "else:\n",
        "    print((a//2 + 1)*(a//2 + 2))"
      ],
      "metadata": {
        "colab": {
          "base_uri": "https://localhost:8080/"
        },
        "id": "1OQ3br62F-kp",
        "outputId": "a4b0b538-296d-453b-c716-1047abe440bb"
      },
      "execution_count": null,
      "outputs": [
        {
          "output_type": "stream",
          "name": "stdout",
          "text": [
            "7\n",
            "20\n"
          ]
        }
      ]
    },
    {
      "cell_type": "code",
      "source": [
        "s = 3\n",
        "m = 1\n",
        "bool((s+m)%2)"
      ],
      "metadata": {
        "colab": {
          "base_uri": "https://localhost:8080/"
        },
        "id": "cQDcmOkGhfIt",
        "outputId": "747b8cf7-56f7-41ae-f9e4-a406c8836c58"
      },
      "execution_count": null,
      "outputs": [
        {
          "output_type": "execute_result",
          "data": {
            "text/plain": [
              "False"
            ]
          },
          "metadata": {},
          "execution_count": 91
        }
      ]
    },
    {
      "cell_type": "code",
      "source": [
        "# 4299번 AFC 윔블던\n",
        "# 축구경기 점수 계산\n",
        "'''\n",
        "입력 = 첫째 줄에 두 팀 점수의 합과 차가 빈 칸으로 구분되어 주어진다.\n",
        "축구 점수는 항상 음이 아닌 정수이고, 합과 차는 1000보다 작거나 같은 음이 아닌 정수이다.\n",
        "출력 = 첫째 줄에 두 팀의 경기 결과를 출력한다. 득점을 많이 한 쪽을 먼저 출력한다.\n",
        "만약, 그러한 합과 차를 갖는 경기 결과가 없다면, -1을 출력한다.\n",
        "'''\n",
        "\n",
        "a, b = map(int, input().split()) # a=합, b=차\n",
        "\n",
        "if a+b < 0 or a-b < 0 or (a+b)%2: # 축구경기 점수는 항상 양의 정수(소숫점,음수 x) 이므로\n",
        "                                  # 음수가 나오거나 or 두 수의 합에 2로 나눴을때 나머지가 있으면(소숫점 이라는 뜻) -1 출력\n",
        "    print('-1')\n",
        "else:\n",
        "    y = (a-b)//2 # 연립방정식으로 계산하면 나옴\n",
        "    x = a-y\n",
        "    print(max(x, y), min(x, y)) # 두 수중 높은 수 먼저 출력"
      ],
      "metadata": {
        "colab": {
          "base_uri": "https://localhost:8080/"
        },
        "id": "CFjr3xp6Wb4c",
        "outputId": "eae7d14b-5e8c-42d4-df95-a5c51e68732a"
      },
      "execution_count": null,
      "outputs": [
        {
          "output_type": "stream",
          "name": "stdout",
          "text": [
            "3 1\n",
            "2 1\n"
          ]
        }
      ]
    },
    {
      "cell_type": "code",
      "source": [
        "N = int(input())\n",
        "li = []\n",
        "for i in range(N):\n",
        "    words = str(input())\n",
        "    li.append(words)\n",
        "for word in words:\n",
        "    for i in range(len(words)):\n",
        "        print(i)\n",
        "# z_li = []\n",
        "# for i in li:\n",
        "#     for j in range(len(i)-1):\n",
        "#         print(i[j+1])\n",
        "#         # if i[j] != i[j+1]:\n",
        "#         #     print(])"
      ],
      "metadata": {
        "id": "o_U5Opwbkttu",
        "colab": {
          "base_uri": "https://localhost:8080/"
        },
        "outputId": "d5efc134-f298-49e1-96c9-b8921202bf73"
      },
      "execution_count": null,
      "outputs": [
        {
          "output_type": "stream",
          "name": "stdout",
          "text": [
            "2\n",
            "abc\n",
            "abd\n",
            "0\n",
            "1\n",
            "2\n",
            "0\n",
            "1\n",
            "2\n",
            "0\n",
            "1\n",
            "2\n"
          ]
        }
      ]
    },
    {
      "cell_type": "code",
      "source": [
        "# 5532번 방학 숙제\n",
        "'''방학은 총 L일이다. 수학은 총 B페이지, 국어는 총 A페이지를 풀어야 한다.\n",
        "상근이는 하루에 국어를 최대 C페이지, 수학을 최대 D페이지 풀 수 있다.\n",
        "상근이가 겨울 방학동안 숙제를 하지 않고 놀 수 있는 최대 날의 수를\n",
        "구하는 프로그램을 작성하시오.'''\n",
        "\n",
        "L = int(input()) # 방학일수\n",
        "A = int(input()) # 국어 총 페이지 수\n",
        "B = int(input()) # 수학 총 페이지 수\n",
        "C = int(input()) # [국어] 하루 최대 풀수있는 페이지\n",
        "D = int(input()) # [수학] 하루 최대 풀수있는 페이지\n",
        "\n",
        "if (A%C) == 0: # ex) 국어 24페이지를 하루 최대 6페이지를 풀수있다고 하면\n",
        "               #     4일간 다 풀수있다.\n",
        "    a = (A//C)\n",
        "else: # ex) 국어 26페이지를 하루 최대 6페이지를 풀수있다고 하면\n",
        "      #     4일 하고 2페이지가 남았기때문에 하루를 더 해야한다.\n",
        "    a = (A//C) + 1 # 그래서 +1을 해준거임\n",
        "\n",
        "if (B%D) == 0:\n",
        "    b = (B//D)\n",
        "else:\n",
        "    b = B//D + 1\n",
        "\n",
        "print(L - max(a,b))"
      ],
      "metadata": {
        "colab": {
          "base_uri": "https://localhost:8080/",
          "height": 163
        },
        "id": "TAPHCCEx_n55",
        "outputId": "d35d70a7-5f4f-4f02-a4c7-1ca92a65727b"
      },
      "execution_count": null,
      "outputs": [
        {
          "output_type": "stream",
          "name": "stdout",
          "text": [
            "15\n",
            "32\n",
            "48\n",
            "4\n",
            "6\n",
            "8 8\n",
            "7\n"
          ]
        },
        {
          "output_type": "execute_result",
          "data": {
            "text/plain": [
              "'\\n123456\\n789101112\\n131415161718\\n19 20 21 22 23 24\\n25\\n'"
            ],
            "application/vnd.google.colaboratory.intrinsic+json": {
              "type": "string"
            }
          },
          "metadata": {},
          "execution_count": 12
        }
      ]
    },
    {
      "cell_type": "code",
      "source": [
        "# 5543번 상근날드\n",
        "'''\n",
        "자신이 원하는 햄버거와 음료를 하나씩 골라, 세트로 구매하면,\n",
        "가격의 합계에서 50원을 뺀 가격이 세트 메뉴의 가격이 된다.\n",
        "햄버거는 총 3종류 상덕버거, 중덕버거, 하덕버거가 있고, 음료는 콜라와 사이다 두 종류가 있다.\n",
        "햄버거와 음료의 가격이 주어졌을 때, 가장 싼 세트 메뉴의 가격을 출력하는 프로그램을 작성하시오.\n",
        "입력은 총 다섯 줄이다. 첫째 줄에는 상덕버거, 둘째 줄에는 중덕버거, 셋째 줄에는 하덕버거의 가격이 주어진다.\n",
        "넷째 줄에는 콜라의 가격, 다섯째 줄에는 사이다의 가격이 주어진다. 모든 가격은 100원 이상, 2000원 이하이다.\n",
        "'''\n",
        "\n",
        "burger = [] #벅어\n",
        "drink = [] #드링끄\n",
        "\n",
        "cnt = 0\n",
        "for _ in range(5): # 종류가 5개 이니까 \n",
        "    cnt += 1 #루프문 돌때마다 cnt + 1씩 ex) 1, 2, 3, 4, 5가 나옴\n",
        "    if cnt < 4: # 3번째 루프문 까지 입력한 수는 벅어에 넣음\n",
        "        burger.append(int(input()))\n",
        "    else: # 4번째부터는 드링크\n",
        "        drink.append(int(input()))\n",
        "\n",
        "li = []\n",
        "for i in burger: # 벅어 불러오기\n",
        "    for j in drink: # 료수도 불러오기 벅어 3개 료수 2개니까 총 print 해보면 6줄이 나옴\n",
        "        result = i + j # 첫번째 벅어 값 + 첫번째 음료 값 ex)1 벅어 + 1음료 -> 1 벅어 + 1음료 (3 벅어까지)\n",
        "        li.append(result-50) # 결과값 출력\n",
        "print(min(li)) # 가장 싼 값이라서 min "
      ],
      "metadata": {
        "colab": {
          "base_uri": "https://localhost:8080/"
        },
        "id": "cyhpWtAvhd5f",
        "outputId": "7fbdc8e8-5977-4326-f186-36fbe394d646"
      },
      "execution_count": null,
      "outputs": [
        {
          "output_type": "stream",
          "name": "stdout",
          "text": [
            "1999\n",
            "1999\n",
            "100\n",
            "189\n",
            "100\n",
            "150\n"
          ]
        }
      ]
    },
    {
      "cell_type": "code",
      "source": [
        "# 5575번 타임 카드\n",
        "'''\n",
        "보안상의 이유로 직원들의 출근 시간은 7시 이후이다. 또한, 모든 직원은 23시 이전에 퇴근한다.\n",
        "직원의 퇴근 시간은 항상 출근 시간보다 늦다.\n",
        "입력으로 JOI 상사의 3 명의 직원 A 씨, B 씨, C 씨의 출근 시간과 퇴근 시간이\n",
        "주어 졌을 때 각 직원의 근무시간을 계산하는 프로그램을 작성하라.\n",
        "\n",
        "입력은 3 행으로 구성된다.\n",
        "첫 번째 줄에는 A 씨의 출근 시간과 퇴근 시간,\n",
        "두 번째 줄에는 B 씨의 출근 시간과 퇴근 시간,\n",
        "세 번째 줄에는 C 씨의 출근 시간과 퇴근 시간이 각각 공백으로 구분되어 있다.\n",
        "'''\n",
        "\n",
        "i = 0\n",
        "while True:\n",
        "    a1, a2, a3, b1, b2, b3 = map(int, input().split())\n",
        "#a1 a2 a3 = 출근시간 (a1시 a1분 a3초), b1 b2 b3 = 퇴근시간\n",
        "    if b3-a3 >= 0: # 퇴-출 초끼리 뺏을때 양수면\n",
        "        if b2-a2 >= 0 : # 또한 퇴-출 분끼리 뺏을때 양수면\n",
        "            print(b1-a1, b2-a2, b3-a3) \n",
        "        else: # 퇴-출 분끼리 뺏을때 음수면\n",
        "            b1 -= 1 # 퇴 시 -1\n",
        "            b2 += 60 # 퇴 분 +60\n",
        "            print(b1-a1, b2-a2, b3-a3)\n",
        "    else: # 퇴-출 초끼리 뺏을때 음수면\n",
        "        b3 += 60 # 퇴 분 + 60\n",
        "        b2 -= 1 # 퇴 시 -1\n",
        "        if b2-a2 >= 0: # 또한 퇴-출 분끼리 뺏을때 양수면\n",
        "            print(b1-a1, b2-a2, b3-a3)\n",
        "        else: # 음수면\n",
        "            b1 -= 1 # 퇴 시 -1\n",
        "            b2 += 60 # 퇴 분 +60\n",
        "            print(b1-a1, b2-a2, b3-a3)\n",
        "\n",
        "    i += 1\n",
        "    if i > 2: # 3번 반복하면 \n",
        "        break # 반복문 중단"
      ],
      "metadata": {
        "colab": {
          "base_uri": "https://localhost:8080/"
        },
        "id": "uNMHrS8m28UC",
        "outputId": "e89e28ee-91f3-4da4-ade9-3ee53f10f8fd"
      },
      "execution_count": null,
      "outputs": [
        {
          "output_type": "stream",
          "name": "stdout",
          "text": [
            "9 0 0 18 0 0\n",
            "9 0 0\n",
            "9 0 1 18 0 0\n",
            "8 59 59\n",
            "12 14 52 12 15 30\n",
            "0 0 38\n"
          ]
        }
      ]
    },
    {
      "cell_type": "code",
      "source": [
        "# 5596번 시험 점수\n",
        "a = list(map(int, input().split()))\n",
        "b = list(map(int, input().split()))\n",
        "S, T = sum(a), sum(b)\n",
        "if S == T:\n",
        "    print(S)\n",
        "else:\n",
        "    print(max(S, T))"
      ],
      "metadata": {
        "colab": {
          "base_uri": "https://localhost:8080/"
        },
        "id": "tggYNfdy9L2X",
        "outputId": "7827296c-4890-4da5-9676-8d0ef51b9405"
      },
      "execution_count": null,
      "outputs": [
        {
          "output_type": "stream",
          "name": "stdout",
          "text": [
            "100 80 70 60\n",
            "80 70 80 90\n",
            "320\n"
          ]
        }
      ]
    },
    {
      "cell_type": "code",
      "source": [
        "# 5893번 17배\n",
        "N = int(input())\n",
        "N = int(str(N), 2)\n",
        "N = N*17\n",
        "answer = bin(N) ; print(answer[2:])"
      ],
      "metadata": {
        "colab": {
          "base_uri": "https://localhost:8080/"
        },
        "id": "bqmwh9wRCrP4",
        "outputId": "1be53189-3ccd-49ed-e96b-be2dbbad100f"
      },
      "execution_count": null,
      "outputs": [
        {
          "output_type": "stream",
          "name": "stdout",
          "text": [
            "10110111\n",
            "110000100111\n"
          ]
        }
      ]
    },
    {
      "cell_type": "code",
      "source": [
        "D, H, M = map(int, input().split())\n",
        "temp = 11*60*24 + 11*60 + 11\n",
        "temp2 = D*60*24 + H*60 + M\n",
        "\n",
        "t = temp2 - temp\n",
        "if t < 0:\n",
        "    print('-1')\n",
        "else:\n",
        "    print(t)"
      ],
      "metadata": {
        "colab": {
          "base_uri": "https://localhost:8080/"
        },
        "id": "0AZtkrGTESX5",
        "outputId": "273d6e4d-85fc-4155-825a-87bcdfd0c5b3"
      },
      "execution_count": null,
      "outputs": [
        {
          "output_type": "stream",
          "name": "stdout",
          "text": [
            "12 13 14\n",
            "1563\n"
          ]
        }
      ]
    },
    {
      "cell_type": "code",
      "source": [
        "#2164번 카드2\n",
        "# 시간초과 뜸\n",
        "# from collections import deque 을 사용하라는데 처음보는 모듈이라서 패스;;\n",
        "n = int(input())\n",
        "n_li = []\n",
        "for i in range(1, n+1):\n",
        "    n_li.append(i)\n",
        "\n",
        "while True:\n",
        "    \n",
        "    del n_li[0]\n",
        "    temp = n_li[0]\n",
        "    \n",
        "    n_li = n_li[1:]\n",
        "    \n",
        "    n_li.append(temp)\n",
        "    \n",
        "    if len(n_li) == 1:\n",
        "        print(n_li[0])\n",
        "        break"
      ],
      "metadata": {
        "id": "TcmSxQfMIiHv",
        "colab": {
          "base_uri": "https://localhost:8080/"
        },
        "outputId": "e94c51ad-670f-486c-bdfe-89fb0ac7c72c"
      },
      "execution_count": null,
      "outputs": [
        {
          "output_type": "stream",
          "name": "stdout",
          "text": [
            "10\n",
            "4\n"
          ]
        }
      ]
    },
    {
      "cell_type": "code",
      "source": [
        "# 10707번 수도요금\n",
        "\n",
        "A = int(input())\n",
        "B = int(input())\n",
        "C = int(input())\n",
        "D = int(input())\n",
        "P = int(input())\n",
        "\n",
        "x_company = P*A\n",
        "\n",
        "if P <= C:\n",
        "    y_company = B\n",
        "else:\n",
        "    y_company = B + ((P-C)*D)\n",
        "\n",
        "print(min(x_company, y_company))"
      ],
      "metadata": {
        "colab": {
          "base_uri": "https://localhost:8080/"
        },
        "id": "sSGWRjpgJRPK",
        "outputId": "3e368680-a17b-4220-9de4-5a2f6d7e2e56"
      },
      "execution_count": null,
      "outputs": [
        {
          "output_type": "stream",
          "name": "stdout",
          "text": [
            "9\n",
            "100\n",
            "20\n",
            "3\n",
            "10\n",
            "90\n"
          ]
        }
      ]
    },
    {
      "cell_type": "code",
      "source": [
        "# 10039번 평균 점수\n",
        "'''\n",
        "기말고사 점수가 40점 이상인 학생들은 그 점수 그대로 자신의 성적이 된다.\n",
        "하지만, 40점 미만인 학생들은 보충학습을 듣는 조건을 수락하면 40점을 받게 된다.\n",
        "보충학습은 거부할 수 없기 때문에, 40점 미만인 학생들은 항상 40점을 받게 된다.\n",
        "학생 5명의 점수가 주어졌을 때, 평균 점수를 구하는 프로그램을 작성하시오.\n",
        "'''\n",
        "score_li = []\n",
        "for i in range(5):\n",
        "    score = int(input())\n",
        "    if score >= 40:\n",
        "        score_li.append(score)\n",
        "    else:\n",
        "        a = 40\n",
        "        score_li.append(a)\n",
        "\n",
        "score_mean = sum(score_li) // len(score_li)\n",
        "print(score_mean)"
      ],
      "metadata": {
        "id": "UOi4ED4mJ5eO",
        "colab": {
          "base_uri": "https://localhost:8080/"
        },
        "outputId": "c30cbf54-3f63-4fc2-b8a6-9d629884343f"
      },
      "execution_count": null,
      "outputs": [
        {
          "output_type": "stream",
          "name": "stdout",
          "text": [
            "10\n",
            "65\n",
            "100\n",
            "30\n",
            "95\n",
            "68\n"
          ]
        }
      ]
    },
    {
      "cell_type": "code",
      "source": [
        "a = int(input())\n",
        "b = int(input())\n",
        "c = int(input())\n",
        "\n",
        "\n",
        "if (a+b+c) == 180:\n",
        "    if a != b and a != c and b != c:\n",
        "        print(\"Scalene\")\n",
        "    elif a == b == c == 60:\n",
        "        print(\"Equilateral\")\n",
        "    else:\n",
        "        print(\"Isosceles\")\n",
        "else:\n",
        "    print(\"Error\")\n",
        "\n",
        "# if (a+b+c) == 180:\n",
        "#     if a != b != c:\n",
        "#         print(\"Scalene\")\n",
        "#     elif (a != 60 and b != 60) and 180 - (a+b) == c or 180 - (a+c) == b or 180 - (b+c) == a:\n",
        "#         print(\"Isosceles\")\n",
        "#     elif a == 60 and b == 60 and c == 60:\n",
        "#         print(\"Equilateral\")\n",
        "# else:\n",
        "#     print(\"Error\")\n",
        "# if (a+b+c) % ((a+b+c)//3) == 0:\n",
        "#     print(\"Equilateral\")\n",
        "# elif "
      ],
      "metadata": {
        "colab": {
          "base_uri": "https://localhost:8080/"
        },
        "id": "IuoAwPgNMdwI",
        "outputId": "51e2609f-69c7-4198-b0b8-e0cad2b923a3"
      },
      "execution_count": null,
      "outputs": [
        {
          "output_type": "stream",
          "name": "stdout",
          "text": [
            "60\n",
            "60\n",
            "60\n",
            "Equilateral\n"
          ]
        }
      ]
    },
    {
      "cell_type": "code",
      "source": [
        "# 10156번 과자\n",
        "# 첫 번째 줄에는 과자 한 개의 가격 K,\n",
        "# 사려고 하는 과자의 개수 N, 현재 동수가 가진 돈 M이 각각 공백을 사이에 두고 주어진다\n",
        "\n",
        "K, N, M = map(int, input().split())\n",
        "if (K*N) - M <= 0:\n",
        "    print('0')\n",
        "else:\n",
        "    print((K*N) - M)"
      ],
      "metadata": {
        "colab": {
          "base_uri": "https://localhost:8080/"
        },
        "id": "0l7JdHjsrO9k",
        "outputId": "28a5d613-9741-461c-80ee-1535efa63471"
      },
      "execution_count": null,
      "outputs": [
        {
          "output_type": "stream",
          "name": "stdout",
          "text": [
            "20 6 120\n",
            "0\n"
          ]
        }
      ]
    },
    {
      "cell_type": "code",
      "source": [
        "# 10162번 전자레인지\n",
        "\n",
        "time = int(input())\n",
        "\n",
        "A = time // 300\n",
        "B = (time%300) // 60\n",
        "C = (time%300) % 60\n",
        "\n",
        "if (C%10) != 0:\n",
        "    print('-1')\n",
        "else:\n",
        "    print(A, B, C//10)"
      ],
      "metadata": {
        "colab": {
          "base_uri": "https://localhost:8080/"
        },
        "id": "DZsz1gsvyIiF",
        "outputId": "e826ac3c-5892-46db-a676-b748375d90f3"
      },
      "execution_count": null,
      "outputs": [
        {
          "output_type": "stream",
          "name": "stdout",
          "text": [
            "155\n",
            "-1\n"
          ]
        }
      ]
    },
    {
      "cell_type": "code",
      "source": [
        "a = int(input())\n",
        "car_num = list(map(int, input().split()))\n",
        "\n",
        "print(car_num.count(a))"
      ],
      "metadata": {
        "colab": {
          "base_uri": "https://localhost:8080/"
        },
        "id": "ZJV78kRE0_jc",
        "outputId": "90de2343-022e-4338-ceb0-e4560595c2a1"
      },
      "execution_count": null,
      "outputs": [
        {
          "output_type": "stream",
          "name": "stdout",
          "text": [
            "5\n",
            "1 3 0 7 4\n",
            "0\n"
          ]
        }
      ]
    },
    {
      "cell_type": "code",
      "source": [
        "month = int(input())\n",
        "day = int(input())\n",
        "\n",
        "if 1 <= month <= 12 and 1 <= day <= 31:\n",
        "    if month == 2 and day < 18 or month < 2:\n",
        "        print('Before')\n",
        "    elif month == 2 and day > 18 or month > 2:\n",
        "        print('After')\n",
        "    elif month == 2 and day == 18:\n",
        "        print('Special')"
      ],
      "metadata": {
        "colab": {
          "base_uri": "https://localhost:8080/"
        },
        "id": "rlSGvEwg7dK9",
        "outputId": "fe419329-ad80-4c26-d2bc-23e6f4f98e04"
      },
      "execution_count": null,
      "outputs": [
        {
          "output_type": "stream",
          "name": "stdout",
          "text": [
            "10\n",
            "10\n",
            "After\n"
          ]
        }
      ]
    },
    {
      "cell_type": "code",
      "source": [
        "# 11282번 한글\n",
        "a = int(input())\n",
        "print(chr(44031+a))"
      ],
      "metadata": {
        "colab": {
          "base_uri": "https://localhost:8080/"
        },
        "id": "sUlatnQg93e-",
        "outputId": "aef92156-a8aa-4279-d2cd-923a2a68496b"
      },
      "execution_count": null,
      "outputs": [
        {
          "output_type": "stream",
          "name": "stdout",
          "text": [
            "4146\n",
            "백\n"
          ]
        }
      ]
    },
    {
      "cell_type": "code",
      "source": [
        "# 1009번 분산처리\n",
        "\n",
        "case = int(input())\n",
        "for _ in range(case):\n",
        "    a, b = map(int, input().split())\n",
        "    a = a%10\n",
        "    if a==1 or a==5 or a==6:\n",
        "        print(a)\n",
        "    elif a==4 or a==9:\n",
        "        if b%2 == 0:\n",
        "            print(str(a**2)[-1])\n",
        "        else:\n",
        "            print(a)\n",
        "    elif a==2 or a==3 or a==7 or a==8:\n",
        "        if b%4 == 0:\n",
        "            temp = a**4\n",
        "            print(str(temp)[-1])\n",
        "        else:\n",
        "            temp =a**((b%4)) \n",
        "            print(str(temp)[-1])\n",
        "        # if b%4 == 0:\n",
        "        #     print(str(a**4)[-1])\n",
        "        # else:\n",
        "        #     temp = a**((b//4)+(b%4))\n",
        "        #     print(str(temp)[-1])\n",
        "\n",
        "        # if not b%4 == 0:\n",
        "        #     print(b%4)\n",
        "        #     print(a**(b%4))\n",
        "        #     print(str(a**(b%4))[-1])\n",
        "        # else:\n",
        "        #     temp = a**((b//4)+(b%4))\n",
        "        #     # print(a**((b%4)+1))\n",
        "        #     print(str(temp)[-1])\n",
        "    else:\n",
        "        print('10')"
      ],
      "metadata": {
        "colab": {
          "base_uri": "https://localhost:8080/"
        },
        "id": "r42rU1aP-wi-",
        "outputId": "78d06a4e-421e-4d48-e808-ed2f9904a41b"
      },
      "execution_count": null,
      "outputs": [
        {
          "output_type": "stream",
          "name": "stdout",
          "text": [
            "1\n",
            "44 10\n",
            "6\n"
          ]
        }
      ]
    },
    {
      "cell_type": "code",
      "source": [
        "a, b = map(int, input().split())\n",
        "c, d = map(int, input().split())\n",
        "\n",
        "print(min(a+d,b+c))"
      ],
      "metadata": {
        "colab": {
          "base_uri": "https://localhost:8080/"
        },
        "id": "0ql3T0hqeV68",
        "outputId": "e3c30852-a9a6-48e7-d8ad-3cc60d9fc6ed"
      },
      "execution_count": null,
      "outputs": [
        {
          "output_type": "stream",
          "name": "stdout",
          "text": [
            "1 0\n",
            "0 1\n",
            "0\n"
          ]
        }
      ]
    },
    {
      "cell_type": "code",
      "source": [
        "#11948번 과목선택\n",
        "'''\n",
        "JOI는 물리, 화학, 생물, 지구과학, 역사, 지리 총 6 과목의 시험을 봤다. 각 시험의 만점은 100점이다.\n",
        "JOI는 물리, 화학, 생물, 지구과학 4과목 중에서 3 과목을 선택하고 역사, 지리 2 과목 중에서 한 과목을 선택한다.\n",
        "시험 점수의 합이 가장 높게 나오도록 과목을 선택할 때, JOI가 선택한 과목의 시험 점수의 합을 구하시오.\n",
        "'''\n",
        "\n",
        "a_li = []\n",
        "b_li = []\n",
        "i = 0\n",
        "for _ in range(6):\n",
        "    i += 1\n",
        "    score = int(input())\n",
        "    if i <= 4:\n",
        "        a_li.append(score)\n",
        "    else:\n",
        "        b_li.append(score)\n",
        "\n",
        "a_li.remove(min(a_li)) # 가장 작은 수 제거\n",
        "b_li.remove(min(b_li))\n",
        "\n",
        "print(sum(a_li) + sum(b_li))"
      ],
      "metadata": {
        "colab": {
          "base_uri": "https://localhost:8080/"
        },
        "id": "1hAPvf7xYx-Y",
        "outputId": "e645d003-b57d-46aa-d96d-14408bf19542"
      },
      "execution_count": null,
      "outputs": [
        {
          "output_type": "stream",
          "name": "stdout",
          "text": [
            "15\n",
            "15\n",
            "15\n",
            "15\n",
            "15\n",
            "15\n",
            "[15, 15, 15]\n",
            "[15]\n",
            "60\n"
          ]
        }
      ]
    },
    {
      "cell_type": "code",
      "source": [
        "#13866번 팀 나누기\n",
        "\n",
        "a, b, c, d = map(int, input().split())\n",
        "\n",
        "x, y = a+d, b+c\n",
        "print(max(x, y) - min(x, y))"
      ],
      "metadata": {
        "colab": {
          "base_uri": "https://localhost:8080/"
        },
        "id": "JjoIdVoDbpHA",
        "outputId": "04385fb1-db2c-4913-a681-66d109950ae1"
      },
      "execution_count": null,
      "outputs": [
        {
          "output_type": "stream",
          "name": "stdout",
          "text": [
            "0 0 1 2\n",
            "1\n"
          ]
        }
      ]
    },
    {
      "cell_type": "code",
      "source": [
        "n = int(input())\n",
        "n_li = list(map(int, input().split()))\n",
        "\n",
        "print(n_li)\n",
        "cnt = 0\n",
        "y_cost = 10\n",
        "li = []\n",
        "while True:\n",
        "    cnt += 1\n",
        "    if cnt == n:\n",
        "        break\n",
        "\n",
        "    if cnt % 30 == 0:\n",
        "        y_cost += 10\n",
        "        print(y_cost)\n",
        "        li.append(y_cost)\n",
        "    else:\n",
        "        cnt % 30\n",
        "\n",
        "\n",
        "print(li)"
      ],
      "metadata": {
        "colab": {
          "base_uri": "https://localhost:8080/"
        },
        "id": "O0MM7988pdRe",
        "outputId": "2a274f10-1e49-4384-8dbd-2d1817df56f2"
      },
      "execution_count": null,
      "outputs": [
        {
          "output_type": "stream",
          "name": "stdout",
          "text": [
            "3\n",
            "40 40 40\n",
            "[40, 40, 40]\n",
            "20\n",
            "30\n",
            "40\n",
            "[20, 30, 40]\n"
          ]
        }
      ]
    },
    {
      "cell_type": "code",
      "source": [
        "# 1267번 핸드폰요금\n",
        "n = int(input())\n",
        "call_time = list(map(int, input().split()))\n",
        "\n",
        "\n",
        "y_li, m_li = [], []\n",
        "for i in range(n):\n",
        "    y = m = 0\n",
        "    y += ((call_time[i]//30) + 1)*10\n",
        "    y_li.append(y)\n",
        "    m += ((call_time[i]//60) + 1)*15\n",
        "    m_li.append(m)\n",
        "\n",
        "y = sum(y_li)\n",
        "m = sum(m_li)\n",
        "if y > m:\n",
        "    print('M', m)\n",
        "elif y < m:\n",
        "    print('Y', y)\n",
        "else:\n",
        "    print('Y', 'M', min(y, m))"
      ],
      "metadata": {
        "colab": {
          "base_uri": "https://localhost:8080/"
        },
        "id": "GS3N1stisdDy",
        "outputId": "14272a60-a9ec-4b26-9ab6-5cb5ae3f6bd4"
      },
      "execution_count": null,
      "outputs": [
        {
          "output_type": "stream",
          "name": "stdout",
          "text": [
            "3\n",
            "40 40 40\n",
            "m 45\n",
            "[20, 20, 20] [15, 15, 15]\n",
            "60 45\n"
          ]
        }
      ]
    },
    {
      "cell_type": "code",
      "source": [
        "# 1247번 부호\n",
        "\n",
        "cnt = 0\n",
        "while True:\n",
        "    cnt += 1\n",
        "    if cnt > 3:\n",
        "        break\n",
        "\n",
        "    N = int(input())\n",
        "    S = 0\n",
        "    for _ in range(N):\n",
        "        S += int(input())\n",
        "\n",
        "    if S > 0:\n",
        "        print('+')\n",
        "    elif S < 0:\n",
        "        print('-')\n",
        "    else:\n",
        "        print('0')"
      ],
      "metadata": {
        "colab": {
          "base_uri": "https://localhost:8080/"
        },
        "id": "KtZtZO7HjkqQ",
        "outputId": "4094c00c-d8ce-4109-9ad3-7cff4eb16738"
      },
      "execution_count": null,
      "outputs": [
        {
          "output_type": "stream",
          "name": "stdout",
          "text": [
            "1\n",
            "3\n",
            "+\n",
            "3\n",
            "3\n",
            "3\n",
            "3\n",
            "3\n",
            "+\n",
            "3\n",
            "3\n",
            "3\n",
            "+\n"
          ]
        }
      ]
    },
    {
      "cell_type": "code",
      "source": [
        "# 1212번 8진수 2진수\n",
        "n = input()\n",
        "n = int(n, 8)\n",
        "\n",
        "n = bin(n)\n",
        "print(str(n)[2:])"
      ],
      "metadata": {
        "colab": {
          "base_uri": "https://localhost:8080/"
        },
        "id": "tfdpOf-1qN-c",
        "outputId": "469a104b-25e0-4ef2-df5a-761afe404212"
      },
      "execution_count": null,
      "outputs": [
        {
          "output_type": "stream",
          "name": "stdout",
          "text": [
            "314\n",
            "11001100\n"
          ]
        }
      ]
    },
    {
      "cell_type": "code",
      "source": [
        "a = 120\n",
        "a = str(a)\n",
        "result = 0\n",
        "if a.count('0'):\n",
        "    result += 4\n",
        "if a.count('1'):\n",
        "    result += 2\n",
        "if not a.count('0') and not a.count('1'):\n",
        "    result += 3\n",
        "print(result)\n",
        "# len(str(a))"
      ],
      "metadata": {
        "colab": {
          "base_uri": "https://localhost:8080/"
        },
        "id": "wGovIt3Wt3f2",
        "outputId": "64d44e07-ac66-4939-ec26-94b1958d24f7"
      },
      "execution_count": null,
      "outputs": [
        {
          "output_type": "stream",
          "name": "stdout",
          "text": [
            "6\n"
          ]
        }
      ]
    },
    {
      "cell_type": "code",
      "source": [
        "# 1284번 집 주소\n",
        "\n",
        "while True:\n",
        "    a = str(input())\n",
        "    if a == '0':\n",
        "        break\n",
        "\n",
        "    result = 0\n",
        "    for i in range(len(a)):\n",
        "        if a[i] == '0':\n",
        "            result += 4\n",
        "            # print('1: ', result)\n",
        "        elif a[i] == '1':\n",
        "            result += 2\n",
        "            # print('2: ', result)\n",
        "        else:\n",
        "            result += 3\n",
        "            # print('3: ', result)\n",
        "\n",
        "    result += 1*(len(a)+1)\n",
        "\n",
        "    print(result)"
      ],
      "metadata": {
        "colab": {
          "base_uri": "https://localhost:8080/"
        },
        "id": "9VPXZUXhw1ez",
        "outputId": "9a2d3ca4-1e62-4f02-d752-a1eef4e62858"
      },
      "execution_count": null,
      "outputs": [
        {
          "name": "stdout",
          "output_type": "stream",
          "text": [
            "120\n",
            "13\n",
            "5611\n",
            "15\n",
            "100\n",
            "14\n",
            "0\n"
          ]
        }
      ]
    },
    {
      "cell_type": "code",
      "source": [
        "# 1547번 공\n",
        "\n",
        "n = int(input())\n",
        "li = ['1', '2', '3']\n",
        "\n",
        "for _ in range(n):\n",
        "    x, y = map(int, input().split())\n",
        "\n",
        "    temp = li[x-1]\n",
        "    li[x-1] = li[y-1]\n",
        "    li[y-1] = temp\n",
        "    \n",
        "print(li.index('1')+1)"
      ],
      "metadata": {
        "colab": {
          "base_uri": "https://localhost:8080/"
        },
        "id": "s0Xk1vPF08oz",
        "outputId": "ad870d0e-34fe-4719-8830-8f88ce7211a1"
      },
      "execution_count": null,
      "outputs": [
        {
          "output_type": "stream",
          "name": "stdout",
          "text": [
            "1\n",
            "1 3\n",
            "3\n"
          ]
        }
      ]
    },
    {
      "cell_type": "code",
      "source": [
        "x, y = map(int, input().split())\n",
        "\n",
        "# a = (max(x, y)//4) - (min(x, y)//4) # 동서방향거리\n",
        "# print((max(x, y)//4), (min(x, y)//4))\n",
        "# print(a)\n",
        "# b = (max(x, y)%4) - (min(x, y)%4)\n",
        "# print((max(x, y)%4) - (min(x, y)%4))\n",
        "# print(b)\n",
        "\n",
        "\n",
        "a = (max(x, y)//4) - (min(x, y)//4)\n",
        "b = (max(x, y)%4) - (min(x, y)%4)\n",
        "\n",
        "if max(x, y)%4 ==0:\n",
        "    a = 0 - (min(x, y)//4)\n",
        "    b = (max(x, y)%4 + 3) - (min(x, y)%4)\n",
        "\n",
        "elif min(x, y)%4 ==0:\n",
        "    a = (max(x, y)//4) - (min(x, y)%4 + 3)\n",
        "    print(\"d\", a)\n",
        "    b = (max(x, y)%4) - (min(x, y)%4 + 3)\n",
        "\n",
        "elif max(x, y)%4 ==0 and min(x, y)%4 ==0:\n",
        "    a = 0\n",
        "    b = (max(x, y)%4 + 3) - (min(x, y)%4 + 3)\n",
        "\n",
        "print(a)\n",
        "print(b)\n",
        "print(a+b)\n",
        "\n",
        "# if max(x, y)%4 == 0:\n",
        "#     temp = (max(x, y)%4) + 4\n",
        "\n",
        "#     b = temp - (min(x, y)%4)\n",
        "\n",
        "# elif min(x, y)%4 == 0:\n",
        "#     temp = (min(x, y)%4) + 4\n",
        "\n",
        "#     b = (max(x, y)%4) - temp\n",
        "# else:\n",
        "#     b = (max(x, y)%4) - (min(x, y)%4)\n",
        "\n",
        "# print(a+b)\n",
        "# b = (max(x, y)%4) - (min(x, y)%4)"
      ],
      "metadata": {
        "colab": {
          "base_uri": "https://localhost:8080/"
        },
        "id": "3DkfuoBqHliI",
        "outputId": "5a278f72-0392-43e3-853e-800cfdd7c142"
      },
      "execution_count": null,
      "outputs": [
        {
          "output_type": "stream",
          "name": "stdout",
          "text": [
            "8 11\n",
            "d -1\n",
            "-1\n",
            "0\n",
            "-1\n"
          ]
        }
      ]
    },
    {
      "cell_type": "code",
      "source": [
        "x, y = map(int, input().split())\n",
        "\n",
        "# a = (y//4 + 1) - (x//4 + 1)\n",
        "# print(a)\n",
        "# b = y%4 - x%4\n",
        "# print(b)\n",
        "\n",
        "if x%4 == 0:\n",
        "    a = (y//4) - (x//4 - 1)\n",
        "    b = (x%4 + 4) - y%4\n",
        "    # print(\"a1\", a)\n",
        "    # print(\"b1\", b)\n",
        "    # print(\"a+b1\", a+b)\n",
        "    print(abs(a+b))\n",
        "elif y%4 == 0:\n",
        "    a = (y//4 - 1) - (x//4)\n",
        "    b = (y%4 + 4) - x%4\n",
        "    # print(\"a2\", a)\n",
        "    # print(\"b2\", b)\n",
        "    # print(\"a+b2\", a+b)\n",
        "    print(abs(a+b))\n",
        "else:\n",
        "    a = (y//4 + 1) - (x//4 + 1)\n",
        "    b = x%4 - y%4\n",
        "    # print(\"a3\", a)\n",
        "    # print(\"b3\", b)\n",
        "    # print(\"a+b3\", a+b)\n",
        "    print(abs(a+b))\n",
        "# print(a+b)\n",
        "\n",
        "# a = (max(x, y)//4) - (min(x, y)//4)\n",
        "# b = (max(x, y)%4) - (min(x, y)%4)"
      ],
      "metadata": {
        "colab": {
          "base_uri": "https://localhost:8080/"
        },
        "id": "5ZQxPZavVgja",
        "outputId": "7f164359-52f8-43ae-b819-9ea0d0db0a7c"
      },
      "execution_count": null,
      "outputs": [
        {
          "output_type": "stream",
          "name": "stdout",
          "text": [
            "1000000 2000000\n",
            "250005\n"
          ]
        }
      ]
    },
    {
      "cell_type": "code",
      "source": [
        "x, y = map(int, input().split())\n",
        "\n",
        "# a = (y//4 + 1) - (x//4 + 1)\n",
        "# print(a)\n",
        "# b = y%4 - x%4\n",
        "# print(b)\n",
        "\n",
        "if x%4 == 0 and y%4 != 0:\n",
        "    a = (y//4) - (x//4 - 1)\n",
        "    # b = (x%4 + 4) - y%4\n",
        "    b = (y-1)%4 - (x-1)%4\n",
        "    print(\"a1\", a)\n",
        "    print(\"b1\", b)\n",
        "    # print(\"a+b1\", a+b)\n",
        "    print(abs(a+b))\n",
        "elif y%4 == 0 and x%4 != 0:\n",
        "    a = (y//4 - 1) - (x//4)\n",
        "    # b = (y%4 + 4) - x%4\n",
        "    b = (y-1)%4 - (x-1)%4\n",
        "    \n",
        "    # print(\"a2\", a)\n",
        "    # print(\"b2\", b)\n",
        "    # print(\"a+b2\", a+b)\n",
        "    print(abs(a)+abs(b))\n",
        "elif x%4 == 0 and y%4 == 0:\n",
        "    a = (y//4 - 1) - (x//4 - 1)\n",
        "    # b = (y%4 + 4) - x%4\n",
        "    b = (y-1)%4 - (x-1)%4\n",
        "    print(\"a2\", a)\n",
        "    print(\"b2\", b)\n",
        "    # print(\"a+b2\", a+b)\n",
        "    print(abs(a)+abs(b))\n",
        "else:\n",
        "    a = (y//4 + 1) - (x//4 + 1)\n",
        "    # b = x%4 - y%4\n",
        "    b = (y-1)%4 - (x-1)%4\n",
        "    # print(\"a3\", a)\n",
        "    # print(\"b3\", b)\n",
        "    # print(\"a+b3\", a+b)\n",
        "    print(abs(a)+abs(b))\n",
        "# print(a+b)\n",
        "\n",
        "# a = (max(x, y)//4) - (min(x, y)//4)\n",
        "# b = (max(x, y)%4) - (min(x, y)%4)"
      ],
      "metadata": {
        "id": "r0sld1IRaTeY",
        "colab": {
          "base_uri": "https://localhost:8080/"
        },
        "outputId": "bacf8c5a-25ea-4eb9-e8d3-a07430e1d58b"
      },
      "execution_count": null,
      "outputs": [
        {
          "output_type": "stream",
          "name": "stdout",
          "text": [
            "20 39\n",
            "a1 5\n",
            "b1 -1\n",
            "4\n"
          ]
        }
      ]
    },
    {
      "cell_type": "code",
      "source": [
        "# 1598번 꼬리를 무는 숫자 나열\n",
        "x, y = map(int, input().split())\n",
        "\n",
        "x -= 1\n",
        "y -= 1\n",
        "\n",
        "a = y//4 - x//4\n",
        "b = y%4 - x%4\n",
        "print(abs(a)+abs(b))"
      ],
      "metadata": {
        "colab": {
          "base_uri": "https://localhost:8080/"
        },
        "id": "E5QWKmQ6bSza",
        "outputId": "72254993-7fac-4481-a486-84dea4b77691"
      },
      "execution_count": null,
      "outputs": [
        {
          "output_type": "stream",
          "name": "stdout",
          "text": [
            "11 33\n",
            "6\n",
            "-2\n",
            "8\n"
          ]
        }
      ]
    },
    {
      "cell_type": "code",
      "source": [
        "# 1598번 꼬리를 무는 숫자 나열\n",
        "x, y = map(int, input().split())\n",
        "\n",
        "if x%4 == 0 and y%4 != 0:\n",
        "    a = (y//4) - (x//4 - 1)\n",
        "    b = (y-1)%4 - (x-1)%4\n",
        "    \n",
        "    print(abs(a)+abs(b))\n",
        "elif y%4 == 0 and x%4 != 0:\n",
        "    a = (y//4 - 1) - (x//4)\n",
        "    b = (y-1)%4 - (x-1)%4\n",
        "\n",
        "    print(abs(a)+abs(b))\n",
        "\n",
        "elif x%4 == 0 and y%4 == 0:\n",
        "    a = (y//4 - 1) - (x//4 - 1)\n",
        "    b = (y-1)%4 - (x-1)%4\n",
        "    \n",
        "    print(abs(a)+abs(b))\n",
        "\n",
        "else:\n",
        "    a = (y//4 + 1) - (x//4 + 1)\n",
        "    b = (y-1)%4 - (x-1)%4\n",
        "\n",
        "    print(abs(a)+abs(b))"
      ],
      "metadata": {
        "colab": {
          "base_uri": "https://localhost:8080/"
        },
        "id": "xVBSYIcCUw-P",
        "outputId": "e80f5889-0e35-4c6d-ad09-e0a8d625d4b4"
      },
      "execution_count": null,
      "outputs": [
        {
          "output_type": "stream",
          "name": "stdout",
          "text": [
            "7 32\n",
            "7\n"
          ]
        }
      ]
    },
    {
      "cell_type": "code",
      "source": [
        "# 2061번 좋은 암호\n",
        "L, K = map(int, input().split())\n",
        "li = [1]*K\n",
        "for i in range(2, int(K**0.5)+1):\n",
        "    if li[i] == 1:\n",
        "        for j in range(i+i, K, i):\n",
        "            li[j] = 0\n",
        "\n",
        "prime_li = []\n",
        "for i in range(2, K):\n",
        "    if li[i] == 1:\n",
        "        prime_li.append(i)\n",
        "\n",
        "good = 1\n",
        "for n in prime_li:\n",
        "    if L%n == 0:\n",
        "        print(\"BAD\", n)\n",
        "        good = 0\n",
        "        break\n",
        "if good == 1:\n",
        "    print(\"GOOD\")"
      ],
      "metadata": {
        "id": "U47TwIXRYQTq",
        "colab": {
          "base_uri": "https://localhost:8080/"
        },
        "outputId": "74f8e78e-c06d-444e-a02e-d4b1a98de24a"
      },
      "execution_count": null,
      "outputs": [
        {
          "output_type": "stream",
          "name": "stdout",
          "text": [
            "143 11\n",
            "GOOD\n"
          ]
        }
      ]
    },
    {
      "cell_type": "code",
      "source": [
        "trash = int(input(\"쓰레기 종류를 입력하세요(1.플라스틱, 2.종이, 3. 스티로폼) : \"))\n",
        "\n",
        "if trash == 1:\n",
        "    print('이 곳에 넣으세요.')\n",
        "else:\n",
        "    print('이곳에 넣으면 안됩니다. 다른곳에 넣어주세요.')"
      ],
      "metadata": {
        "colab": {
          "base_uri": "https://localhost:8080/"
        },
        "id": "HZa97bVlFwpE",
        "outputId": "a8ce7095-6c07-42a8-85f8-c876d36125e5"
      },
      "execution_count": null,
      "outputs": [
        {
          "output_type": "stream",
          "name": "stdout",
          "text": [
            "쓰레기 종류를 입력하세요(1.플라스틱, 2.종이, 3. 스티로폼) : 3\n",
            "이곳에 넣으면 안됩니다. 다른곳에 넣어주세요.\n"
          ]
        }
      ]
    },
    {
      "cell_type": "code",
      "source": [
        "#1703번 생장점\n",
        "\n",
        "while True:\n",
        "    temp = list(map(int, input().split()))\n",
        "\n",
        "    if temp[0] == 0:\n",
        "        break\n",
        "        \n",
        "    leaf = 1\n",
        "    if temp[0] == 1:\n",
        "        leaf = leaf*temp[1] - temp[2]\n",
        "        print(leaf)\n",
        "    else:\n",
        "        for i in range(1, temp[0]+1):\n",
        "            leaf = leaf*temp[(i*2)-1] - temp[i*2]\n",
        "        print(leaf)"
      ],
      "metadata": {
        "colab": {
          "base_uri": "https://localhost:8080/"
        },
        "id": "YZ7pM06dEza_",
        "outputId": "f46fefce-24a8-45bc-d9c3-7b585501eaca"
      },
      "execution_count": null,
      "outputs": [
        {
          "name": "stdout",
          "output_type": "stream",
          "text": [
            "4 5 0 5 1 5 2 5 101\n",
            "489\n",
            "0\n"
          ]
        }
      ]
    },
    {
      "cell_type": "code",
      "source": [
        "a, b = map(int, input().split())\n",
        "\n",
        "sigma = b*(b+1) // 2\n",
        "print(sigma)"
      ],
      "metadata": {
        "colab": {
          "base_uri": "https://localhost:8080/"
        },
        "id": "Tt6G0jmIfdP0",
        "outputId": "549c127c-a786-4149-e816-21e9e9b9bd41"
      },
      "execution_count": null,
      "outputs": [
        {
          "output_type": "stream",
          "name": "stdout",
          "text": [
            "-3 -2\n",
            "1\n"
          ]
        }
      ]
    },
    {
      "cell_type": "code",
      "source": [
        "# 2506번 점수계산\n",
        "\n",
        "n = int(input())\n",
        "\n",
        "temp = list(map(int, input().split()))\n",
        "\n",
        "cnt = 0\n",
        "score = []\n",
        "for i in range(n):\n",
        "    if temp[i] == 1:\n",
        "        cnt += 1\n",
        "        score.append(cnt)\n",
        "    else:\n",
        "        cnt = 0\n",
        "        score.append(cnt)\n",
        "\n",
        "print(sum(score))"
      ],
      "metadata": {
        "colab": {
          "base_uri": "https://localhost:8080/"
        },
        "id": "CBlq23TtfOtH",
        "outputId": "b28f5ed8-f627-483d-dafa-7f6281415b6e"
      },
      "execution_count": null,
      "outputs": [
        {
          "output_type": "stream",
          "name": "stdout",
          "text": [
            "10\n",
            "1 0 1 1 1 0 0 1 1 0\n",
            "10\n"
          ]
        }
      ]
    },
    {
      "cell_type": "code",
      "source": [
        "# 2501번 약수 구하기\n",
        "\n",
        "n, k = map(int, input().split())\n",
        "\n",
        "li = []\n",
        "for i in range(1, n+1):\n",
        "    if n%i == 0:\n",
        "        li.append(i)\n",
        "\n",
        "li = sorted(li)\n",
        "if len(li) < k:\n",
        "    print('0')\n",
        "else:\n",
        "    print(li[k-1])"
      ],
      "metadata": {
        "colab": {
          "base_uri": "https://localhost:8080/"
        },
        "id": "jsaLqj9fgX0H",
        "outputId": "2b40b1dd-905f-4a86-d61f-2eb8fba3faed"
      },
      "execution_count": null,
      "outputs": [
        {
          "output_type": "stream",
          "name": "stdout",
          "text": [
            "6 3\n",
            "3\n",
            "[1, 2, 3, 6]\n"
          ]
        }
      ]
    },
    {
      "cell_type": "code",
      "source": [
        "# 2490번 윷놀이\n",
        "\n",
        "i = 0\n",
        "while True:\n",
        "    i += 1\n",
        "    if i > 3:\n",
        "        break\n",
        "\n",
        "    li = list(map(int, input().split()))\n",
        "    a = li.count(1) # 등\n",
        "    b = li.count(0) # 배\n",
        "    \n",
        "    if a == 3 and b == 1: # 도\n",
        "        print('A')\n",
        "    elif a == 2 and b == 2: # 개\n",
        "        print('B')\n",
        "    elif a == 1 and b == 3: # 걸\n",
        "        print('C')\n",
        "    elif a == 0 and b == 4: # 윷\n",
        "        print('D')\n",
        "    elif a == 4 and b == 0: # 모\n",
        "        print('E')"
      ],
      "metadata": {
        "colab": {
          "base_uri": "https://localhost:8080/"
        },
        "id": "YAcH6_32ihy_",
        "outputId": "1b3833d0-0c6f-4af0-e8b8-c89a37e90e4e"
      },
      "execution_count": null,
      "outputs": [
        {
          "output_type": "stream",
          "name": "stdout",
          "text": [
            "0 1 0 1\n",
            "B\n",
            "1 1 1 0\n",
            "A\n",
            "0 0 1 1\n",
            "B\n"
          ]
        }
      ]
    },
    {
      "cell_type": "code",
      "source": [
        "# 2476번 주사위 게임\n",
        "n = int(input())\n",
        "\n",
        "li = []\n",
        "for _ in range(n):\n",
        "    a, b, c = map(int, input().split())\n",
        "\n",
        "    if a == b and a == c and b == c:\n",
        "        li.append(10000+a*1000)\n",
        "    elif (a == b and b != c) or (b == c and a != b) or (a == c and b != c):\n",
        "        if (a == b and b != c):\n",
        "            li.append(1000+a*100)\n",
        "        elif (b == c and a != b):\n",
        "            li.append(1000+b*100)\n",
        "        elif (a == c and b != c):\n",
        "            li.append(1000+a*100)\n",
        "    else:\n",
        "        li.append(max(a, b, c)*100)\n",
        "\n",
        "print(max(li))"
      ],
      "metadata": {
        "colab": {
          "base_uri": "https://localhost:8080/"
        },
        "id": "DyrToTY8wXpM",
        "outputId": "4ea7e34a-4670-45c9-ddd9-02bcf996cf9d"
      },
      "execution_count": null,
      "outputs": [
        {
          "output_type": "stream",
          "name": "stdout",
          "text": [
            "3\n",
            "3 3 5\n",
            "3 5 3\n",
            "5 3 3\n",
            "[1300, 1300, 1300]\n",
            "1300\n"
          ]
        }
      ]
    },
    {
      "cell_type": "code",
      "source": [
        "# 2476번 주사위 게임\n",
        "n = int(input())\n",
        "\n",
        "li = []\n",
        "for _ in range(n):\n",
        "    a, b, c = map(int, input().split())\n",
        "\n",
        "    if a == b and a == c and b == c:\n",
        "        li.append(10000+a*1000)\n",
        "    elif a == b:\n",
        "        li.append(1000+a*100)\n",
        "    elif b == c:\n",
        "        li.append(1000+b*100)\n",
        "    elif a == c:\n",
        "        li.append(1000+c*100)\n",
        "    else:\n",
        "        li.append(max(a, b, c)*100)\n",
        "print(max(li))"
      ],
      "metadata": {
        "colab": {
          "base_uri": "https://localhost:8080/"
        },
        "id": "SUoFphXJz54T",
        "outputId": "5548432e-dcd9-462a-cd57-5f07768fe080"
      },
      "execution_count": null,
      "outputs": [
        {
          "output_type": "stream",
          "name": "stdout",
          "text": [
            "3\n",
            "3 3 5\n",
            "2 5 6\n",
            "2 2 2\n",
            "12000\n"
          ]
        }
      ]
    },
    {
      "cell_type": "code",
      "source": [
        "# 2440번 별 찍기 -3\n",
        "n = int(input())\n",
        "cnt = list(range(1, n+1))\n",
        "cnt.reverse()\n",
        "\n",
        "for i in cnt:\n",
        "    a = '*'*i\n",
        "    print(a)"
      ],
      "metadata": {
        "colab": {
          "base_uri": "https://localhost:8080/"
        },
        "id": "7kPGhGY-8Nfi",
        "outputId": "0c51164e-9f1a-4238-90f8-5dc8676caf3a"
      },
      "execution_count": null,
      "outputs": [
        {
          "output_type": "stream",
          "name": "stdout",
          "text": [
            "6\n",
            "******\n",
            "*****\n",
            "****\n",
            "***\n",
            "**\n",
            "*\n"
          ]
        }
      ]
    },
    {
      "cell_type": "code",
      "source": [
        "# 2441번 별 찍기 -4\n",
        "n = int(input())\n",
        "cnt = list(range(1, n+1))\n",
        "# cnt.reverse()\n",
        "\n",
        "for i in cnt:\n",
        "    a = ' '*(i-1) + '*'*(n-i+1)\n",
        "    \n",
        "    print(a)"
      ],
      "metadata": {
        "colab": {
          "base_uri": "https://localhost:8080/"
        },
        "id": "sDtfoz-i-kkh",
        "outputId": "d89aec8f-9e74-4024-c43c-63cd33c4b9be"
      },
      "execution_count": null,
      "outputs": [
        {
          "output_type": "stream",
          "name": "stdout",
          "text": [
            "5\n",
            "*****\n",
            " ****\n",
            "  ***\n",
            "   **\n",
            "    *\n"
          ]
        }
      ]
    },
    {
      "cell_type": "code",
      "source": [
        "# 2446번 별 찍기 -9\n",
        "n = int(input())\n",
        "\n",
        "li = []\n",
        "for i in range(n):\n",
        "    a = ' '*(i) + '*'*((2*n-1)-(2*i)) + ' '*(i)\n",
        "    li.append(a)\n",
        "\n",
        "for i in li:\n",
        "    i = i.rstrip(' ')\n",
        "    print(i)\n",
        "\n",
        "b = li[::-1]\n",
        "del b[0]\n",
        "\n",
        "for i in b:\n",
        "    i = i.rstrip(' ')\n",
        "    print(i)"
      ],
      "metadata": {
        "colab": {
          "base_uri": "https://localhost:8080/"
        },
        "id": "hv4o3H7dDVRY",
        "outputId": "b4c1885a-31c8-47a0-a85b-71f1abf7bbcb"
      },
      "execution_count": null,
      "outputs": [
        {
          "output_type": "stream",
          "name": "stdout",
          "text": [
            "5\n",
            "*********\n",
            " *******\n",
            "  *****\n",
            "   ***\n",
            "    *\n",
            "   ***\n",
            "  *****\n",
            " *******\n",
            "*********\n"
          ]
        }
      ]
    },
    {
      "cell_type": "code",
      "source": [
        "a, b = map(int, input().split())\n",
        "print(a//b)\n",
        "print(a%b)"
      ],
      "metadata": {
        "colab": {
          "base_uri": "https://localhost:8080/"
        },
        "id": "CxsjYKxjMnWe",
        "outputId": "5215036b-4ff3-4fcd-f315-263c22b6fdac"
      },
      "execution_count": null,
      "outputs": [
        {
          "output_type": "stream",
          "name": "stdout",
          "text": [
            "7 -3\n",
            "-3\n",
            "-2\n"
          ]
        }
      ]
    },
    {
      "cell_type": "code",
      "source": [
        "import sys\n",
        "\n",
        "# 평균은 넘겠지\n",
        "C = int(input())\n",
        "case = []\n",
        "a = 0\n",
        "for i in range(C):\n",
        "    case.append(list(map(int, input().split())))\n",
        "\n",
        "for ii in range(C):\n",
        "    obj = case[ii]\n",
        "    print(\"obj\", obj)\n",
        "    count = int(obj[0])\n",
        "    print(\"count\", count)\n",
        "    SUM = sum(obj) - count\n",
        "    print(\"SUM\", SUM)\n",
        "    mean = SUM/count\n",
        "    print(\"mean\", mean)\n",
        "    for iii in range(1, len(obj)):\n",
        "        score = obj[iii]\n",
        "        print(\"score\", score)\n",
        "        if mean < score:\n",
        "            a = a + 1\n",
        "            print(\"a\", a)\n",
        "            N = round(a / count * 100, 3)\n",
        "            print(\"N\", N)\n",
        "        else:\n",
        "            N = round(a / count * 100, 3)\n",
        "    print(\"{:.3f}%\".format(N))\n",
        "    a = 0"
      ],
      "metadata": {
        "colab": {
          "base_uri": "https://localhost:8080/"
        },
        "id": "grQKO9a2P7mg",
        "outputId": "29a38004-67f3-4514-e89e-4532e19d58be"
      },
      "execution_count": null,
      "outputs": [
        {
          "output_type": "stream",
          "name": "stdout",
          "text": [
            "1\n",
            "5 1 1 1 1 1\n",
            "obj [5, 1, 1, 1, 1, 1]\n",
            "count 5\n",
            "SUM 5\n",
            "mean 1.0\n",
            "score 1\n",
            "score 1\n",
            "score 1\n",
            "score 1\n",
            "score 1\n",
            "0.000%\n"
          ]
        }
      ]
    },
    {
      "cell_type": "code",
      "source": [
        "# 4344번\n",
        "\n",
        "testCase = int(input())\n",
        "\n",
        "for i in range(testCase):\n",
        "    N = list(map(int, input().split()))   \n",
        "    average = ((sum(N[1:]))/(N[0]))\n",
        "\n",
        "    aver_list = []\n",
        "    for j in range(1, len(N[1:])+1):\n",
        "        if N[j] > average :\n",
        "            a = N[j]\n",
        "            aver_list.append(a)            \n",
        "        result = (len(aver_list)/N[0])*(100)\n",
        "        \n",
        "    print('%.3f%%' % result)"
      ],
      "metadata": {
        "colab": {
          "base_uri": "https://localhost:8080/"
        },
        "id": "GfmAXctwRAMo",
        "outputId": "316cdb63-b99b-483c-9e0c-3910d7652d98"
      },
      "execution_count": null,
      "outputs": [
        {
          "output_type": "stream",
          "name": "stdout",
          "text": [
            "1\n",
            "5 1 1 1 1 1\n",
            "0.000%\n"
          ]
        }
      ]
    },
    {
      "cell_type": "code",
      "source": [
        "# 1964번 오각형, 오각형, 오각형\n",
        "\n",
        "n = int(input())\n",
        "\n",
        "cnt = 2\n",
        "li = []\n",
        "for i in range(n):\n",
        "    if i > 1:    \n",
        "        cnt += 3\n",
        "\n",
        "    li.append(cnt)\n",
        "\n",
        "li[0] = 0\n",
        "result = 5 + (n-1)*5 + sum(li)\n",
        "\n",
        "print(result%45678)"
      ],
      "metadata": {
        "colab": {
          "base_uri": "https://localhost:8080/"
        },
        "id": "XLWqE6tg6pvj",
        "outputId": "6aeef2bf-79c6-4953-86d3-a8b6fed3adf8"
      },
      "execution_count": null,
      "outputs": [
        {
          "output_type": "stream",
          "name": "stdout",
          "text": [
            "3\n",
            "22\n"
          ]
        }
      ]
    },
    {
      "cell_type": "code",
      "source": [
        "# 2163번 초콜릿 자르기\n",
        "\n",
        "n, m = map(int, input().split())\n",
        "\n",
        "result = (n-1) + n*(m-1)\n",
        "print(result)"
      ],
      "metadata": {
        "colab": {
          "base_uri": "https://localhost:8080/"
        },
        "id": "SiT__oolRgEQ",
        "outputId": "9d512015-dcf8-4e5e-8fd8-85eae600c8b4"
      },
      "execution_count": null,
      "outputs": [
        {
          "output_type": "stream",
          "name": "stdout",
          "text": [
            "5 5\n",
            "24\n"
          ]
        }
      ]
    },
    {
      "cell_type": "code",
      "source": [
        "# 2455번 지능형 기차\n",
        "\n",
        "li = []\n",
        "calcul = 0\n",
        "for _ in range(4):\n",
        "    n, m = map(int, input().split())\n",
        "    calcul = (calcul - n) + m\n",
        "    li.append(calcul)\n",
        "print(max(li))"
      ],
      "metadata": {
        "colab": {
          "base_uri": "https://localhost:8080/"
        },
        "id": "XRFloIKfackh",
        "outputId": "2b2e9cb8-742b-42e2-c98a-4f9087ac5227"
      },
      "execution_count": null,
      "outputs": [
        {
          "output_type": "stream",
          "name": "stdout",
          "text": [
            "0 32\n",
            "3 13\n",
            "28 25\n",
            "39 0\n",
            "42\n"
          ]
        }
      ]
    },
    {
      "cell_type": "code",
      "source": [
        "# 2460번 지능형 기차2\n",
        "\n",
        "li = []\n",
        "calcul = 0\n",
        "for _ in range(10):\n",
        "    n, m = map(int, input().split())\n",
        "    calcul = (calcul - n) + m\n",
        "    li.append(calcul)\n",
        "print(max(li))"
      ],
      "metadata": {
        "id": "jFsp4f4RdtYb"
      },
      "execution_count": null,
      "outputs": []
    },
    {
      "cell_type": "code",
      "source": [
        "# 1075번 나누기\n",
        "\n",
        "a = str(input())\n",
        "b = int(input())\n",
        "\n",
        "li = []\n",
        "a_new = (a[:-2])\n",
        "for i in range(100):\n",
        "    if i < 10:\n",
        "        temp = a_new + '0' + str(i)\n",
        "    else:\n",
        "        temp = a_new + str(i)\n",
        "    \n",
        "    if int(temp) % b == 0:\n",
        "        li.append(temp)\n",
        "print(min(li)[-2:])"
      ],
      "metadata": {
        "colab": {
          "base_uri": "https://localhost:8080/"
        },
        "id": "pQWr_PGRfpOE",
        "outputId": "1b0c2071-d05d-4b08-f4a7-332a7172c9a8"
      },
      "execution_count": null,
      "outputs": [
        {
          "output_type": "stream",
          "name": "stdout",
          "text": [
            "428392\n",
            "17\n",
            "15\n"
          ]
        }
      ]
    },
    {
      "cell_type": "code",
      "source": [
        "# 1076번 저항\n",
        "\n",
        "dic = {\n",
        "    'black' : [0, 1],\n",
        "    'brown' : [1, 10],\n",
        "    'red' : [2, 100],\n",
        "    'orange' : [3, 1000],\n",
        "    'yellow' : [4, 10000],\n",
        "    'green' : [5, 100000],\n",
        "    'blue' : [6, 1000000],\n",
        "    'violet' : [7, 10000000],\n",
        "    'grey' : [8, 100000000],\n",
        "    'white' : [9, 1000000000]\n",
        "}\n",
        "\n",
        "a = str(input())\n",
        "b = str(input())\n",
        "c = str(input())\n",
        "\n",
        "temp = str(dic[a][0]) + str(dic[b][0])\n",
        "result =  int(temp)*dic[c][1]\n",
        "print(result)"
      ],
      "metadata": {
        "colab": {
          "base_uri": "https://localhost:8080/"
        },
        "id": "Y6mCzPMmrUiR",
        "outputId": "a7be1337-68ce-48c0-be67-f410058e778c"
      },
      "execution_count": null,
      "outputs": [
        {
          "output_type": "stream",
          "name": "stdout",
          "text": [
            "white\n",
            "white\n",
            "white\n",
            "99000000000\n"
          ]
        }
      ]
    },
    {
      "cell_type": "code",
      "source": [
        "# 1110번 하얀 칸\n",
        "\n",
        "cnt = 0\n",
        "for i in range(1, 8+1):\n",
        "    word = str(input())\n",
        "    \n",
        "    for j in range(1, len(word)+1):\n",
        "        \n",
        "        if (i % 2 == 0) and (j % 2 == 0): # 짝수 흰색\n",
        "            if word[j-1] in 'F':\n",
        "                cnt += 1\n",
        "            \n",
        "        elif (i % 2 != 0) and (j % 2 != 0): # 홀수\n",
        "            if word[j-1] in 'F':\n",
        "                cnt += 1\n",
        "print(cnt)"
      ],
      "metadata": {
        "colab": {
          "base_uri": "https://localhost:8080/"
        },
        "id": "WFe6juATwoHL",
        "outputId": "1e013cbb-7c80-487d-89fc-3850f625e558"
      },
      "execution_count": null,
      "outputs": [
        {
          "output_type": "stream",
          "name": "stdout",
          "text": [
            "FFFFFFFF\n",
            "FFFFFFFF\n",
            "FFFFFFFF\n",
            "FFFFFFFF\n",
            "16\n"
          ]
        }
      ]
    },
    {
      "cell_type": "code",
      "source": [
        "# 1159번 농구 경기\n",
        "\n",
        "n = int(input())\n",
        "alpha = 'abcdefghijklmnopqrstuvwxyz'\n",
        "alpha = list(alpha)\n",
        "\n",
        "name_li = []\n",
        "for _ in range(n):\n",
        "    name = str(input())\n",
        "    name_li.append(name[0])\n",
        "\n",
        "\n",
        "alpha_li = []\n",
        "for i in alpha:\n",
        "    if name_li.count(i) >= 5:\n",
        "        alpha_li.append(i)\n",
        "\n",
        "if len(alpha_li) == 0:\n",
        "    print('PREDAJA')\n",
        "\n",
        "else:\n",
        "    alpha_li.sort()\n",
        "    for alpha in alpha_li:\n",
        "        print(alpha, end='')"
      ],
      "metadata": {
        "colab": {
          "base_uri": "https://localhost:8080/"
        },
        "id": "YvX-i6pt3Pej",
        "outputId": "c55c4851-823d-4de6-c8f4-990f28251bb3"
      },
      "execution_count": null,
      "outputs": [
        {
          "output_type": "stream",
          "name": "stdout",
          "text": [
            "10\n",
            "c\n",
            "c\n",
            "c\n",
            "c\n",
            "c\n",
            "a\n",
            "a\n",
            "a\n",
            "a\n",
            "a\n",
            "ac"
          ]
        }
      ]
    },
    {
      "cell_type": "code",
      "source": [
        "# pass~~!!\n",
        "\n",
        "N, m, M, T, R = map(int, input().split())\n",
        "\n",
        "cnt = 0\n",
        "for i in range(1, N+1):\n",
        "    \n",
        "    m += T\n",
        "    if m <= M:\n",
        "        cnt += 1\n",
        "\n",
        "    elif m > M:\n",
        "        m -= R\n",
        "        cnt += 1\n",
        "\n",
        "print(cnt)"
      ],
      "metadata": {
        "colab": {
          "base_uri": "https://localhost:8080/"
        },
        "id": "U5UpoH9Pl7lx",
        "outputId": "df83173a-8767-46e2-8447-74ecf29fdb61"
      },
      "execution_count": null,
      "outputs": [
        {
          "output_type": "stream",
          "name": "stdout",
          "text": [
            "5 70 120 25 15\n",
            "5\n"
          ]
        }
      ]
    },
    {
      "cell_type": "code",
      "source": [
        "# 1225번 곱셈\n",
        "\n",
        "a, b = (map(str, input().split()))\n",
        "a, b = list(a), list(b)\n",
        "\n",
        "a, b = list(map(int, a)), list(map(int, b))\n",
        "\n",
        "print(sum(a)*sum(b))"
      ],
      "metadata": {
        "colab": {
          "base_uri": "https://localhost:8080/"
        },
        "id": "9Khs72PFva-4",
        "outputId": "07a8f7b1-78be-4b41-d4f0-a46a954e1a82"
      },
      "execution_count": null,
      "outputs": [
        {
          "output_type": "stream",
          "name": "stdout",
          "text": [
            "123 45\n",
            "54\n"
          ]
        }
      ]
    },
    {
      "cell_type": "code",
      "source": [
        "# 1233번 주사위\n",
        "a, b, c = map(int, input().split())\n",
        "s1, s2, s3 = list(range(1, a+1)), list(range(1, b+1)), list(range(1, c+1))\n",
        "\n",
        "li = []\n",
        "for i in s1:\n",
        "    for j in s2:\n",
        "        for z in s3:\n",
        "            li.append(i+j+z)\n",
        "\n",
        "cnt_li = []\n",
        "for i in range(1, max(li)+1):\n",
        "    cnt_li.append(li.count(i))\n",
        "    # print(i)\n",
        "# print(cnt_li)\n",
        "print(cnt_li.index(max(cnt_li))+1)"
      ],
      "metadata": {
        "colab": {
          "base_uri": "https://localhost:8080/"
        },
        "id": "NG6G_RzBzNeG",
        "outputId": "e7ac8aa9-c1e7-446a-bdb3-8463f945e199"
      },
      "execution_count": null,
      "outputs": [
        {
          "output_type": "stream",
          "name": "stdout",
          "text": [
            "3 2 3\n",
            "5\n"
          ]
        }
      ]
    },
    {
      "cell_type": "code",
      "source": [
        "# 1252번 이진수 덧셈\n",
        "\n",
        "a, b = map(str, input().split())\n",
        "a, b = int(a, 2), int(b, 2)\n",
        "\n",
        "result = bin(a+b)\n",
        "\n",
        "print(result[2:])"
      ],
      "metadata": {
        "colab": {
          "base_uri": "https://localhost:8080/"
        },
        "id": "GMGYGjQp88D6",
        "outputId": "9fc911c2-8269-4752-bf8f-4f35b425be5b"
      },
      "execution_count": null,
      "outputs": [
        {
          "output_type": "stream",
          "name": "stdout",
          "text": [
            "1001101 10010\n",
            "1011111\n"
          ]
        }
      ]
    },
    {
      "cell_type": "code",
      "source": [
        "# 1264번 모음의 개수\n",
        "li = ['a', 'e', 'i', 'o', 'u']\n",
        "\n",
        "while True:\n",
        "    cnt = 0\n",
        "    word = str(input())\n",
        "    if word == '#':\n",
        "        break\n",
        "        \n",
        "    word = word.lower()\n",
        "    for i in word:\n",
        "        if i in li:\n",
        "            cnt += 1\n",
        "    print(cnt)"
      ],
      "metadata": {
        "colab": {
          "base_uri": "https://localhost:8080/"
        },
        "id": "Sj3JAu_3FAeS",
        "outputId": "76740720-81a4-465b-9269-5fec5d9e5394"
      },
      "execution_count": null,
      "outputs": [
        {
          "name": "stdout",
          "output_type": "stream",
          "text": [
            "How are you today?\n",
            "7\n",
            "Quite well, thank you, how about yourself?\n",
            "14\n",
            "I live at number twenty four.\n",
            "9\n",
            "#\n"
          ]
        }
      ]
    },
    {
      "cell_type": "code",
      "source": [
        "N, L, D = map(int, input().split())\n",
        "\n",
        "song = list(range(N*2*L))\n",
        "# print(song)\n",
        "# bell = 0\n",
        "cnt = 0\n",
        "play = []\n",
        "silence = []\n",
        "for i in range(N*2*L):\n",
        "    # cnt += i\n",
        "    if (i//L) % 2 == 0:\n",
        "        play.append(i)\n",
        "    elif (i//5) % 2 != 0:\n",
        "        silence.append(i)\n",
        "\n",
        "    # song += L\n",
        "    # bell += D # 7 14 21 28\n",
        "    # print(song)\n",
        "silence.append(N*2*L)\n",
        "print(play)\n",
        "for i in silence:\n",
        "    cnt += D\n",
        "    if cnt in silence:\n",
        "        print(cnt)\n",
        "print(silence)"
      ],
      "metadata": {
        "colab": {
          "base_uri": "https://localhost:8080/"
        },
        "id": "xjXn-K5QH6Bx",
        "outputId": "372d0783-6017-4679-c895-be18ec74ebc2"
      },
      "execution_count": null,
      "outputs": [
        {
          "output_type": "stream",
          "name": "stdout",
          "text": [
            "6 9 20\n",
            "[0, 1, 2, 3, 4, 5, 6, 7, 8, 18, 19, 20, 21, 22, 23, 24, 25, 26, 36, 37, 38, 39, 40, 41, 42, 43, 44, 54, 55, 56, 57, 58, 59, 60, 61, 62, 72, 73, 74, 75, 76, 77, 78, 79, 80, 90, 91, 92, 93, 94, 95, 96, 97, 98]\n",
            "[9, 15, 16, 17, 27, 28, 29, 35, 45, 46, 47, 48, 49, 65, 66, 67, 68, 69, 85, 86, 87, 88, 89, 99, 105, 106, 107, 108]\n"
          ]
        }
      ]
    },
    {
      "cell_type": "code",
      "source": [
        "# 1333번 부재중 전화\n",
        "#몰라 ~\n",
        "\n",
        "N, L, D = map(int, input().split())\n",
        "\n",
        "cnt = 0\n",
        "play = []\n",
        "silence = []\n",
        "\n",
        "\n",
        "\n",
        "for i in range(N):\n",
        "\n",
        "    cnt += L \n",
        "    play.append(cnt)\n",
        "    cnt += 5\n",
        "    silence.append(cnt)\n",
        "\n",
        "    # cnt += i\n",
        "#     if (i//L) % 2 == 0:\n",
        "#         play.append(i)\n",
        "#     elif (i//5) % 2 != 0:\n",
        "#         silence.append(i)\n",
        "\n",
        "#     cnt += L\n",
        "#     play.append(cnt)\n",
        "# silence.append(N*2*L)\n",
        "print(play)\n",
        "# for i in silence:\n",
        "#     cnt += D\n",
        "#     if cnt in silence:\n",
        "#         print(cnt)\n",
        "print(silence)"
      ],
      "metadata": {
        "colab": {
          "base_uri": "https://localhost:8080/"
        },
        "id": "1aahD-Q7cUm3",
        "outputId": "277bfce7-789b-472c-a6cc-7ffff80a3a4f"
      },
      "execution_count": null,
      "outputs": [
        {
          "output_type": "stream",
          "name": "stdout",
          "text": [
            "4 5 20\n",
            "[5, 15, 25, 35]\n",
            "[10, 20, 30, 40]\n"
          ]
        }
      ]
    },
    {
      "cell_type": "code",
      "source": [
        "# 1350번 진짜 공간\n",
        "\n",
        "n = int(input())\n",
        "size_li = list(map(int, input().split()))\n",
        "cluster = int(input())\n",
        "\n",
        "cnt = 0\n",
        "for size in size_li:\n",
        "    if (size%cluster == 0):\n",
        "        if not (size == 0):\n",
        "            cnt += size//cluster\n",
        "            # print(\"1:\", cnt)\n",
        "    else:\n",
        "        if size <= cluster:\n",
        "            if not (size == 0):\n",
        "                cnt += 1\n",
        "                # print(\"z:\", cluster*cnt)\n",
        "        else:\n",
        "            cnt += (size//cluster+1)\n",
        "            # print(\"2:\", cnt)\n",
        "print(cluster*cnt)"
      ],
      "metadata": {
        "colab": {
          "base_uri": "https://localhost:8080/"
        },
        "id": "q5zu5qyMkQz9",
        "outputId": "0c51995e-07a3-4e38-d915-b196c72032a3"
      },
      "execution_count": null,
      "outputs": [
        {
          "output_type": "stream",
          "name": "stdout",
          "text": [
            "3\n",
            "4096 33792 76800\n",
            "1024\n",
            "114688\n"
          ]
        }
      ]
    },
    {
      "cell_type": "code",
      "source": [
        "# 1362번 펫\n",
        "i = 0\n",
        "\n",
        "while True:\n",
        "    life = True\n",
        "\n",
        "    i += 1\n",
        "    x, y = map(int, input().split())  # x : 적정체중, y : 실제 체중\n",
        "\n",
        "    if x == 0 and y == 0:\n",
        "        break\n",
        "\n",
        "    while True:\n",
        "        ctrl, n = map(str, input().split())\n",
        "\n",
        "        if ctrl == '#' and n == '0':\n",
        "            break\n",
        "\n",
        "        if ctrl == 'E': # 운동\n",
        "            y -= int(n)\n",
        "        elif ctrl == 'F': # 먹이\n",
        "            y += int(n)\n",
        "\n",
        "        if y <= 0:\n",
        "            life = False\n",
        "\n",
        "    if life is False:\n",
        "        print(i, 'RIP')\n",
        "    else:\n",
        "        if 0.5*x < y < 2*x:\n",
        "            print(i, ':-)')\n",
        "        else:\n",
        "            print(i, ':-(')"
      ],
      "metadata": {
        "colab": {
          "base_uri": "https://localhost:8080/"
        },
        "id": "VdcQ5Oo3sP13",
        "outputId": "2cfad287-4053-4c24-f0d4-150dfa7d91a5"
      },
      "execution_count": null,
      "outputs": [
        {
          "name": "stdout",
          "output_type": "stream",
          "text": [
            "100 100\n",
            "F 10\n",
            "F 10\n",
            "E 20\n",
            "# 0\n",
            "1 :-)\n",
            "100 100\n",
            "E 100\n",
            "# 0\n",
            "2 RIP\n",
            "0 0\n"
          ]
        }
      ]
    },
    {
      "cell_type": "code",
      "source": [
        "# 1371번 가장 많은 글자\n",
        "import sys\n",
        "\n",
        "# word = str(input())\n",
        "word = str(sys.stdin.read())\n",
        "alpha_li = list('abcdefghijklmnopqrstuvwxyz')\n",
        "\n",
        "li = []\n",
        "for alpha in alpha_li:\n",
        "    li.append(word.count(alpha))\n",
        "    # print(word.count(alpha))\n",
        "\n",
        "max_li = max(li)\n",
        "\n",
        "idx_li = []\n",
        "for idx, i in enumerate(li):\n",
        "    if i == max_li:\n",
        "        idx_li.append(idx)\n",
        "        # print(idx, i)\n",
        "\n",
        "result_li = []\n",
        "for idx in idx_li:\n",
        "    result_li.append(alpha_li[idx])\n",
        "\n",
        "result_li.sort()\n",
        "\n",
        "for result in result_li:\n",
        "    print(result, end='')"
      ],
      "metadata": {
        "colab": {
          "base_uri": "https://localhost:8080/"
        },
        "id": "2h2-BU4g82S0",
        "outputId": "a0a15e44-66cd-4300-f625-d3354f996e8e"
      },
      "execution_count": null,
      "outputs": [
        {
          "output_type": "stream",
          "name": "stdout",
          "text": [
            "english is a west germanic language originating in england and is the first language for most people in the united kingdom the united states canada australia new zealand ireland and the anglophone caribbean it is used extensively as a second language and as an official language throughout the world especially in common wealth countries and in many international organizations\n",
            "a"
          ]
        }
      ]
    },
    {
      "cell_type": "code",
      "source": [
        "# 2526번 싸이클\n",
        "\n",
        "N, P = map(int, input().split())\n",
        "\n",
        "result = N\n",
        "li = [N]\n",
        "\n",
        "while True:\n",
        "    result = (result*N)%P\n",
        "    if result not in li:\n",
        "        li.append(result)\n",
        "    else:\n",
        "        break\n",
        "\n",
        "for i in range(len(li)):\n",
        "\n",
        "    if li[i] == result:\n",
        "        break\n",
        "        \n",
        "print(len(li) - i)"
      ],
      "metadata": {
        "colab": {
          "base_uri": "https://localhost:8080/"
        },
        "id": "ku8wZghqOTWa",
        "outputId": "685e0c37-ac77-4f3b-a9d8-7d2a6dfc1d5d"
      },
      "execution_count": null,
      "outputs": [
        {
          "output_type": "stream",
          "name": "stdout",
          "text": [
            "67 31\n",
            "3\n"
          ]
        }
      ]
    },
    {
      "cell_type": "code",
      "source": [
        "# 1193 분수찾기\n",
        "\n",
        "cnt = 0\n",
        "num1 = 1\n",
        "num2 = 1\n",
        "n = int(input())\n",
        "for i in range(1, n+1):\n",
        "    if i % 2 != 0:\n",
        "        a = num1 + 3\n",
        "        num1 = num1 + (a+4)\n",
        "\n",
        "    for j in range(1, n+1):\n",
        "        print(i, j)\n",
        "        if j % 2 != 0:"
      ],
      "metadata": {
        "colab": {
          "base_uri": "https://localhost:8080/"
        },
        "id": "2GxZLWTx-A_I",
        "outputId": "87e11b61-f592-4969-a061-1ce15cec497e"
      },
      "execution_count": null,
      "outputs": [
        {
          "output_type": "stream",
          "name": "stdout",
          "text": [
            "3\n",
            "1 1\n",
            "1 2\n",
            "1 3\n",
            "2 1\n",
            "2 2\n",
            "2 3\n",
            "3 1\n",
            "3 2\n",
            "3 3\n"
          ]
        }
      ]
    },
    {
      "cell_type": "code",
      "source": [
        "# 2869번 달팽이는 올라가고 싶다\n",
        "import math\n",
        "\n",
        "up, down, h = map(int, input().split())\n",
        "\n",
        "result = (h-down)/(up-down)\n",
        "print(math.ceil(result))"
      ],
      "metadata": {
        "colab": {
          "base_uri": "https://localhost:8080/"
        },
        "id": "oE1iwNC5Px9K",
        "outputId": "bd4cea9f-6e40-4635-94e8-ab177ade6322"
      },
      "execution_count": null,
      "outputs": [
        {
          "output_type": "stream",
          "name": "stdout",
          "text": [
            "100 99 1000000000\n",
            "999999901\n"
          ]
        }
      ]
    },
    {
      "cell_type": "code",
      "source": [
        "# 10250 ACM 호텔\n",
        "\n",
        "case = int(input())\n",
        "\n",
        "for _ in range(case):\n",
        "    height, weight, num = map(int, input().split())\n",
        "\n",
        "    a = num%height # 층수\n",
        "    b = num//height + 1 # 호수\n",
        "\n",
        "    if num%height == 0:\n",
        "        a = height\n",
        "        b = num//height\n",
        "\n",
        "    print(a*100 + b)"
      ],
      "metadata": {
        "colab": {
          "base_uri": "https://localhost:8080/"
        },
        "id": "Jwcur5Dyje5P",
        "outputId": "3a64e5df-ad1c-41b4-cb58-2c45714e6709"
      },
      "execution_count": null,
      "outputs": [
        {
          "output_type": "stream",
          "name": "stdout",
          "text": [
            "1\n",
            "6 12 12\n",
            "602\n"
          ]
        }
      ]
    },
    {
      "cell_type": "code",
      "source": [
        "# 2775번 부녀회장이 될테야\n",
        "\n",
        "testcase = int(input())\n",
        "\n",
        "i = 0\n",
        "while True:\n",
        "    i += 1\n",
        "    if i > testcase:\n",
        "        break\n",
        "    \n",
        "    k_floor = []\n",
        "    cnt = 0\n",
        "    while True:\n",
        "        cnt += 1\n",
        "\n",
        "\n",
        "        k = int(input())\n",
        "        n = int(input())\n",
        "        # if cnt == k:\n",
        "        #     break\n",
        "        zero_floor = list(range(1, n+1))\n",
        "\n",
        "        for i in range(len(zero_floor)):\n",
        "            k_floor.append(sum(zero_floor[:i+1]))\n",
        "            \n",
        "        print(k_floor)\n",
        "        \n",
        "        next_floor = k_floor\n",
        "\n",
        "        for i in range(len(next_floor)):\n",
        "            k_floor.append(sum(next_floor[:i+1]))\n",
        "        print(k_floor)\n",
        "\n",
        "        \n",
        "        \n"
      ],
      "metadata": {
        "colab": {
          "base_uri": "https://localhost:8080/"
        },
        "id": "ZvPmFs9_PPZD",
        "outputId": "40d4baac-c119-49b0-8db4-d8934219dd34",
        "collapsed": true
      },
      "execution_count": null,
      "outputs": [
        {
          "output_type": "stream",
          "name": "stdout",
          "text": [
            "2\n",
            "1\n",
            "3\n",
            "[1, 3, 6]\n",
            "[1, 3, 6, 1, 4, 10]\n",
            "2\n",
            "3\n",
            "[1, 3, 6, 1, 4, 10, 1, 3, 6]\n",
            "[1, 3, 6, 1, 4, 10, 1, 3, 6, 1, 4, 10, 11, 15, 25, 26, 29, 35]\n"
          ]
        },
        {
          "output_type": "error",
          "ename": "KeyboardInterrupt",
          "evalue": "ignored",
          "traceback": [
            "\u001b[0;31m---------------------------------------------------------------------------\u001b[0m",
            "\u001b[0;31mKeyboardInterrupt\u001b[0m                         Traceback (most recent call last)",
            "\u001b[0;32m/usr/local/lib/python3.7/dist-packages/ipykernel/kernelbase.py\u001b[0m in \u001b[0;36m_input_request\u001b[0;34m(self, prompt, ident, parent, password)\u001b[0m\n\u001b[1;32m    728\u001b[0m             \u001b[0;32mtry\u001b[0m\u001b[0;34m:\u001b[0m\u001b[0;34m\u001b[0m\u001b[0;34m\u001b[0m\u001b[0m\n\u001b[0;32m--> 729\u001b[0;31m                 \u001b[0mident\u001b[0m\u001b[0;34m,\u001b[0m \u001b[0mreply\u001b[0m \u001b[0;34m=\u001b[0m \u001b[0mself\u001b[0m\u001b[0;34m.\u001b[0m\u001b[0msession\u001b[0m\u001b[0;34m.\u001b[0m\u001b[0mrecv\u001b[0m\u001b[0;34m(\u001b[0m\u001b[0mself\u001b[0m\u001b[0;34m.\u001b[0m\u001b[0mstdin_socket\u001b[0m\u001b[0;34m,\u001b[0m \u001b[0;36m0\u001b[0m\u001b[0;34m)\u001b[0m\u001b[0;34m\u001b[0m\u001b[0;34m\u001b[0m\u001b[0m\n\u001b[0m\u001b[1;32m    730\u001b[0m             \u001b[0;32mexcept\u001b[0m \u001b[0mException\u001b[0m\u001b[0;34m:\u001b[0m\u001b[0;34m\u001b[0m\u001b[0;34m\u001b[0m\u001b[0m\n",
            "\u001b[0;32m/usr/local/lib/python3.7/dist-packages/jupyter_client/session.py\u001b[0m in \u001b[0;36mrecv\u001b[0;34m(self, socket, mode, content, copy)\u001b[0m\n\u001b[1;32m    802\u001b[0m         \u001b[0;32mtry\u001b[0m\u001b[0;34m:\u001b[0m\u001b[0;34m\u001b[0m\u001b[0;34m\u001b[0m\u001b[0m\n\u001b[0;32m--> 803\u001b[0;31m             \u001b[0mmsg_list\u001b[0m \u001b[0;34m=\u001b[0m \u001b[0msocket\u001b[0m\u001b[0;34m.\u001b[0m\u001b[0mrecv_multipart\u001b[0m\u001b[0;34m(\u001b[0m\u001b[0mmode\u001b[0m\u001b[0;34m,\u001b[0m \u001b[0mcopy\u001b[0m\u001b[0;34m=\u001b[0m\u001b[0mcopy\u001b[0m\u001b[0;34m)\u001b[0m\u001b[0;34m\u001b[0m\u001b[0;34m\u001b[0m\u001b[0m\n\u001b[0m\u001b[1;32m    804\u001b[0m         \u001b[0;32mexcept\u001b[0m \u001b[0mzmq\u001b[0m\u001b[0;34m.\u001b[0m\u001b[0mZMQError\u001b[0m \u001b[0;32mas\u001b[0m \u001b[0me\u001b[0m\u001b[0;34m:\u001b[0m\u001b[0;34m\u001b[0m\u001b[0;34m\u001b[0m\u001b[0m\n",
            "\u001b[0;32m/usr/local/lib/python3.7/dist-packages/zmq/sugar/socket.py\u001b[0m in \u001b[0;36mrecv_multipart\u001b[0;34m(self, flags, copy, track)\u001b[0m\n\u001b[1;32m    723\u001b[0m         \"\"\"\n\u001b[0;32m--> 724\u001b[0;31m         \u001b[0mparts\u001b[0m \u001b[0;34m=\u001b[0m \u001b[0;34m[\u001b[0m\u001b[0mself\u001b[0m\u001b[0;34m.\u001b[0m\u001b[0mrecv\u001b[0m\u001b[0;34m(\u001b[0m\u001b[0mflags\u001b[0m\u001b[0;34m,\u001b[0m \u001b[0mcopy\u001b[0m\u001b[0;34m=\u001b[0m\u001b[0mcopy\u001b[0m\u001b[0;34m,\u001b[0m \u001b[0mtrack\u001b[0m\u001b[0;34m=\u001b[0m\u001b[0mtrack\u001b[0m\u001b[0;34m)\u001b[0m\u001b[0;34m]\u001b[0m\u001b[0;34m\u001b[0m\u001b[0;34m\u001b[0m\u001b[0m\n\u001b[0m\u001b[1;32m    725\u001b[0m         \u001b[0;31m# have first part already, only loop while more to receive\u001b[0m\u001b[0;34m\u001b[0m\u001b[0;34m\u001b[0m\u001b[0;34m\u001b[0m\u001b[0m\n",
            "\u001b[0;32mzmq/backend/cython/socket.pyx\u001b[0m in \u001b[0;36mzmq.backend.cython.socket.Socket.recv\u001b[0;34m()\u001b[0m\n",
            "\u001b[0;32mzmq/backend/cython/socket.pyx\u001b[0m in \u001b[0;36mzmq.backend.cython.socket.Socket.recv\u001b[0;34m()\u001b[0m\n",
            "\u001b[0;32mzmq/backend/cython/socket.pyx\u001b[0m in \u001b[0;36mzmq.backend.cython.socket._recv_copy\u001b[0;34m()\u001b[0m\n",
            "\u001b[0;32m/usr/local/lib/python3.7/dist-packages/zmq/backend/cython/checkrc.pxd\u001b[0m in \u001b[0;36mzmq.backend.cython.checkrc._check_rc\u001b[0;34m()\u001b[0m\n",
            "\u001b[0;31mKeyboardInterrupt\u001b[0m: ",
            "\nDuring handling of the above exception, another exception occurred:\n",
            "\u001b[0;31mKeyboardInterrupt\u001b[0m                         Traceback (most recent call last)",
            "\u001b[0;32m<ipython-input-5-225189c939d8>\u001b[0m in \u001b[0;36m<module>\u001b[0;34m()\u001b[0m\n\u001b[1;32m     15\u001b[0m \u001b[0;34m\u001b[0m\u001b[0m\n\u001b[1;32m     16\u001b[0m \u001b[0;34m\u001b[0m\u001b[0m\n\u001b[0;32m---> 17\u001b[0;31m         \u001b[0mk\u001b[0m \u001b[0;34m=\u001b[0m \u001b[0mint\u001b[0m\u001b[0;34m(\u001b[0m\u001b[0minput\u001b[0m\u001b[0;34m(\u001b[0m\u001b[0;34m)\u001b[0m\u001b[0;34m)\u001b[0m\u001b[0;34m\u001b[0m\u001b[0;34m\u001b[0m\u001b[0m\n\u001b[0m\u001b[1;32m     18\u001b[0m         \u001b[0mn\u001b[0m \u001b[0;34m=\u001b[0m \u001b[0mint\u001b[0m\u001b[0;34m(\u001b[0m\u001b[0minput\u001b[0m\u001b[0;34m(\u001b[0m\u001b[0;34m)\u001b[0m\u001b[0;34m)\u001b[0m\u001b[0;34m\u001b[0m\u001b[0;34m\u001b[0m\u001b[0m\n\u001b[1;32m     19\u001b[0m         \u001b[0;31m# if cnt == k:\u001b[0m\u001b[0;34m\u001b[0m\u001b[0;34m\u001b[0m\u001b[0;34m\u001b[0m\u001b[0m\n",
            "\u001b[0;32m/usr/local/lib/python3.7/dist-packages/ipykernel/kernelbase.py\u001b[0m in \u001b[0;36mraw_input\u001b[0;34m(self, prompt)\u001b[0m\n\u001b[1;32m    702\u001b[0m             \u001b[0mself\u001b[0m\u001b[0;34m.\u001b[0m\u001b[0m_parent_ident\u001b[0m\u001b[0;34m,\u001b[0m\u001b[0;34m\u001b[0m\u001b[0;34m\u001b[0m\u001b[0m\n\u001b[1;32m    703\u001b[0m             \u001b[0mself\u001b[0m\u001b[0;34m.\u001b[0m\u001b[0m_parent_header\u001b[0m\u001b[0;34m,\u001b[0m\u001b[0;34m\u001b[0m\u001b[0;34m\u001b[0m\u001b[0m\n\u001b[0;32m--> 704\u001b[0;31m             \u001b[0mpassword\u001b[0m\u001b[0;34m=\u001b[0m\u001b[0;32mFalse\u001b[0m\u001b[0;34m,\u001b[0m\u001b[0;34m\u001b[0m\u001b[0;34m\u001b[0m\u001b[0m\n\u001b[0m\u001b[1;32m    705\u001b[0m         )\n\u001b[1;32m    706\u001b[0m \u001b[0;34m\u001b[0m\u001b[0m\n",
            "\u001b[0;32m/usr/local/lib/python3.7/dist-packages/ipykernel/kernelbase.py\u001b[0m in \u001b[0;36m_input_request\u001b[0;34m(self, prompt, ident, parent, password)\u001b[0m\n\u001b[1;32m    732\u001b[0m             \u001b[0;32mexcept\u001b[0m \u001b[0mKeyboardInterrupt\u001b[0m\u001b[0;34m:\u001b[0m\u001b[0;34m\u001b[0m\u001b[0;34m\u001b[0m\u001b[0m\n\u001b[1;32m    733\u001b[0m                 \u001b[0;31m# re-raise KeyboardInterrupt, to truncate traceback\u001b[0m\u001b[0;34m\u001b[0m\u001b[0;34m\u001b[0m\u001b[0;34m\u001b[0m\u001b[0m\n\u001b[0;32m--> 734\u001b[0;31m                 \u001b[0;32mraise\u001b[0m \u001b[0mKeyboardInterrupt\u001b[0m\u001b[0;34m\u001b[0m\u001b[0;34m\u001b[0m\u001b[0m\n\u001b[0m\u001b[1;32m    735\u001b[0m             \u001b[0;32melse\u001b[0m\u001b[0;34m:\u001b[0m\u001b[0;34m\u001b[0m\u001b[0;34m\u001b[0m\u001b[0m\n\u001b[1;32m    736\u001b[0m                 \u001b[0;32mbreak\u001b[0m\u001b[0;34m\u001b[0m\u001b[0;34m\u001b[0m\u001b[0m\n",
            "\u001b[0;31mKeyboardInterrupt\u001b[0m: "
          ]
        }
      ]
    },
    {
      "cell_type": "code",
      "source": [
        "# 2775번 부녀회장이 될테야\n",
        "\n",
        "testcase = int(input())\n",
        "\n",
        "for _ in range(testcase):\n",
        "    k = int(input())\n",
        "    n = int(input())\n",
        "    zero_floor = list(range(1, n+1))\n",
        "\n",
        "    for _ in range(k):\n",
        "    # while True:\n",
        "        for i in range(1,n):\n",
        "            zero_floor[i] = zero_floor[i] + zero_floor[i-1]\n",
        "\n",
        "            # k_floor.append(sum(zero_floor[:i+1]))\n",
        "            \n",
        "    print(zero_floor[-1])\n",
        "        \n",
        "        # for i in range(len(next_floor)):\n",
        "        #     new_floor.append(sum(next_floor[:i+1]))\n",
        "        # print(new_floor)\n",
        "\n",
        "        # k_floor = []\n",
        "\n",
        "        \n",
        "        \n"
      ],
      "metadata": {
        "colab": {
          "base_uri": "https://localhost:8080/"
        },
        "id": "QYiLXvszZbZ2",
        "outputId": "76735064-9079-4336-ce5f-a0714d65b406"
      },
      "execution_count": null,
      "outputs": [
        {
          "output_type": "stream",
          "name": "stdout",
          "text": [
            "2\n",
            "2\n",
            "3\n",
            "10\n",
            "3\n",
            "3\n",
            "15\n"
          ]
        }
      ]
    },
    {
      "cell_type": "code",
      "source": [
        "# 2775번 부녀회장이 될테야\n",
        "\n",
        "testcase = int(input())\n",
        "\n",
        "for _ in range(testcase):\n",
        "    k = int(input()) # 층수\n",
        "    n = int(input()) # 호수\n",
        "    zero_floor = list(range(1, n+1)) # 0층\n",
        "\n",
        "    for _ in range(k):\n",
        "        for idx in range(1, n):\n",
        "            zero_floor[idx] = zero_floor[idx] + zero_floor[idx-1]\n",
        "    print(zero_floor[-1])"
      ],
      "metadata": {
        "colab": {
          "base_uri": "https://localhost:8080/"
        },
        "id": "O56VUfa9ddvL",
        "outputId": "607e7e91-b7fe-4daf-d50f-10e55599a1d5"
      },
      "execution_count": null,
      "outputs": [
        {
          "output_type": "stream",
          "name": "stdout",
          "text": [
            "2\n",
            "3\n",
            "4\n",
            "35\n",
            "2\n",
            "4\n",
            "20\n"
          ]
        }
      ]
    },
    {
      "cell_type": "code",
      "source": [
        "# 2839번 설탕 배달\n",
        "\n",
        "num = int(input())\n",
        "a, b = 3, 5 # 3kg, 5kg\n",
        "\n",
        "if (num%5)%3 != 0:\n",
        "    if (num%5)%3 == 0:\n",
        "        print(num//3)\n",
        "elif num%3 == 0:\n",
        "    print(num//3)\n",
        "    \n",
        "else:\n",
        "    if (num%5)%3 == 0:\n",
        "        print(num//5 + ((num%5)//3))\n",
        "# print(9%5%3)"
      ],
      "metadata": {
        "colab": {
          "base_uri": "https://localhost:8080/"
        },
        "id": "Ajg2fCC9JmKW",
        "outputId": "c8398a02-bdef-4e23-b9eb-67ad7c2c2d5d"
      },
      "execution_count": null,
      "outputs": [
        {
          "name": "stdout",
          "output_type": "stream",
          "text": [
            "9\n"
          ]
        }
      ]
    },
    {
      "cell_type": "code",
      "source": [
        "# 2839번 설탕 배달\n",
        "\n",
        "num = int(input())\n",
        "\n",
        "if (num%5 == 0) and (num%3 == 0):\n",
        "    print(num//5)\n",
        "elif (num%5)%3 == 0:\n",
        "    print(num//5 + ((num%5)//3))\n",
        "elif num%3 == 0:\n",
        "    print(num//3)\n",
        "elif num%5 == 0:\n",
        "    print(num//5)\n",
        "else:\n",
        "    print('-1')"
      ],
      "metadata": {
        "colab": {
          "base_uri": "https://localhost:8080/"
        },
        "id": "ftZ9OaCiOQ-C",
        "outputId": "f2e5d730-e6bc-4e6e-c194-96aa832d2465"
      },
      "execution_count": null,
      "outputs": [
        {
          "output_type": "stream",
          "name": "stdout",
          "text": [
            "11\n",
            "-1\n"
          ]
        }
      ]
    },
    {
      "cell_type": "code",
      "source": [
        "# 2839번 설탕 배달\n",
        "num = int(input())\n",
        "\n",
        "cnt = 0\n",
        "\n",
        "while num >= 0:\n",
        "    if num%5 == 0:\n",
        "        print(num//5 + cnt)\n",
        "        break\n",
        "    \n",
        "    num -= 3\n",
        "    cnt += 1\n",
        "else:\n",
        "    print('-1')"
      ],
      "metadata": {
        "colab": {
          "base_uri": "https://localhost:8080/"
        },
        "id": "Msb-veMoQVHd",
        "outputId": "55e1e149-d98c-46da-ea3d-170850408a34"
      },
      "execution_count": null,
      "outputs": [
        {
          "output_type": "stream",
          "name": "stdout",
          "text": [
            "2\n",
            "-1\n"
          ]
        }
      ]
    },
    {
      "cell_type": "code",
      "source": [
        "# 1978번 소수 찾기\n",
        "n = int(input())\n",
        "n_li = list(map(int, input().split()))\n",
        "\n",
        "answer = []\n",
        "\n",
        "for i in n_li:\n",
        "    result = 1\n",
        "    for j in range(2, i):\n",
        "        if i%j == 0:\n",
        "            result = 0\n",
        "    if result == True:\n",
        "        if not i == 1:\n",
        "            answer.append(i)\n",
        "    \n",
        "print(answer)\n",
        "print(len(answer))"
      ],
      "metadata": {
        "colab": {
          "base_uri": "https://localhost:8080/"
        },
        "id": "t9p_--inVMnY",
        "outputId": "fe574ab4-e04b-4b58-9332-c12f931ccf09"
      },
      "execution_count": null,
      "outputs": [
        {
          "output_type": "stream",
          "name": "stdout",
          "text": [
            "4\n",
            "1 2 3 4 5 6 7\n",
            "[2, 3, 5, 7]\n",
            "4\n"
          ]
        }
      ]
    },
    {
      "cell_type": "code",
      "source": [
        "# 2581번 소수\n",
        "\n",
        "a = int(input())\n",
        "b = int(input())\n",
        "\n",
        "li = list(range(a, b+1))\n",
        "# print(li)\n",
        "\n",
        "answer = []\n",
        "for i in li:\n",
        "    result = 1\n",
        "    for j in range(2, i):\n",
        "        if i%j == 0:\n",
        "            result = 0\n",
        "    if result == True:\n",
        "        if not i == 1:\n",
        "            answer.append(i)\n",
        "\n",
        "if bool(answer) == True:\n",
        "    print(sum(answer))\n",
        "    print(min(answer))\n",
        "else:\n",
        "    print('-1')"
      ],
      "metadata": {
        "colab": {
          "base_uri": "https://localhost:8080/"
        },
        "id": "D7Rij1BV1iB3",
        "outputId": "778c5601-6b2f-4647-9874-f435e158bc58"
      },
      "execution_count": null,
      "outputs": [
        {
          "output_type": "stream",
          "name": "stdout",
          "text": [
            "610\n",
            "800\n",
            "19574\n",
            "613\n"
          ]
        }
      ]
    },
    {
      "cell_type": "code",
      "source": [
        "# 11653번 소인수분해\n",
        "\n",
        "\n",
        "n = int(input())\n",
        "n_li = list(range(2, n+1))\n",
        "# print(n_li)\n",
        "\n",
        "li = []\n",
        "while True:\n",
        "    if n == 1:\n",
        "        break\n",
        "\n",
        "    for i in range(len(n_li)):\n",
        "        if n%n_li[i] == 0:\n",
        "            n = n//n_li[i]\n",
        "            li.append(n_li[i])\n",
        "            # print(n)\n",
        "            break\n",
        "for result in li:\n",
        "    print(result)\n",
        "# print(li)"
      ],
      "metadata": {
        "colab": {
          "base_uri": "https://localhost:8080/"
        },
        "id": "GFvDaVn_78_s",
        "outputId": "8b530da0-d868-4655-b984-fdc78ffa6385"
      },
      "execution_count": null,
      "outputs": [
        {
          "output_type": "stream",
          "name": "stdout",
          "text": [
            "72\n",
            "2\n",
            "2\n",
            "2\n",
            "3\n",
            "3\n"
          ]
        }
      ]
    },
    {
      "cell_type": "code",
      "source": [
        "# 1929번 소수 구하기\n",
        "\n",
        "a, b = map(int, input().split())\n",
        "\n",
        "for i in range(a, b+1):\n",
        "    result = True\n",
        "    if i == 1:\n",
        "        pass\n",
        "        for j in range(2, int(i**0.5)+1):\n",
        "            if i%j == 0:\n",
        "                result = False\n",
        "                break\n",
        "    else:\n",
        "        print(i)\n",
        "# x, y = map(int, input().split())\n",
        "\n",
        "# for i in range(x, y+1):\n",
        "#     if i == 1: #1은 소수가 아뉘지!\n",
        "#         continue\n",
        "#     for j in range(2, int(i** 0.5)+1 ):\n",
        "#         if i%j==0:\n",
        "#             break\n",
        "#     else:\n",
        "#         print(i)"
      ],
      "metadata": {
        "colab": {
          "base_uri": "https://localhost:8080/"
        },
        "id": "LqMuBoSu_mPg",
        "outputId": "2fb2f899-af6a-4dbe-9275-bfa601e42786"
      },
      "execution_count": null,
      "outputs": [
        {
          "output_type": "stream",
          "name": "stdout",
          "text": [
            "3 16\n",
            "3\n",
            "4\n",
            "5\n",
            "6\n",
            "7\n",
            "8\n",
            "9\n",
            "10\n",
            "11\n",
            "12\n",
            "13\n",
            "14\n",
            "15\n",
            "16\n"
          ]
        }
      ]
    },
    {
      "cell_type": "code",
      "source": [
        "# n=int(input())\n",
        "a, b = map(int, input().split())\n",
        "temp = [False]*(a) + [True]*(b-1)\n",
        "\n",
        "primes=[]\n",
        "\n",
        "for i in range(2,b+1):\n",
        "  if temp[i]:\n",
        "    primes.append(i)\n",
        "    for j in range(2*i, b+1, i): \n",
        "        temp[j] = False\n",
        "# print(temp)\n",
        "# print(primes)\n",
        "for result in primes:\n",
        "    print(result)"
      ],
      "metadata": {
        "colab": {
          "base_uri": "https://localhost:8080/"
        },
        "id": "7KrRJN3NDR17",
        "outputId": "1b3bb425-5666-4937-833c-641d342428ca"
      },
      "execution_count": null,
      "outputs": [
        {
          "output_type": "stream",
          "name": "stdout",
          "text": [
            "3 16\n",
            "3\n",
            "4\n",
            "5\n",
            "7\n",
            "11\n",
            "13\n"
          ]
        }
      ]
    },
    {
      "cell_type": "code",
      "source": [
        "# 1929번 소수 구하기\n",
        "\n",
        "x, y = map(int,input().split())\n",
        "a = [True]*(y+1)\n",
        "a[1] = False\n",
        "\n",
        "for i in range(2, int(y**0.5)+1):\n",
        "  if a[i]:\n",
        "    for j in range(i*i, y+1, i):\n",
        "        a[j] = False\n",
        "\n",
        "for idx in range(x, y+1):\n",
        "    if a[idx]:\n",
        "        print(idx)"
      ],
      "metadata": {
        "colab": {
          "base_uri": "https://localhost:8080/"
        },
        "id": "_BXMCoYhGZZO",
        "outputId": "b8d97d42-2e45-4d62-f522-3f7578af0ef0"
      },
      "execution_count": null,
      "outputs": [
        {
          "output_type": "stream",
          "name": "stdout",
          "text": [
            "3 5\n",
            "3\n",
            "5\n"
          ]
        }
      ]
    },
    {
      "cell_type": "code",
      "source": [
        "# 4948번 베르트랑 공준\n",
        "\n",
        "n = int(input())\n",
        "a = [True]*(2*n+1)\n",
        "a[1] = False\n",
        "\n",
        "for i in range(2, int((2*n)**0.5)+1):\n",
        "  if a[i]:\n",
        "    for j in range(i*i, n+1, i):\n",
        "        a[j] = False\n",
        "        print(j)\n",
        "print(a)\n",
        "# for idx in range(b, 2*b + 1):\n",
        "#     if a[idx]:\n",
        "#         print(idx)"
      ],
      "metadata": {
        "colab": {
          "base_uri": "https://localhost:8080/"
        },
        "id": "NPIFtWEONLLg",
        "outputId": "c7a32c9b-3c7d-446c-89bc-e6bb194c0a30"
      },
      "execution_count": null,
      "outputs": [
        {
          "output_type": "stream",
          "name": "stdout",
          "text": [
            "13\n",
            "4\n",
            "6\n",
            "8\n",
            "10\n",
            "12\n",
            "9\n",
            "12\n",
            "[True, False, True, True, False, True, False, True, False, False, False, True, False, True, True, True, True, True, True, True, True, True, True, True, True, True, True]\n"
          ]
        }
      ]
    },
    {
      "cell_type": "code",
      "source": [
        "# 4948번 베르트랑 공준\n",
        "\n",
        "n = 999999\n",
        "temp = [False,False] + [True]*(n)\n",
        "\n",
        "primes=[]\n",
        "for i in range(2, n+1):\n",
        "  if temp[i]:\n",
        "    primes.append(i)\n",
        "    for j in range(2*i, n+1, i): \n",
        "        temp[j] = False\n",
        "\n",
        "while True:\n",
        "    case = int(input())\n",
        "    if case == 0:\n",
        "        break\n",
        "    li = []\n",
        "    for idx in range(len(primes)):\n",
        "        if case < primes[idx] <= 2*case:\n",
        "            li.append(primes[idx])\n",
        "    print(len(li))"
      ],
      "metadata": {
        "colab": {
          "base_uri": "https://localhost:8080/"
        },
        "id": "tWw5Ava6SQMD",
        "outputId": "591be86c-360a-4693-c2d5-6a279f4a9842"
      },
      "execution_count": null,
      "outputs": [
        {
          "name": "stdout",
          "output_type": "stream",
          "text": [
            "1\n",
            "1\n",
            "10\n",
            "4\n",
            "13\n",
            "3\n",
            "100\n",
            "21\n",
            "0\n"
          ]
        }
      ]
    },
    {
      "cell_type": "code",
      "source": [
        "# 9020번 골드바흐의 추측\n",
        "# import sys\n",
        "n = 10001\n",
        "temp = [False,False] + [True]*(n)\n",
        "\n",
        "primes=[]\n",
        "for i in range(2, n+1):\n",
        "  if temp[i]:\n",
        "    primes.append(i)\n",
        "    for j in range(2*i, n+1, i): \n",
        "        temp[j] = False\n",
        "\n",
        "# print(primes)\n",
        "epoch = int(input())\n",
        "for _ in range(epoch):\n",
        "    temp = int(input())\n",
        "    li = []\n",
        "    li2 = []\n",
        "    for i in range(len(primes)):\n",
        "        for j in primes:\n",
        "            if primes[i] + j == temp:\n",
        "                if primes[i]-j >= 0:\n",
        "                    # print(primes[i], j)\n",
        "                    li.append(primes[i])\n",
        "                    li2.append(j)\n",
        "            # print(primes[i] + j)\n",
        "    # print(li)\n",
        "    # print(li2)\n",
        "    result_li = []\n",
        "    for i in range(len(li)):\n",
        "        result_li.append(li[i] - li2[i])\n",
        "\n",
        "    idx = result_li.index(min(result_li))\n",
        "\n",
        "    print(min(li[idx], li2[idx]), max(li[idx], li2[idx]))"
      ],
      "metadata": {
        "colab": {
          "base_uri": "https://localhost:8080/"
        },
        "id": "jdEyWa4CVtHI",
        "outputId": "cd6a219e-7eb6-48a6-fb3f-fce4b508344b"
      },
      "execution_count": null,
      "outputs": [
        {
          "output_type": "stream",
          "name": "stdout",
          "text": [
            "3\n",
            "10\n",
            "5 5\n",
            "16\n",
            "5 11\n",
            "50\n",
            "19 31\n"
          ]
        }
      ]
    },
    {
      "cell_type": "code",
      "source": [
        "# 1145 적어도 대부분의 배수\n",
        "'''런타임 에러 (ValueError) 뜸'''\n",
        "n_li = list(map(int, input().split()))\n",
        "\n",
        "li = []\n",
        "cnt = 0\n",
        "while True:\n",
        "    cnt += 1\n",
        "    for i in n_li:\n",
        "        li.append(i*cnt)\n",
        "    if cnt > 100:\n",
        "        break\n",
        "\n",
        "cnt = {}\n",
        "for i in li:\n",
        "    try:\n",
        "        cnt[i] += 1\n",
        "    except:\n",
        "        cnt[i] = 1\n",
        "\n",
        "result_li = []\n",
        "for k, v in cnt.items():\n",
        "    if v >= 3:\n",
        "        result_li.append(k)\n",
        "# print(result_li)\n",
        "print(min(result_li))\n",
        "\n",
        "'''\n",
        "인터넷에서 찾은 정답\n",
        "arr = list(map(int, input().split()))\n",
        "\n",
        "minNum = min(arr)\n",
        "cnt = 0\n",
        "while True:\n",
        "    cnt = 0\n",
        "    for i in range(len(arr)):\n",
        "        if minNum % arr[i] == 0 :\n",
        "            cnt += 1\n",
        "    if cnt >= 3:\n",
        "        print(minNum)\n",
        "        break\n",
        "    minNum += 1\n",
        "'''"
      ],
      "metadata": {
        "colab": {
          "base_uri": "https://localhost:8080/",
          "height": 108
        },
        "id": "SpNGd9nNQ55w",
        "outputId": "f329573d-a44e-4733-b74f-d393f3451731"
      },
      "execution_count": null,
      "outputs": [
        {
          "output_type": "stream",
          "name": "stdout",
          "text": [
            "30 70 45 65 80\n",
            "630\n"
          ]
        },
        {
          "output_type": "execute_result",
          "data": {
            "text/plain": [
              "'\\n인터넷에서 찾은 정답\\narr = list(map(int, input().split()))\\n\\nminNum = min(arr)\\ncnt = 0\\nwhile True:\\n    cnt = 0\\n    for i in range(len(arr)):\\n        if minNum % arr[i] == 0 :\\n            cnt += 1\\n    if cnt >= 3:\\n        print(minNum)\\n        break\\n    minNum += 1\\n'"
            ],
            "application/vnd.google.colaboratory.intrinsic+json": {
              "type": "string"
            }
          },
          "metadata": {},
          "execution_count": 2
        }
      ]
    },
    {
      "cell_type": "code",
      "source": [
        "# 1268번 임시 반장 정하기\n",
        "\n",
        "n = int(input())\n",
        "\n",
        "li = []\n",
        "for i in range(n):\n",
        "    a = list(map(int, input().split()))\n",
        "    # print(a[i][0])\n",
        "    for j in range(len(a)):\n",
        "        print(a[i][j])\n",
        "        # a = list(map(int, input().split()))\n",
        "        # print(a[i][j])"
      ],
      "metadata": {
        "colab": {
          "base_uri": "https://localhost:8080/",
          "height": 284
        },
        "id": "hYTi3pCEZ5KW",
        "outputId": "92e9eb26-8ab0-4e48-e743-221d026007f2"
      },
      "execution_count": null,
      "outputs": [
        {
          "name": "stdout",
          "output_type": "stream",
          "text": [
            "3\n",
            "1 2 3\n"
          ]
        },
        {
          "output_type": "error",
          "ename": "TypeError",
          "evalue": "ignored",
          "traceback": [
            "\u001b[0;31m---------------------------------------------------------------------------\u001b[0m",
            "\u001b[0;31mTypeError\u001b[0m                                 Traceback (most recent call last)",
            "\u001b[0;32m<ipython-input-52-3de58fd66282>\u001b[0m in \u001b[0;36m<module>\u001b[0;34m()\u001b[0m\n\u001b[1;32m      8\u001b[0m     \u001b[0;31m# print(a[i][0])\u001b[0m\u001b[0;34m\u001b[0m\u001b[0;34m\u001b[0m\u001b[0;34m\u001b[0m\u001b[0m\n\u001b[1;32m      9\u001b[0m     \u001b[0;32mfor\u001b[0m \u001b[0mj\u001b[0m \u001b[0;32min\u001b[0m \u001b[0mrange\u001b[0m\u001b[0;34m(\u001b[0m\u001b[0mlen\u001b[0m\u001b[0;34m(\u001b[0m\u001b[0ma\u001b[0m\u001b[0;34m)\u001b[0m\u001b[0;34m)\u001b[0m\u001b[0;34m:\u001b[0m\u001b[0;34m\u001b[0m\u001b[0;34m\u001b[0m\u001b[0m\n\u001b[0;32m---> 10\u001b[0;31m         \u001b[0mprint\u001b[0m\u001b[0;34m(\u001b[0m\u001b[0ma\u001b[0m\u001b[0;34m[\u001b[0m\u001b[0mi\u001b[0m\u001b[0;34m]\u001b[0m\u001b[0;34m[\u001b[0m\u001b[0mj\u001b[0m\u001b[0;34m]\u001b[0m\u001b[0;34m)\u001b[0m\u001b[0;34m\u001b[0m\u001b[0;34m\u001b[0m\u001b[0m\n\u001b[0m\u001b[1;32m     11\u001b[0m         \u001b[0;31m# a = list(map(int, input().split()))\u001b[0m\u001b[0;34m\u001b[0m\u001b[0;34m\u001b[0m\u001b[0;34m\u001b[0m\u001b[0m\n\u001b[1;32m     12\u001b[0m         \u001b[0;31m# print(a[i][j])\u001b[0m\u001b[0;34m\u001b[0m\u001b[0;34m\u001b[0m\u001b[0;34m\u001b[0m\u001b[0m\n",
            "\u001b[0;31mTypeError\u001b[0m: 'int' object is not subscriptable"
          ]
        }
      ]
    },
    {
      "cell_type": "code",
      "source": [
        "# 7568번 덩치\n",
        "\n",
        "n = int(input())\n",
        "\n",
        "li = {}\n",
        "for _ in range(n):\n",
        "    a, b = map(int, input().split())\n",
        "    try:\n",
        "        li[a] = b\n",
        "    except:\n",
        "        li[a] = b\n",
        "    \n",
        "print(li)\n"
      ],
      "metadata": {
        "colab": {
          "base_uri": "https://localhost:8080/"
        },
        "id": "mUiktjpsLAsh",
        "outputId": "97c8373c-e083-4f6e-abd5-09f8d56cd8d7"
      },
      "execution_count": null,
      "outputs": [
        {
          "output_type": "stream",
          "name": "stdout",
          "text": [
            "3\n",
            "1 2\n",
            "1 2\n",
            "3 4\n",
            "{1: 2, 3: 4}\n"
          ]
        }
      ]
    },
    {
      "cell_type": "code",
      "source": [
        "n = int(input())\n",
        "\n",
        "li = []\n",
        "for i in range(n):\n",
        "    weight, height = map(int, input().split())\n",
        "    li.append((weight, height))\n",
        "print(li)\n",
        "for i in li:\n",
        "    for j in li:\n",
        "        print(i[0], j)\n",
        "# cnt = 0\n",
        "# for i in range(len(w_li)):\n",
        "#     w_temp = w_li[i]\n",
        "#     if w_temp > w_li[i]:\n",
        "#         print(w_li[i])\n",
        "#     # if w_li[i] >= w_li[i+1] and h_li[i] >= h_li[i+1]:\n",
        "#     #     cnt += 1\n",
        "#     #     print(cnt)"
      ],
      "metadata": {
        "colab": {
          "base_uri": "https://localhost:8080/"
        },
        "id": "UUYU9Hc1aI70",
        "outputId": "76f6e953-0dc4-497e-efbf-fbb296031004"
      },
      "execution_count": null,
      "outputs": [
        {
          "output_type": "stream",
          "name": "stdout",
          "text": [
            "2\n",
            "1 2\n",
            "3 4\n",
            "[(1, 2), (3, 4)]\n",
            "1 (1, 2)\n",
            "1 (3, 4)\n",
            "3 (1, 2)\n",
            "3 (3, 4)\n"
          ]
        }
      ]
    },
    {
      "cell_type": "code",
      "source": [
        "# 1059번 좋은 구간\n",
        "\n",
        "set_len = int(input())\n",
        "set_li = list(map(int, input().split()))\n",
        "n = int(input())\n",
        "\n",
        "cnt = 0\n",
        "if n not in set_li and set_len != 1 and (min(set_li) <= n <= max(set_li)):\n",
        "    a_li = [set_li[i] for i in range(set_len) if set_li[i] < n]\n",
        "    b_li = [set_li[i] for i in range(set_len) if set_li[i] > n]\n",
        "\n",
        "    # print('a_li', a_li)\n",
        "    # print('b_li', b_li)\n",
        "    a, b = max(a_li), min(b_li)\n",
        "    # print('a',a, 'b',b)\n",
        "\n",
        "    temp = [i for i in range(a+1, b)]\n",
        "    # print(temp)\n",
        "    if len(temp) == 1:\n",
        "        cnt = 1\n",
        "    else:\n",
        "        for i in temp:\n",
        "            for j in temp:\n",
        "                if i < j:\n",
        "                    if i <= n <= j:\n",
        "                        # print(i, j)\n",
        "                        cnt += 1\n",
        "    print(cnt)\n",
        "    \n",
        "else:\n",
        "    cnt = 0\n",
        "    print(cnt)"
      ],
      "metadata": {
        "colab": {
          "base_uri": "https://localhost:8080/"
        },
        "id": "g6WHAjVXdci2",
        "outputId": "524b3259-6227-4471-9275-90e688eccf4f"
      },
      "execution_count": null,
      "outputs": [
        {
          "output_type": "stream",
          "name": "stdout",
          "text": [
            "1\n",
            "500\n",
            "1\n",
            "0\n"
          ]
        }
      ]
    },
    {
      "cell_type": "code",
      "source": [
        "# 1059번 좋은 구간 \n",
        "\n",
        "L = int(input())\n",
        "s_li = list(map(int, input().split()))\n",
        "s_li = [0] + s_li\n",
        "s_li.sort()\n",
        "\n",
        "# print(s_li)\n",
        "n = int(input())\n",
        "\n",
        "cnt = 0\n",
        "for i in range(L):\n",
        "    if n in s_li:\n",
        "        cnt = 0\n",
        "    elif s_li[i] < n and n < s_li[i+1]:\n",
        "        a = list(range(s_li[i]+1, s_li[i+1]))\n",
        "        # print(a)\n",
        "        for j in a:\n",
        "            for z in a:\n",
        "                if j < z:\n",
        "                    if j <= n <= z:\n",
        "                        # print(j, z)\n",
        "                        cnt += 1\n",
        "print(cnt)"
      ],
      "metadata": {
        "colab": {
          "base_uri": "https://localhost:8080/"
        },
        "id": "BdPIQFFYHJsh",
        "outputId": "e53719e2-9812-4098-9d0f-24f1dc417c52"
      },
      "execution_count": null,
      "outputs": [
        {
          "output_type": "stream",
          "name": "stdout",
          "text": [
            "1\n",
            "500\n",
            "1\n",
            "498\n"
          ]
        }
      ]
    },
    {
      "cell_type": "code",
      "source": [
        "# 1059번 좋은 구간 (실패)\n",
        "\n",
        "set_len = int(input())\n",
        "\n",
        "set_li = list(map(int, input().split()))\n",
        "n = int(input())\n",
        "\n",
        "if n not in set_li:\n",
        "    a_li = []\n",
        "    for i in range(set_len)\n",
        "    a_li = [set_li[i] for i in range(set_len) if set_li[i] < n]\n",
        "    b_li = [set_li[i] for i in range(set_len) if set_li[i] > n]\n",
        "\n",
        "    # print(a_li)\n",
        "    a, b = max(a_li), min(b_li)\n",
        "    # print(a, b)\n",
        "\n",
        "    temp = [i for i in range(a+1, b)]\n",
        "    # print(temp)\n",
        "\n",
        "    cnt = 0\n",
        "    for i in temp:\n",
        "        for j in temp:\n",
        "            if i < j:\n",
        "                if i <= n <= j:\n",
        "                    # print(i, j)\n",
        "                    cnt += 1\n",
        "    print(cnt)\n",
        "\n",
        "else:\n",
        "    print('0')"
      ],
      "metadata": {
        "id": "kj-lkcSw7Dh3"
      },
      "execution_count": null,
      "outputs": []
    },
    {
      "cell_type": "code",
      "source": [
        "# 7568번 덩치\n",
        "n = int(input())\n",
        "\n",
        "arr = [list(map(int, input().split())) for i in range(n)]\n",
        "\n",
        "for i in arr:\n",
        "    cnt = 1\n",
        "    for j in arr:\n",
        "        if i[0] < j[0] and i[1] < j[1]:\n",
        "            cnt +=1\n",
        "    \n",
        "        print(i[0] < j[0])\n",
        "        print(i[0], i[1], \"d\", j[0], j[1])\n",
        "    print(cnt)\n",
        "        # print(i, j)"
      ],
      "metadata": {
        "colab": {
          "base_uri": "https://localhost:8080/"
        },
        "id": "aehLbTtrdyjj",
        "outputId": "ee55d54a-ea1b-41b1-b8d2-cdb5adc686c4"
      },
      "execution_count": null,
      "outputs": [
        {
          "output_type": "stream",
          "name": "stdout",
          "text": [
            "2\n",
            "1 2\n",
            "3 4\n",
            "False\n",
            "1 2 d 1 2\n",
            "True\n",
            "1 2 d 3 4\n",
            "2\n",
            "False\n",
            "3 4 d 1 2\n",
            "False\n",
            "3 4 d 3 4\n",
            "1\n"
          ]
        }
      ]
    },
    {
      "cell_type": "code",
      "source": [
        "# 1094번 막대기\n",
        "\n",
        "x = int(input())\n",
        "n_li = [64, 32, 16, 8, 4, 2, 1]\n",
        "\n",
        "li = [n_li[i] for i in range(len(n_li)) if n_li[i] <= x]\n",
        "# print(li)\n",
        "\n",
        "a = 0\n",
        "cnt = 0\n",
        "for i in li:\n",
        "    if a+i <= x:\n",
        "        a += i\n",
        "        cnt += 1\n",
        "        print(a, cnt)\n",
        "print(cnt)"
      ],
      "metadata": {
        "colab": {
          "base_uri": "https://localhost:8080/"
        },
        "id": "uytcQeZuQiF5",
        "outputId": "eb6c2831-9c1b-450b-a660-1bb1556ef132"
      },
      "execution_count": null,
      "outputs": [
        {
          "output_type": "stream",
          "name": "stdout",
          "text": [
            "48\n",
            "32 1\n",
            "48 2\n",
            "2\n"
          ]
        }
      ]
    },
    {
      "cell_type": "code",
      "source": [
        "# 2609번 최대공약수와 최소공배수\n",
        "\n",
        "def max_cnt(cnt, a, b):\n",
        "    while True:\n",
        "        cnt += 1\n",
        "        if cnt%a == 0 and cnt%b == 0:\n",
        "            max_cnt = cnt\n",
        "            break\n",
        "    min_cnt = (a*b)//max_cnt\n",
        "    return max_cnt, min_cnt\n",
        "\n",
        "if __name__ == '__main__':\n",
        "\n",
        "    a, b = map(int, input().split())\n",
        "    cnt = 0\n",
        "\n",
        "    max_cnt, min_cnt = max_cnt(cnt, a, b)\n",
        "    print(min_cnt, max_cnt, sep='\\n')"
      ],
      "metadata": {
        "colab": {
          "base_uri": "https://localhost:8080/"
        },
        "id": "HZzwPZR9We7H",
        "outputId": "3bc01ba8-0406-4294-d476-e67180511900"
      },
      "execution_count": null,
      "outputs": [
        {
          "output_type": "stream",
          "name": "stdout",
          "text": [
            "24 18\n",
            "6\n",
            "72\n"
          ]
        }
      ]
    },
    {
      "cell_type": "code",
      "source": [
        "# 1673번 치킨 쿠폰\n",
        "\n",
        "n, k = map(int, input().split())\n",
        "\n",
        "coupon = 0\n",
        "cnt = 0\n",
        "while True:\n",
        "    cnt += 1\n",
        "    coupon += cnt//k\n",
        "    \n",
        "    # for coupon in range(1, n+1):\n",
        "        \n",
        "\n"
      ],
      "metadata": {
        "id": "IZF24yzjrTXf"
      },
      "execution_count": null,
      "outputs": []
    }
  ]
}