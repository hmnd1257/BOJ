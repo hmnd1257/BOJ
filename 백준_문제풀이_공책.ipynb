{
  "nbformat": 4,
  "nbformat_minor": 0,
  "metadata": {
    "colab": {
      "provenance": []
    },
    "kernelspec": {
      "name": "python3",
      "display_name": "Python 3"
    },
    "language_info": {
      "name": "python"
    }
  },
  "cells": [
    {
      "cell_type": "code",
      "metadata": {
        "colab": {
          "base_uri": "https://localhost:8080/"
        },
        "id": "p-eZfElOz4XQ",
        "outputId": "4ae1e458-4010-4efa-9c1f-4c6cad313da4"
      },
      "source": [
        "N, X = map(int, input().split())\n",
        "A = list(map(int, input().split()))\n",
        "\n",
        "for i in range(len(A)):\n",
        "    if A[i] < X:\n",
        "        print(A[i], end=\" \")"
      ],
      "execution_count": null,
      "outputs": [
        {
          "output_type": "stream",
          "text": [
            "5 10\n",
            "5\n",
            "5 "
          ],
          "name": "stdout"
        }
      ]
    },
    {
      "cell_type": "code",
      "metadata": {
        "colab": {
          "base_uri": "https://localhost:8080/"
        },
        "id": "lxBQ_ym4_s0r",
        "outputId": "79a15e17-ee4b-4df4-9315-2c40c9eba72b"
      },
      "source": [
        "while True:\n",
        "    A, B = map(int, input().split())\n",
        "    if A+B == 0:\n",
        "        break\n",
        "    else:\n",
        "        print(A+B)"
      ],
      "execution_count": null,
      "outputs": [
        {
          "output_type": "stream",
          "text": [
            "1 1\n",
            "2\n",
            "2 2\n",
            "4\n",
            "3 3\n",
            "6\n",
            "4 4\n",
            "8\n",
            "5 5\n",
            "10\n",
            "6 6\n",
            "12\n",
            "7 7\n",
            "14\n",
            "0 0\n"
          ],
          "name": "stdout"
        }
      ]
    },
    {
      "cell_type": "code",
      "metadata": {
        "colab": {
          "base_uri": "https://localhost:8080/"
        },
        "id": "if6kzHz2HAyo",
        "outputId": "c416bc6f-609a-427f-f0ee-ea4962ccdc58"
      },
      "source": [
        "while True:\n",
        "    try:\n",
        "        A, B = map(int, input().split())\n",
        "        if 0 < A and B < 10:\n",
        "            print(A+B)\n",
        "    except:\n",
        "        print('dd')\n",
        "        break"
      ],
      "execution_count": null,
      "outputs": [
        {
          "output_type": "stream",
          "text": [
            "1 1\n",
            "2\n",
            "0 0\n",
            "0\n",
            "dd\n"
          ],
          "name": "stdout"
        }
      ]
    },
    {
      "cell_type": "code",
      "metadata": {
        "colab": {
          "base_uri": "https://localhost:8080/"
        },
        "id": "DjDTIRwkHZIY",
        "outputId": "990ad346-6e95-4ff2-f8d6-f05ffb7348e6"
      },
      "source": [
        "N = int(input())\n",
        "\n",
        "\n",
        "B = N//10            # 십의 자리\n",
        "C = N%10             # 일의 자리\n",
        "D = B+C              # 십의 자리 + 일의 자리\n",
        "E = D%10             # 합의 일의 자리\n",
        "\n",
        "count = 0\n",
        "while True:\n",
        "    count += 1\n",
        "    if N < 10:              # N이 10보다 작을 경우 0을 붙여 두 자리 수로 만듦\n",
        "        N = str(C) + str(0)\n",
        "        break\n",
        "    str(C) + str(E)\n",
        "    # print(A)\n",
        "    # print(count)\n",
        "    break\n",
        "    \n",
        "    if (B*10 + E) == N:          \n",
        "        print(count)\n",
        "        break "
      ],
      "execution_count": null,
      "outputs": [
        {
          "output_type": "stream",
          "text": [
            "26\n"
          ],
          "name": "stdout"
        }
      ]
    },
    {
      "cell_type": "code",
      "metadata": {
        "colab": {
          "base_uri": "https://localhost:8080/"
        },
        "id": "MQWi_hAEWoqD",
        "outputId": "e403f2d3-cecf-4a72-f60e-9dca4cd0fd1c"
      },
      "source": [
        "N = int(input())\n",
        "\n",
        "\n",
        "# B = N//10            # 십의 자리\n",
        "# C = N%10             # 일의 자리\n",
        "# D = B+C              # 십의 자리 + 일의 자리\n",
        "# E = D%10             # 합의 일의 자리\n",
        "\n",
        "cnt = 0\n",
        "while True:\n",
        "    if N < 10:              # N이 10보다 작을 경우 0을 붙여 두 자리 수로 만듦\n",
        "        n = N*10\n",
        "        cnt += 1\n",
        "    else:\n",
        "        n = ((N//10) + (N%10) + (N%10)*10)"
      ],
      "execution_count": null,
      "outputs": [
        {
          "output_type": "stream",
          "text": [
            "26\n"
          ],
          "name": "stdout"
        }
      ]
    },
    {
      "cell_type": "code",
      "metadata": {
        "colab": {
          "base_uri": "https://localhost:8080/"
        },
        "id": "GWQ7elMqXjuh",
        "outputId": "053506b9-c17a-49b8-e580-68623573d910"
      },
      "source": [
        "N = int(input())\n",
        "a = N\n",
        "\n",
        "cnt = 0\n",
        "while True:\n",
        "\n",
        "    \n",
        "    # if 0 <= N < 10:              # N이 10보다 작을 경우 십의 자리로 만듦\n",
        "    #     #N = N*10\n",
        "    #     x = N//10\n",
        "    #     y = N%10\n",
        "    #     z = (x+y)%10\n",
        "    #     t = (N%10)*10\n",
        "    #     N = z + t \n",
        "    #     cnt += 1\n",
        "    # else:\n",
        "    #     print(\"N:\",N)\n",
        "    #     x = N//10\n",
        "    #     y = N%10\n",
        "    #     z = (x+y)%10\n",
        "    #     t = (N%10)*10\n",
        "    #     N = z + t \n",
        "        \n",
        "    #     print(\"start\")\n",
        "    #     print(x)\n",
        "    #     print(y)\n",
        "    #     print(z)\n",
        "    #     print(t)\n",
        "    #     print(N)\n",
        "    #     print(\"end\")\n",
        "    n = (((((N//10) + (N%10))%10)%10) + ((N%10)*10))\n",
        "    cnt += 1\n",
        "\n",
        "    if a == N:\n",
        "        break\n",
        "    print(\"N\",N)\n",
        "\n",
        "\n",
        "print(\"cnt\",cnt)"
      ],
      "execution_count": null,
      "outputs": [
        {
          "output_type": "stream",
          "text": [
            "26\n",
            "cnt 1\n"
          ],
          "name": "stdout"
        }
      ]
    },
    {
      "cell_type": "code",
      "metadata": {
        "colab": {
          "base_uri": "https://localhost:8080/",
          "height": 388
        },
        "id": "U_eOexONrevM",
        "outputId": "71ff8944-624e-46ea-cf45-53e6551f3f25"
      },
      "source": [
        "a = []\n",
        "for i in range(9):\n",
        "    a.append(int(input()))\n",
        "\n",
        "print(max(a))\n",
        "print(a.index(max(a)+1))"
      ],
      "execution_count": null,
      "outputs": [
        {
          "output_type": "stream",
          "text": [
            "3\n",
            "29\n",
            "38\n",
            "12\n",
            "57\n",
            "74\n",
            "40\n",
            "85\n",
            "61\n",
            "85\n"
          ],
          "name": "stdout"
        },
        {
          "output_type": "error",
          "ename": "ValueError",
          "evalue": "ignored",
          "traceback": [
            "\u001b[0;31m---------------------------------------------------------------------------\u001b[0m",
            "\u001b[0;31mValueError\u001b[0m                                Traceback (most recent call last)",
            "\u001b[0;32m<ipython-input-14-ba08f2d3df06>\u001b[0m in \u001b[0;36m<module>\u001b[0;34m()\u001b[0m\n\u001b[1;32m      4\u001b[0m \u001b[0;34m\u001b[0m\u001b[0m\n\u001b[1;32m      5\u001b[0m \u001b[0mprint\u001b[0m\u001b[0;34m(\u001b[0m\u001b[0mmax\u001b[0m\u001b[0;34m(\u001b[0m\u001b[0ma\u001b[0m\u001b[0;34m)\u001b[0m\u001b[0;34m)\u001b[0m\u001b[0;34m\u001b[0m\u001b[0;34m\u001b[0m\u001b[0m\n\u001b[0;32m----> 6\u001b[0;31m \u001b[0mprint\u001b[0m\u001b[0;34m(\u001b[0m\u001b[0ma\u001b[0m\u001b[0;34m.\u001b[0m\u001b[0mindex\u001b[0m\u001b[0;34m(\u001b[0m\u001b[0mmax\u001b[0m\u001b[0;34m(\u001b[0m\u001b[0ma\u001b[0m\u001b[0;34m)\u001b[0m\u001b[0;34m+\u001b[0m\u001b[0;36m1\u001b[0m\u001b[0;34m)\u001b[0m\u001b[0;34m)\u001b[0m\u001b[0;34m\u001b[0m\u001b[0;34m\u001b[0m\u001b[0m\n\u001b[0m",
            "\u001b[0;31mValueError\u001b[0m: 86 is not in list"
          ]
        }
      ]
    },
    {
      "cell_type": "code",
      "metadata": {
        "colab": {
          "base_uri": "https://localhost:8080/"
        },
        "id": "bX-_8KocrMGS",
        "outputId": "d99edd29-d44e-43ad-b404-531b3bf43e1d"
      },
      "source": [
        "a = []\n",
        "for i in range(9):\n",
        "    a.append(int(input()))\n",
        "print(max(a))\n",
        "print(a.index(max(a))+1)"
      ],
      "execution_count": null,
      "outputs": [
        {
          "output_type": "stream",
          "text": [
            "1\n",
            "2\n",
            "3\n",
            "4\n",
            "5\n",
            "6\n",
            "7\n",
            "8\n",
            "9\n",
            "9\n",
            "9\n"
          ],
          "name": "stdout"
        }
      ]
    },
    {
      "cell_type": "code",
      "metadata": {
        "colab": {
          "base_uri": "https://localhost:8080/"
        },
        "id": "1p-en3oxLTaX",
        "outputId": "6a4c2ed1-42e1-4698-e68c-882fc464b14f"
      },
      "source": [
        "A = int(input())\n",
        "B = int(input())\n",
        "C = int(input())\n",
        "\n",
        "mul = A*B*C\n",
        "mul_str = str(mul)\n",
        "\n",
        "list = ['0','1','2','3','4','5','6','7','8','9']\n",
        "\n",
        "print(mul_str.count(list[0])) # 1\n",
        "print(mul_str.count(list[1])) # 1\n",
        "print(mul_str.count(list[2])) # 2\n",
        "print(mul_str.count(list[3])) # 3\n",
        "print(mul_str.count(list[4])) # 4\n",
        "print(mul_str.count(list[5])) # 5\n",
        "print(mul_str.count(list[6])) # 6\n",
        "print(mul_str.count(list[7])) # 7\n",
        "print(mul_str.count(list[8])) # 8\n",
        "print(mul_str.count(list[9])) # 9"
      ],
      "execution_count": null,
      "outputs": [
        {
          "output_type": "stream",
          "text": [
            "150\n",
            "266\n",
            "427\n",
            "3\n",
            "1\n",
            "0\n",
            "2\n",
            "0\n",
            "0\n",
            "0\n",
            "2\n",
            "0\n",
            "0\n"
          ],
          "name": "stdout"
        }
      ]
    },
    {
      "cell_type": "code",
      "metadata": {
        "colab": {
          "base_uri": "https://localhost:8080/"
        },
        "id": "4VW_686qVick",
        "outputId": "c2ac82c0-400b-4494-f820-e50df59575cd"
      },
      "source": [
        "N = int(input())\n",
        "n = list(map(int, input().split()))\n",
        "\n",
        "maxValue = n[0]\n",
        "minValue = n[0]\n",
        "for i in range(len(n)):\n",
        "    if maxValue < n[i]:\n",
        "        maxValue = n[i]\n",
        "    else:\n",
        "        minValue = n[i]\n",
        "\n",
        "print(minValue, maxValue)"
      ],
      "execution_count": null,
      "outputs": [
        {
          "output_type": "stream",
          "text": [
            "5\n",
            "1 2 3 4 5\n",
            "1 5 "
          ],
          "name": "stdout"
        }
      ]
    },
    {
      "cell_type": "code",
      "metadata": {
        "colab": {
          "base_uri": "https://localhost:8080/"
        },
        "id": "mZxRaZ0tckZ7",
        "outputId": "c47a46c2-478b-4ca5-9b9a-58e3f0a7a76d"
      },
      "source": [
        "N = []\n",
        "for i in range(10):\n",
        "    a = int(input())\n",
        "    b = a % 42\n",
        "    N.append(b)\n",
        "    \n",
        "n = set(N)\n",
        "print(len(n))"
      ],
      "execution_count": null,
      "outputs": [
        {
          "output_type": "stream",
          "text": [
            "1\n",
            "2\n",
            "3\n",
            "4\n",
            "5\n",
            "6\n",
            "7\n",
            "8\n",
            "9\n",
            "10\n",
            "10\n"
          ],
          "name": "stdout"
        }
      ]
    },
    {
      "cell_type": "code",
      "metadata": {
        "colab": {
          "base_uri": "https://localhost:8080/"
        },
        "id": "AayI5IsEAl63",
        "outputId": "0f76eee5-15de-4319-cddd-fdaec20fd2eb"
      },
      "source": [
        "N = int(input())\n",
        "grade = list(map(int, input().split()))\n",
        "\n",
        "maxGrade = max(grade)\n",
        "MaxGrade = maxGrade*100\n",
        "\n",
        "new_grade = []\n",
        "for i in range(len(grade)):\n",
        "    new_Grade = ((grade[i])/(MaxGrade))\n",
        "    new_grade.append(new_Grade)\n",
        "    average = sum(new_grade)/N\n",
        "    Average = float((average*(10**4)))\n",
        "\n",
        "print(Average)"
      ],
      "execution_count": null,
      "outputs": [
        {
          "output_type": "stream",
          "text": [
            "3\n",
            "10 20 30\n",
            "66.66666666666667\n"
          ],
          "name": "stdout"
        }
      ]
    },
    {
      "cell_type": "code",
      "metadata": {
        "colab": {
          "base_uri": "https://localhost:8080/"
        },
        "id": "cs1snrJKUt0L",
        "outputId": "f64fec93-1ca6-4030-c173-22ac0aaa5227"
      },
      "source": [
        "a=int(input())\n",
        "b=int(input())\n",
        "c=int(input())\n",
        "product=str(a*b*c)\n",
        "\n",
        "for i in range(10):\n",
        "    cnt=0\n",
        "    for c in product:\n",
        "        if i==int(c):\n",
        "            cnt+=1\n",
        "    print(cnt)\n",
        "    "
      ],
      "execution_count": null,
      "outputs": [
        {
          "output_type": "stream",
          "text": [
            "150\n",
            "266\n",
            "427\n",
            "3\n",
            "1\n",
            "0\n",
            "2\n",
            "0\n",
            "0\n",
            "0\n",
            "2\n",
            "0\n",
            "0\n"
          ],
          "name": "stdout"
        }
      ]
    },
    {
      "cell_type": "code",
      "metadata": {
        "id": "K0KKv-aLFF3Q",
        "colab": {
          "base_uri": "https://localhost:8080/"
        },
        "outputId": "7b59ddc0-d915-4c66-cdf1-513514686b14"
      },
      "source": [
        "testCase = int(input())\n",
        "b = str('O')\n",
        "c = str('X')\n",
        "\n",
        "for i in range(testCase):\n",
        "    a = str(input())\n",
        "    \n",
        "    score = 0\n",
        "    cnt = 0\n",
        "    for j in range(len(a)):\n",
        "        if a[j] == b:\n",
        "            cnt += 1\n",
        "            score += cnt\n",
        "        elif a[j] == c:\n",
        "            cnt = 0\n",
        "            score += cnt\n",
        "\n",
        "    print(score)"
      ],
      "execution_count": null,
      "outputs": [
        {
          "output_type": "stream",
          "name": "stdout",
          "text": [
            "1\n",
            "OXXXOOXOO\n",
            "7\n"
          ]
        }
      ]
    },
    {
      "cell_type": "code",
      "metadata": {
        "colab": {
          "base_uri": "https://localhost:8080/"
        },
        "id": "KKj3qbXeU5oa",
        "outputId": "e0090ba3-225b-4f89-fd0d-e1f46eba9406"
      },
      "source": [
        "# 4344번\n",
        "\n",
        "testCase = int(input())\n",
        "\n",
        "for i in range(testCase):\n",
        "    N = list(map(int, input().split()))   \n",
        "    average = ((sum(N[1:]))/(N[0]))\n",
        "    count = 0\n",
        "    for j in N[1:]:\n",
        "        if j > average :\n",
        "            count += 1\n",
        "            result = (count / N[0])*(10**2)\n",
        "    print('%.3f%%' % result)"
      ],
      "execution_count": null,
      "outputs": [
        {
          "output_type": "stream",
          "text": [
            "1\n",
            "5 1 2 3 4 5\n",
            "40.000%\n"
          ],
          "name": "stdout"
        }
      ]
    },
    {
      "cell_type": "code",
      "metadata": {
        "colab": {
          "base_uri": "https://localhost:8080/"
        },
        "id": "YmmPiLrRIvUm",
        "outputId": "ce25189c-72f0-4c3b-a9cc-6e39ea3e3c77"
      },
      "source": [
        "# 4344번\n",
        "\n",
        "testCase = int(input())\n",
        "\n",
        "for i in range(testCase):\n",
        "    N = list(map(int, input().split()))   \n",
        "    average = ((sum(N[1:]))/(N[0]))\n",
        "\n",
        "    aver_list = []\n",
        "    for j in range(1, len(N[1:])+1):\n",
        "        if N[j] > average :\n",
        "            a = N[j]\n",
        "            aver_list.append(a)            \n",
        "        result = (len(aver_list)/N[0])*(100)\n",
        "        \n",
        "    print('%.3f%%' % result)"
      ],
      "execution_count": null,
      "outputs": [
        {
          "output_type": "stream",
          "text": [
            "1\n",
            "5 1 1 1 1 1\n",
            "[]\n",
            "0.000%\n"
          ],
          "name": "stdout"
        }
      ]
    },
    {
      "cell_type": "code",
      "metadata": {
        "id": "R1zA7FK_XqkG"
      },
      "source": [
        "def solve(a):\n",
        "    total = 0\n",
        "    for x in a:\n",
        "        total += x\n",
        "    return total"
      ],
      "execution_count": null,
      "outputs": []
    },
    {
      "cell_type": "code",
      "metadata": {
        "id": "CQ4oXjU6YkYK"
      },
      "source": [
        "def solve_(a):\n",
        "    return sum(a)"
      ],
      "execution_count": null,
      "outputs": []
    },
    {
      "cell_type": "code",
      "metadata": {
        "colab": {
          "base_uri": "https://localhost:8080/"
        },
        "id": "jrUZuG-1ikRn",
        "outputId": "8f29146f-beeb-41e0-e010-8918a9fcdc85"
      },
      "source": [
        "N = int(input())\n",
        "a = N\n",
        "\n",
        "cnt = 0\n",
        "while True:\n",
        "    if 0 <= N <= 99:             \n",
        "        n = ((((N//10) + (N%10))%10) + ((N%10)*10))\n",
        "        cnt += 1\n",
        "    if a == n:\n",
        "        break\n",
        "    N=n\n",
        "    \n",
        "print(cnt)"
      ],
      "execution_count": null,
      "outputs": [
        {
          "output_type": "stream",
          "text": [
            "99\n",
            "60\n"
          ],
          "name": "stdout"
        }
      ]
    },
    {
      "cell_type": "code",
      "metadata": {
        "id": "BZPe67rMfcX_",
        "colab": {
          "base_uri": "https://localhost:8080/"
        },
        "outputId": "84eab90b-48c9-463c-be9f-17e2874299fe"
      },
      "source": [
        "# 4673번\n",
        "def self_number(n):\n",
        "    cnt = 0\n",
        "    while True:\n",
        "        if 0 < n <= 10000:\n",
        "            number = n + (n//10) + (n%10)\n",
        "            cnt += 1\n",
        "        if number < 100:\n",
        "            break\n",
        "    print(cnt)\n",
        "self_number(33)\n",
        "\n"
      ],
      "execution_count": null,
      "outputs": [
        {
          "output_type": "stream",
          "name": "stdout",
          "text": [
            "1\n"
          ]
        }
      ]
    },
    {
      "cell_type": "code",
      "metadata": {
        "id": "53DOYoF6NkEg"
      },
      "source": [
        "def self_number(n):\n",
        "    for i in list(str(n)):\n",
        "        n += int(i)\n",
        "    return next\n",
        "\n",
        "    con = []\n",
        "    for j in range(10001):\n",
        "        con.append(self_number(j))\n",
        "\n",
        "    con.sort()\n",
        "\n",
        "    for j in range(1,10000):\n",
        "        if j in con:\n",
        "            continue\n",
        "        else:\n",
        "            print(j)\n"
      ],
      "execution_count": null,
      "outputs": []
    },
    {
      "cell_type": "code",
      "metadata": {
        "colab": {
          "base_uri": "https://localhost:8080/"
        },
        "id": "PoSMTCd_QVBw",
        "outputId": "1f88dd03-2316-4026-de13-002ea50cf3b4"
      },
      "source": [
        "n = input()\n",
        "next = n\n",
        "for i in list(str(n)):\n",
        "    print(int(i))"
      ],
      "execution_count": null,
      "outputs": [
        {
          "output_type": "stream",
          "name": "stdout",
          "text": [
            "55\n",
            "5\n",
            "5\n"
          ]
        }
      ]
    },
    {
      "cell_type": "code",
      "metadata": {
        "colab": {
          "base_uri": "https://localhost:8080/"
        },
        "id": "H5uPsM1gZytt",
        "outputId": "83b880b4-9bed-43e1-f66b-287c64058443"
      },
      "source": [
        "# 1065번\n",
        "def hansu(N):\n",
        "    if N < 100:\n",
        "        cnt = N\n",
        "    else:\n",
        "        cnt = 99\n",
        "        for i in range(100, N+1):\n",
        "            n_ = list(map(int, str(i)))\n",
        "            if (n_[1]-n_[0]) == (n_[2]-n_[1]):\n",
        "                cnt +=1\n",
        "    return cnt\n",
        "a = int(input())\n",
        "print(hansu(a))"
      ],
      "execution_count": null,
      "outputs": [
        {
          "output_type": "stream",
          "name": "stdout",
          "text": [
            "110\n",
            "99\n"
          ]
        }
      ]
    },
    {
      "cell_type": "code",
      "metadata": {
        "colab": {
          "base_uri": "https://localhost:8080/"
        },
        "id": "hKTT0wUq2z8a",
        "outputId": "78d805fe-7e95-44ad-8f59-d7c15831eb3d"
      },
      "source": [
        "# 11720 번\n",
        "N = int(input())\n",
        "a = str(input())\n",
        "\n",
        "b= 0\n",
        "for j in a:\n",
        "    b += int(j)\n",
        "print(b)"
      ],
      "execution_count": null,
      "outputs": [
        {
          "output_type": "stream",
          "name": "stdout",
          "text": [
            "1\n",
            "1\n",
            "1\n"
          ]
        }
      ]
    },
    {
      "cell_type": "code",
      "metadata": {
        "id": "Z0ciDWRYRkuK"
      },
      "source": [
        "def self_number(n):\n",
        "    for i in list(str(n)):\n",
        "        n += int(i)\n",
        "    return n\n",
        "\n",
        "con = []\n",
        "for j in range(10001):\n",
        "    con.append(self_number(j))\n",
        "\n",
        "con.sort()\n",
        "\n",
        "for j in range(1,10000):\n",
        "    if j in con:\n",
        "        pass\n",
        "    else:\n",
        "        print(j)"
      ],
      "execution_count": null,
      "outputs": []
    },
    {
      "cell_type": "code",
      "metadata": {
        "colab": {
          "base_uri": "https://localhost:8080/"
        },
        "id": "Zbka2-ZnMcSS",
        "outputId": "6c4d56ae-de24-4a42-86f4-6d0c9d8997fb"
      },
      "source": [
        "from string import ascii_lowercase\n",
        "\n",
        "S = str(input())\n",
        "S_lower = S.lower()\n",
        "alpha_list = list(ascii_lowercase)\n",
        "\n",
        "for i in range(len(alpha_list)):\n",
        "    if alpha_list[i] in S:\n",
        "print(alpha_list)\n",
        "\n",
        "#s_list = []\n",
        "#for i in S:\n",
        "#    s_list.append(S[0])\n",
        " #   print(s_list)\n",
        "#for i in len(alpha_list):\n",
        " #   for j in range(len(S)):\n",
        "  #      print(S.find(alpha_list[i]))\n",
        "\n",
        "\n"
      ],
      "execution_count": null,
      "outputs": [
        {
          "output_type": "stream",
          "name": "stdout",
          "text": [
            "3\n",
            "['a', 'b', 'c', 'd', 'e', 'f', 'g', 'h', 'i', 'j', 'k', 'l', 'm', 'n', 'o', 'p', 'q', 'r', 's', 't', 'u', 'v', 'w', 'x', 'y', 'z']\n"
          ]
        }
      ]
    },
    {
      "cell_type": "code",
      "metadata": {
        "colab": {
          "base_uri": "https://localhost:8080/"
        },
        "id": "wuKbUw4sSEBq",
        "outputId": "18f9a6a9-e63b-4241-e274-fddfbff9c53f"
      },
      "source": [
        "#10809번 알파벳 찾기\n",
        "from string import ascii_lowercase\n",
        "\n",
        "alpha_list = list(ascii_lowercase)\n",
        "S = input()\n",
        "\n",
        "for i in alpha_list:\n",
        "    print(S.find(i), end =\" \")"
      ],
      "execution_count": null,
      "outputs": [
        {
          "output_type": "stream",
          "name": "stdout",
          "text": [
            "baekjoon\n",
            "1 0 -1 -1 2 -1 -1 -1 -1 4 3 -1 -1 7 5 -1 -1 -1 -1 -1 -1 -1 -1 -1 -1 -1 "
          ]
        }
      ]
    },
    {
      "cell_type": "code",
      "metadata": {
        "colab": {
          "base_uri": "https://localhost:8080/"
        },
        "id": "Gc1in7YU2Rz1",
        "outputId": "e4ab7885-7d95-4a2e-833e-4d93f6d6d68f"
      },
      "source": [
        "test_case = int(input())\n",
        "\n",
        "\n",
        "for i in range(test_case):\n",
        "    R, S = map(str, input().split())\n",
        "    for j in range(len(S)):\n",
        "        result = S[j]*int(R)\n",
        "        print(result, end=\"\")\n",
        "    print(\"\")"
      ],
      "execution_count": null,
      "outputs": [
        {
          "output_type": "stream",
          "name": "stdout",
          "text": [
            "2\n",
            "3 ABC\n",
            "AAABBBCCC\n",
            "5 /HTP\n",
            "/////HHHHHTTTTTPPPPP\n"
          ]
        }
      ]
    },
    {
      "cell_type": "code",
      "metadata": {
        "colab": {
          "base_uri": "https://localhost:8080/"
        },
        "id": "tZMyY5ag7u2f",
        "outputId": "150b67ee-8cab-48e4-db5e-c25fb9addeb2"
      },
      "source": [
        "# 1157번\n",
        "\n",
        "\n",
        "alp = str(input()).upper()\n",
        "alp_list = list(set(alp))\n",
        "\n",
        "cnt = []\n",
        "for i in alp_list:\n",
        "    a = alp.count(i)\n",
        "    cnt.append(a)\n",
        "\n",
        "if cnt.count(max(cnt)) >= 2:\n",
        "    print(\"?\")\n",
        "else:\n",
        "    print(alp_list[(cnt.index(max(cnt)))].upper())"
      ],
      "execution_count": null,
      "outputs": [
        {
          "output_type": "stream",
          "name": "stdout",
          "text": [
            "naaa\n",
            "A\n"
          ]
        }
      ]
    },
    {
      "cell_type": "code",
      "metadata": {
        "colab": {
          "base_uri": "https://localhost:8080/"
        },
        "id": "Mi2D8Shyhyu-",
        "outputId": "c6f1265a-8411-4cef-d2d2-568acedc2974"
      },
      "source": [
        "#1152번\n",
        "word = str(input())\n",
        "word1 = word.strip(' ')\n",
        "word2 = word1.split()\n",
        "\n",
        "print(len(word2))"
      ],
      "execution_count": null,
      "outputs": [
        {
          "output_type": "stream",
          "name": "stdout",
          "text": [
            " Mazatneunde Wae Teullyeoyo\n",
            "3\n"
          ]
        }
      ]
    },
    {
      "cell_type": "code",
      "metadata": {
        "id": "Hj7SvnWvkqEz",
        "colab": {
          "base_uri": "https://localhost:8080/"
        },
        "outputId": "04dfcec5-4fc9-496b-e23f-7144a1de5221"
      },
      "source": [
        "# 2908번\n",
        "A, B = map(str, input().split())\n",
        "\n",
        "A_list = list(A)\n",
        "B_list = list(B)\n",
        "\n",
        "A_list.reverse()\n",
        "B_list.reverse()\n",
        "\n",
        "A_rev = ''.join(A_list)\n",
        "B_rev = ''.join(B_list)\n",
        "if A_rev > B_rev:\n",
        "    print(A_rev)\n",
        "else:\n",
        "    print(B_rev)\n",
        "\n",
        "\n",
        "\n",
        "# B_list.append(B)\n",
        "# print(A_list)\n",
        "# print(B_list)\n",
        "# A_rev = A.reverse()\n",
        "# B_rev = B.reverse()\n",
        "\n",
        "# print(A_rev,B_rev)"
      ],
      "execution_count": null,
      "outputs": [
        {
          "output_type": "stream",
          "name": "stdout",
          "text": [
            "839 237\n",
            "938\n"
          ]
        }
      ]
    },
    {
      "cell_type": "code",
      "metadata": {
        "colab": {
          "base_uri": "https://localhost:8080/"
        },
        "id": "Qm9QAmWFzvSm",
        "outputId": "afe879ee-dc08-4e4d-a05d-f47c2651efd7"
      },
      "source": [
        "# 5622번 다시 한 번 보기\n",
        "\n",
        "alp = ['ABC','DEF','GHI','JKL','MNO','PQRS','TUV','WXYZ']\n",
        "word = str(input())\n",
        "\n",
        "time = 0\n",
        "for i in alp:\n",
        "    for j in i:\n",
        "        for x in word:\n",
        "            if j == x :\n",
        "                time += alp.index(i)+3 \n",
        "print(time)"
      ],
      "execution_count": null,
      "outputs": [
        {
          "output_type": "stream",
          "name": "stdout",
          "text": [
            "UNUCIC\n",
            "36\n"
          ]
        }
      ]
    },
    {
      "cell_type": "code",
      "metadata": {
        "colab": {
          "base_uri": "https://localhost:8080/"
        },
        "id": "Vv2XCMJv9EhT",
        "outputId": "d00f8b2f-141f-4996-bc35-c1711c115485"
      },
      "source": [
        "# 1712번\n",
        "\n",
        "A, B, C = map(int, input().split())\n",
        "\n",
        "A_sum = A\n",
        "for i in range(1, 10):\n",
        "    A_sum += B\n",
        "\n",
        "C_sum = C\n",
        "for j in range(1, 10):\n",
        "    C_sum += C\n",
        "\n",
        "cnt = 0\n",
        "if A_sum == C_sum:\n",
        "    cnt += 1\n",
        "elif A_sum < C_sum:\n",
        "    pass\n",
        "print(cnt)\n",
        "\n",
        "#실패"
      ],
      "execution_count": null,
      "outputs": [
        {
          "output_type": "stream",
          "name": "stdout",
          "text": [
            "1 2 3\n",
            "0\n"
          ]
        }
      ]
    },
    {
      "cell_type": "code",
      "metadata": {
        "colab": {
          "base_uri": "https://localhost:8080/"
        },
        "id": "akgtqnhtHqLt",
        "outputId": "5b90781e-7f38-426f-c654-58c403a3ee34"
      },
      "source": [
        "# 1316번\n",
        "\n",
        "N = int(input())\n",
        "\n",
        "for i in range(N):\n",
        "    a = str(input())\n",
        "    a_low = a.lower()\n",
        "    a_low_list = []\n",
        "    for j in a_low:\n",
        "        a_low_list.append(j)\n",
        "        a_list = set(a_low_list)\n",
        "print(a_list)"
      ],
      "execution_count": null,
      "outputs": [
        {
          "output_type": "stream",
          "name": "stdout",
          "text": [
            "1\n",
            "aaaaaaaab\n",
            "{'a', 'b'}\n"
          ]
        }
      ]
    },
    {
      "cell_type": "code",
      "metadata": {
        "colab": {
          "base_uri": "https://localhost:8080/"
        },
        "id": "7Y75ynh9GfXu",
        "outputId": "df7e23e4-aa78-4ec9-8e0f-2bbd2f8053d8"
      },
      "source": [
        "# 1316번 다시 해보기\n",
        "\n",
        "N = int(input())\n",
        "result = N\n",
        "\n",
        "for i in range(N):\n",
        "    word = input()\n",
        "    for j in range(len(word)-1):\n",
        "        if word[j] == word[j+1]:\n",
        "            pass\n",
        "        elif word[j] in word[j+1:]:\n",
        "            result -= 1\n",
        "            break\n",
        "print(result)"
      ],
      "execution_count": null,
      "outputs": [
        {
          "output_type": "stream",
          "name": "stdout",
          "text": [
            "4\n",
            "aba\n",
            "abab\n",
            "qwertq\n",
            "qqrrtq\n",
            "0\n"
          ]
        }
      ]
    },
    {
      "cell_type": "code",
      "metadata": {
        "id": "9pZDB6nkgSp2"
      },
      "source": [
        "1/1\n",
        "\n",
        "1/2\n",
        "2/1\n",
        "\n",
        "3/1\n",
        "2/2\n",
        "1/3\n",
        "\n",
        "1/4\n",
        "2/3\n",
        "3/2\n",
        "4/1\n",
        "\n",
        "5/1\n",
        "4/2\n",
        "3/3\n",
        "2/4\n",
        "1/5"
      ],
      "execution_count": null,
      "outputs": []
    },
    {
      "cell_type": "code",
      "metadata": {
        "colab": {
          "base_uri": "https://localhost:8080/"
        },
        "id": "pssRXE4jk4ty",
        "outputId": "d4e4a355-28ed-40ea-f4d0-a23e7b65cd84"
      },
      "source": [
        "X = input()\n",
        "\n",
        "a, b = 1, 1 # a = 분자 b = 분모\n",
        "\n",
        "while True:\n",
        "    "
      ],
      "execution_count": null,
      "outputs": [
        {
          "output_type": "stream",
          "name": "stdout",
          "text": [
            "1\n",
            "1\n",
            "1\n"
          ]
        }
      ]
    },
    {
      "cell_type": "code",
      "source": [
        "A, B, C = map(int, input().split()) # C : 물품 가격 (판매비용)\n",
        "\n",
        "income = 0\n",
        "cnt = 0\n",
        "while True:\n",
        "    A += B\n",
        "    income += C\n",
        "    cost = A\n",
        "    cnt += 1\n",
        "    if income > cost:\n",
        "        print(cnt)\n",
        "    else:\n",
        "        print(\"-1\")\n",
        "        break"
      ],
      "metadata": {
        "colab": {
          "base_uri": "https://localhost:8080/"
        },
        "id": "2jJmlveP4oGm",
        "outputId": "efccb4b8-b9f2-407c-b623-5d89e0516c82"
      },
      "execution_count": null,
      "outputs": [
        {
          "output_type": "stream",
          "name": "stdout",
          "text": [
            "1000 70 170\n",
            "11\n"
          ]
        }
      ]
    },
    {
      "cell_type": "code",
      "source": [
        "# 코드업 바둑알 십자 뒤집기\n",
        "board = [list(map(int, input().split())) for _ in range(19)]\n",
        "\n",
        "testcase = int(input())\n",
        "for _ in range(testcase):\n",
        "    x, y = map(int, input().split())\n",
        "    x = x-1\n",
        "    y = y-1\n",
        "    for j in range(19):\n",
        "        if board[x][j] == 1:\n",
        "            board[x][j] = 0\n",
        "            \n",
        "        else:\n",
        "            board[x][j] = 1\n",
        "        \n",
        "        if board[j][y] == 1:\n",
        "            board[j][y] = 0\n",
        "        else:\n",
        "            board[j][y] = 1\n",
        "        \n",
        "for i in range(19):\n",
        "    for j in range(19):\n",
        "        print(board[i][j], end=' ')\n",
        "    print()"
      ],
      "metadata": {
        "colab": {
          "base_uri": "https://localhost:8080/",
          "height": 413
        },
        "id": "aDDEGeIN9SgI",
        "outputId": "3f05ddf1-e17d-43c5-b03f-fe929d7aac6e"
      },
      "execution_count": null,
      "outputs": [
        {
          "name": "stdout",
          "output_type": "stream",
          "text": [
            "1\n",
            "1.\n"
          ]
        },
        {
          "output_type": "error",
          "ename": "ValueError",
          "evalue": "ignored",
          "traceback": [
            "\u001b[0;31m---------------------------------------------------------------------------\u001b[0m",
            "\u001b[0;31mValueError\u001b[0m                                Traceback (most recent call last)",
            "\u001b[0;32m<ipython-input-39-9184eb2e7089>\u001b[0m in \u001b[0;36m<module>\u001b[0;34m()\u001b[0m\n\u001b[1;32m      1\u001b[0m \u001b[0;31m# 코드업 바둑알 십자 뒤집기\u001b[0m\u001b[0;34m\u001b[0m\u001b[0;34m\u001b[0m\u001b[0;34m\u001b[0m\u001b[0m\n\u001b[0;32m----> 2\u001b[0;31m \u001b[0mboard\u001b[0m \u001b[0;34m=\u001b[0m \u001b[0;34m[\u001b[0m\u001b[0mlist\u001b[0m\u001b[0;34m(\u001b[0m\u001b[0mmap\u001b[0m\u001b[0;34m(\u001b[0m\u001b[0mint\u001b[0m\u001b[0;34m,\u001b[0m \u001b[0minput\u001b[0m\u001b[0;34m(\u001b[0m\u001b[0;34m)\u001b[0m\u001b[0;34m.\u001b[0m\u001b[0msplit\u001b[0m\u001b[0;34m(\u001b[0m\u001b[0;34m)\u001b[0m\u001b[0;34m)\u001b[0m\u001b[0;34m)\u001b[0m \u001b[0;32mfor\u001b[0m \u001b[0m_\u001b[0m \u001b[0;32min\u001b[0m \u001b[0mrange\u001b[0m\u001b[0;34m(\u001b[0m\u001b[0;36m19\u001b[0m\u001b[0;34m)\u001b[0m\u001b[0;34m]\u001b[0m\u001b[0;34m\u001b[0m\u001b[0;34m\u001b[0m\u001b[0m\n\u001b[0m\u001b[1;32m      3\u001b[0m \u001b[0;34m\u001b[0m\u001b[0m\n\u001b[1;32m      4\u001b[0m \u001b[0mtestcase\u001b[0m \u001b[0;34m=\u001b[0m \u001b[0mint\u001b[0m\u001b[0;34m(\u001b[0m\u001b[0minput\u001b[0m\u001b[0;34m(\u001b[0m\u001b[0;34m)\u001b[0m\u001b[0;34m)\u001b[0m\u001b[0;34m\u001b[0m\u001b[0;34m\u001b[0m\u001b[0m\n\u001b[1;32m      5\u001b[0m \u001b[0;32mfor\u001b[0m \u001b[0m_\u001b[0m \u001b[0;32min\u001b[0m \u001b[0mrange\u001b[0m\u001b[0;34m(\u001b[0m\u001b[0mtestcase\u001b[0m\u001b[0;34m)\u001b[0m\u001b[0;34m:\u001b[0m\u001b[0;34m\u001b[0m\u001b[0;34m\u001b[0m\u001b[0m\n",
            "\u001b[0;32m<ipython-input-39-9184eb2e7089>\u001b[0m in \u001b[0;36m<listcomp>\u001b[0;34m(.0)\u001b[0m\n\u001b[1;32m      1\u001b[0m \u001b[0;31m# 코드업 바둑알 십자 뒤집기\u001b[0m\u001b[0;34m\u001b[0m\u001b[0;34m\u001b[0m\u001b[0;34m\u001b[0m\u001b[0m\n\u001b[0;32m----> 2\u001b[0;31m \u001b[0mboard\u001b[0m \u001b[0;34m=\u001b[0m \u001b[0;34m[\u001b[0m\u001b[0mlist\u001b[0m\u001b[0;34m(\u001b[0m\u001b[0mmap\u001b[0m\u001b[0;34m(\u001b[0m\u001b[0mint\u001b[0m\u001b[0;34m,\u001b[0m \u001b[0minput\u001b[0m\u001b[0;34m(\u001b[0m\u001b[0;34m)\u001b[0m\u001b[0;34m.\u001b[0m\u001b[0msplit\u001b[0m\u001b[0;34m(\u001b[0m\u001b[0;34m)\u001b[0m\u001b[0;34m)\u001b[0m\u001b[0;34m)\u001b[0m \u001b[0;32mfor\u001b[0m \u001b[0m_\u001b[0m \u001b[0;32min\u001b[0m \u001b[0mrange\u001b[0m\u001b[0;34m(\u001b[0m\u001b[0;36m19\u001b[0m\u001b[0;34m)\u001b[0m\u001b[0;34m]\u001b[0m\u001b[0;34m\u001b[0m\u001b[0;34m\u001b[0m\u001b[0m\n\u001b[0m\u001b[1;32m      3\u001b[0m \u001b[0;34m\u001b[0m\u001b[0m\n\u001b[1;32m      4\u001b[0m \u001b[0mtestcase\u001b[0m \u001b[0;34m=\u001b[0m \u001b[0mint\u001b[0m\u001b[0;34m(\u001b[0m\u001b[0minput\u001b[0m\u001b[0;34m(\u001b[0m\u001b[0;34m)\u001b[0m\u001b[0;34m)\u001b[0m\u001b[0;34m\u001b[0m\u001b[0;34m\u001b[0m\u001b[0m\n\u001b[1;32m      5\u001b[0m \u001b[0;32mfor\u001b[0m \u001b[0m_\u001b[0m \u001b[0;32min\u001b[0m \u001b[0mrange\u001b[0m\u001b[0;34m(\u001b[0m\u001b[0mtestcase\u001b[0m\u001b[0;34m)\u001b[0m\u001b[0;34m:\u001b[0m\u001b[0;34m\u001b[0m\u001b[0;34m\u001b[0m\u001b[0m\n",
            "\u001b[0;31mValueError\u001b[0m: invalid literal for int() with base 10: '1.'"
          ]
        }
      ]
    },
    {
      "cell_type": "code",
      "source": [
        "import pandas as pd\n",
        "\n",
        "data_read = pd.read_csv('1.csv')\n",
        "\n",
        "df = pd.DataFrame(data_read)\n",
        "\n",
        "a1 = (256*0.1) * (256*0.1) # 10%\n",
        "a2 = (256*0.2) * (256*0.2) # 10~20%\n",
        "a3 = (256*0.3) * (256*0.3) # 20~30%\n",
        "a4 = (256*0.4) * (256*0.4) # 30~40%\n",
        "a5 = (256*0.5) * (256*0.5) # 40~50%\n",
        "a6 = (256*0.6) * (256*0.6) # 50~60%\n",
        "a7 = (256*0.7) * (256*0.7) # 60~70%\n",
        "a8 = (256*0.8) * (256*0.8) # 70~80%\n",
        "a9 = (256*0.9) * (256*0.9) # 80~90%\n",
        "a10 = (256) * (256) # 90~100%\n",
        "\n",
        "condition1 = (df.left_up >= 0) & (df.left_up <= a1) # 10\n",
        "condition2 = (df.left_up >= a1) & (df.left_up <= a2) # 10~20%\n",
        "condition3 = (df.left_up >= a2) & (df.left_up <= a3) # 20~30%\n",
        "condition4 = (df.left_up >= a3) & (df.left_up <= a4) # 30~40%\n",
        "condition5 = (df.left_up >= a4) & (df.left_up <= a5) # 40~50%\n",
        "condition6 = (df.left_up >= a5) & (df.left_up <= a6) # 50~60%\n",
        "condition7 = (df.left_up >= a6) & (df.left_up <= a7) # 60~70%\n",
        "condition8 = (df.left_up >= a7) & (df.left_up <= a8) # 70~80%\n",
        "condition9 = (df.left_up >= a8) & (df.left_up <= a9) # 80~90%\n",
        "condition10 = (df.left_up >= a9) & (df.left_up <= a10) # 90~100%\n",
        "\n",
        "a =df.loc[condition1, ['left_up']]\n",
        "a.count()\n",
        "\n",
        "\n"
      ],
      "metadata": {
        "colab": {
          "base_uri": "https://localhost:8080/"
        },
        "id": "Rkmt-zckE7in",
        "outputId": "af054867-8601-4e4c-d6f1-b656f679ccb3"
      },
      "execution_count": null,
      "outputs": [
        {
          "output_type": "execute_result",
          "data": {
            "text/plain": [
              "left_up    631\n",
              "dtype: int64"
            ]
          },
          "metadata": {},
          "execution_count": 37
        }
      ]
    },
    {
      "cell_type": "code",
      "source": [
        "# 왼쪽 상단\n",
        "import matplotlib.pyplot as plt\n",
        "import numpy as np\n",
        "#data = [2837, 1164, 162, 0, 3, 0, 0, 0, 0, 0]\n",
        "\n",
        "data1 = [0, 0, 1, 7, 28, 45, 55, 80, 93, 82, 87, 58, 59, 47, 51, 37, 18, 16, 6,14,8,4,4,1,2,5,1,0,0,0]\n",
        "data = []\n",
        "a = 0\n",
        "for i in data1:\n",
        "    a += i\n",
        "    data.append(a)\n",
        "print(data)\n",
        "print(len(data))\n",
        "x = np.arange(30)\n",
        "# years = ['0~10', '10~20', '20~30', '30~40', '40~50', '50~60', '60~70', '70~80']\n",
        "# years = ['1%', '2%', '3%', '4%', '5%', '6%', '7%', '8%', '9%', '10%', '11%', '12%', '13%', '14%', '15%', '16%', '17%',\n",
        "#          '18%', '19%', '20%', '21%', '22%', '23%', '24%', '25%', '26%', '27%', '28%', '29%', '30%']\n",
        "years = ['1', '2', '3', '4', '5', '6', '7', '8', '9', '10', '11', '12', '13', '14', '15', '16', '17',\n",
        "         '18', '19', '20', '21', '22', '23', '24', '25', '26', '27', '28', '29', '30']\n",
        "\n",
        "plt.plot(years, data, color='r')\n",
        "plt.axhline(y=data[-1]*0.8, color='y', linewidth=3, label='80%')\n",
        "plt.axhline(y=data[-1]*0.5, color='g', linewidth=3, label='50%')\n",
        "plt.legend()\n",
        "\n",
        "plt.bar(x, data)\n",
        "plt.xticks(x, years, fontsize=7)\n",
        "plt.xlabel('Ratio (%)')\n",
        "plt.ylabel('Number')\n",
        "plt.title('upper left')\n",
        "\n",
        "for i, v in enumerate(x[:-14]):\n",
        "    plt.text(v, data[i], data[i],                 # 좌표 (x축 = v, y축 = y[0]..y[1], 표시 = y[0]..y[1])\n",
        "             fontsize = 9, \n",
        "             color='blue',\n",
        "             horizontalalignment='right',  # horizontalalignment (left, center, right)\n",
        "             verticalalignment='bottom')    # verticalalignment (top, center, bottom)\n",
        "\n",
        "plt.show()"
      ],
      "metadata": {
        "colab": {
          "base_uri": "https://localhost:8080/",
          "height": 328
        },
        "id": "7TP7-212SQ84",
        "outputId": "e9e789a7-b7d5-4a4e-c97f-0fb8b1f6ddab"
      },
      "execution_count": null,
      "outputs": [
        {
          "output_type": "stream",
          "name": "stdout",
          "text": [
            "[0, 0, 1, 8, 36, 81, 136, 216, 309, 391, 478, 536, 595, 642, 693, 730, 748, 764, 770, 784, 792, 796, 800, 801, 803, 808, 809, 809, 809, 809]\n",
            "30\n"
          ]
        },
        {
          "output_type": "display_data",
          "data": {
            "text/plain": [
              "<Figure size 432x288 with 1 Axes>"
            ],
            "image/png": "[encoded data removed]"
          },
          "metadata": {
            "needs_background": "light"
          }
        }
      ]
    },
    {
      "cell_type": "code",
      "source": [
        "# 왼쪽 하단\n",
        "import matplotlib.pyplot as plt\n",
        "import numpy as np\n",
        "#data = [2837, 1164, 162, 0, 3, 0, 0, 0, 0, 0]\n",
        "\n",
        "data1 = [0,0,0,0,0,6,8,7,23,36,26,35,48,52,56,54,54,26,37,24,28,17,3,5,5,2,4,5,2,0]\n",
        "data = []\n",
        "a = 0\n",
        "for i in data1:\n",
        "    a += i\n",
        "    data.append(a)\n",
        "print(len(data))\n",
        "print(data)\n",
        "x = np.arange(30)\n",
        "# years = ['0~10', '10~20', '20~30', '30~40', '40~50', '50~60', '60~70', '70~80']\n",
        "# years = ['1%', '2%', '3%', '4%', '5%', '6%', '7%', '8%', '9%', '10%', '11%', '12%', '13%', '14%', '15%', '16%', '17%',\n",
        "#          '18%', '19%', '20%', '21%', '22%', '23%', '24%', '25%', '26%', '27%', '28%', '29%', '30%']\n",
        "years = ['1', '2', '3', '4', '5', '6', '7', '8', '9', '10', '11', '12', '13', '14', '15', '16', '17',\n",
        "         '18', '19', '20', '21', '22', '23', '24', '25', '26', '27', '28', '29', '30']\n",
        "plt.plot(years, data, color='r')\n",
        "plt.axhline(y=data[-1]*0.8, color='y', linewidth=3, label='80%')\n",
        "plt.axhline(y=data[-1]*0.5, color='g', linewidth=3, label='50%')\n",
        "plt.legend()\n",
        "plt.bar(x, data)\n",
        "plt.xticks(x, years, fontsize=7)\n",
        "plt.xlabel('Ratio (%)')\n",
        "plt.ylabel('Number')\n",
        "plt.title('bottom left')\n",
        "\n",
        "for i, v in enumerate(x[:-8]):\n",
        "    plt.text(v, data[i], data[i],                 # 좌표 (x축 = v, y축 = y[0]..y[1], 표시 = y[0]..y[1])\n",
        "             fontsize = 9, \n",
        "             color='blue',\n",
        "             horizontalalignment='right',  # horizontalalignment (left, center, right)\n",
        "             verticalalignment='bottom')    # verticalalignment (top, center, bottom)\n",
        "\n",
        "plt.show()"
      ],
      "metadata": {
        "colab": {
          "base_uri": "https://localhost:8080/",
          "height": 328
        },
        "id": "Y7EXvkaBbHII",
        "outputId": "671d32be-61eb-40fd-fc34-190a65f481c2"
      },
      "execution_count": null,
      "outputs": [
        {
          "output_type": "stream",
          "name": "stdout",
          "text": [
            "30\n",
            "[0, 0, 0, 0, 0, 6, 14, 21, 44, 80, 106, 141, 189, 241, 297, 351, 405, 431, 468, 492, 520, 537, 540, 545, 550, 552, 556, 561, 563, 563]\n"
          ]
        },
        {
          "output_type": "display_data",
          "data": {
            "text/plain": [
              "<Figure size 432x288 with 1 Axes>"
            ],
            "image/png": "[encoded data removed]"
          },
          "metadata": {
            "needs_background": "light"
          }
        }
      ]
    },
    {
      "cell_type": "code",
      "source": [
        "# 오른쪽 위\n",
        "import matplotlib.pyplot as plt\n",
        "import numpy as np\n",
        "#data = [2837, 1164, 162, 0, 3, 0, 0, 0, 0, 0]\n",
        "\n",
        "data1 = [0,0,1,3,1,2,5,10,3,6,6,5,4,6,7,6,7,3,0,0,4,0,1,2,1,0,0,1,0,0]\n",
        "data = []\n",
        "a = 0\n",
        "for i in data1:\n",
        "    a += i\n",
        "    data.append(a)\n",
        "print(len(data))\n",
        "print(data)\n",
        "x = np.arange(30)\n",
        "# years = ['0~10', '10~20', '20~30', '30~40', '40~50', '50~60', '60~70', '70~80']\n",
        "# years = ['1%', '2%', '3%', '4%', '5%', '6%', '7%', '8%', '9%', '10%', '11%', '12%', '13%', '14%', '15%', '16%', '17%',\n",
        "#          '18%', '19%', '20%', '21%', '22%', '23%', '24%', '25%', '26%', '27%', '28%', '29%', '30%']\n",
        "years = ['1', '2', '3', '4', '5', '6', '7', '8', '9', '10', '11', '12', '13', '14', '15', '16', '17',\n",
        "         '18', '19', '20', '21', '22', '23', '24', '25', '26', '27', '28', '29', '30']\n",
        "plt.plot(years, data, color='r')\n",
        "plt.axhline(y=data[-1]*0.8, color='y', linewidth=3, label='80%')\n",
        "plt.axhline(y=data[-1]*0.5, color='g', linewidth=3, label='50%')\n",
        "plt.legend()\n",
        "plt.bar(x, data)\n",
        "plt.xticks(x, years, fontsize=7)\n",
        "plt.xlabel('Ratio (%)')\n",
        "plt.ylabel('Number')\n",
        "plt.title('upper right')\n",
        "\n",
        "for i, v in enumerate(x):\n",
        "    plt.text(v, data[i], data[i],                 # 좌표 (x축 = v, y축 = y[0]..y[1], 표시 = y[0]..y[1])\n",
        "             fontsize = 9, \n",
        "             color='blue',\n",
        "             horizontalalignment='center',  # horizontalalignment (left, center, right)\n",
        "             verticalalignment='bottom')    # verticalalignment (top, center, bottom)\n",
        "\n",
        "plt.show()"
      ],
      "metadata": {
        "colab": {
          "base_uri": "https://localhost:8080/",
          "height": 328
        },
        "id": "7zMubZvccQMh",
        "outputId": "680e00b1-14b8-40d9-c8f5-0a4f5a0702c2"
      },
      "execution_count": null,
      "outputs": [
        {
          "output_type": "stream",
          "name": "stdout",
          "text": [
            "30\n",
            "[0, 0, 1, 4, 5, 7, 12, 22, 25, 31, 37, 42, 46, 52, 59, 65, 72, 75, 75, 75, 79, 79, 80, 82, 83, 83, 83, 84, 84, 84]\n"
          ]
        },
        {
          "output_type": "display_data",
          "data": {
            "text/plain": [
              "<Figure size 432x288 with 1 Axes>"
            ],
            "image/png": "[encoded data removed]"
          },
          "metadata": {
            "needs_background": "light"
          }
        }
      ]
    },
    {
      "cell_type": "code",
      "source": [
        "# 오른쪽 아래\n",
        "import matplotlib.pyplot as plt\n",
        "import numpy as np\n",
        "#data = [2837, 1164, 162, 0, 3, 0, 0, 0, 0, 0]\n",
        "\n",
        "data1 = [0,0,0,0,0,1,3,8,12,9,4,16,37,30,35,47,48,34,31,33,29,19,15,7,11,3,2,2,1,0]\n",
        "data = []\n",
        "a = 0\n",
        "for i in data1:\n",
        "    a += i\n",
        "    data.append(a)\n",
        "print(data)\n",
        "# print(data)\n",
        "x = np.arange(30)\n",
        "# years = ['0~10', '10~20', '20~30', '30~40', '40~50', '50~60', '60~70', '70~80']\n",
        "# years = ['1%', '2%', '3%', '4%', '5%', '6%', '7%', '8%', '9%', '10%', '11%', '12%', '13%', '14%', '15%', '16%', '17%',\n",
        "#          '18%', '19%', '20%', '21%', '22%', '23%', '24%', '25%', '26%', '27%', '28%', '29%', '30%']\n",
        "years = ['1', '2', '3', '4', '5', '6', '7', '8', '9', '10', '11', '12', '13', '14', '15', '16', '17',\n",
        "         '18', '19', '20', '21', '22', '23', '24', '25', '26', '27', '28', '29', '30']\n",
        "plt.plot(years, data, color='r')\n",
        "plt.axhline(y=data[-1]*0.8, color='y', linewidth=3, label='80%')\n",
        "plt.axhline(y=data[-1]*0.5, color='g', linewidth=3, label='50%')\n",
        "plt.legend()\n",
        "plt.bar(x, data)\n",
        "plt.xticks(x, years, fontsize=7)\n",
        "plt.xlabel('Ratio (%)')\n",
        "plt.ylabel('Number')\n",
        "plt.title('bottom right')\n",
        "print(len(x))\n",
        "for i, v in enumerate(x[:-7]):\n",
        "    plt.text(v, data[i], data[i], # 좌표 (x축 = v, y축 = y[0]..y[1], 표시 = y[0]..y[1])\n",
        "             fontsize = 9, \n",
        "             color='blue',\n",
        "             horizontalalignment='right',  # horizontalalignment (left, center, right)\n",
        "             verticalalignment='bottom')    # verticalalignment (top, center, bottom)\n",
        "\n",
        "plt.show()"
      ],
      "metadata": {
        "colab": {
          "base_uri": "https://localhost:8080/",
          "height": 328
        },
        "id": "P3AJ0pNecb1Q",
        "outputId": "a3b22d73-139d-4b8c-a89a-6ed723aa2c19"
      },
      "execution_count": null,
      "outputs": [
        {
          "output_type": "stream",
          "name": "stdout",
          "text": [
            "[0, 0, 0, 0, 0, 1, 4, 12, 24, 33, 37, 53, 90, 120, 155, 202, 250, 284, 315, 348, 377, 396, 411, 418, 429, 432, 434, 436, 437, 437]\n",
            "30\n"
          ]
        },
        {
          "output_type": "display_data",
          "data": {
            "text/plain": [
              "<Figure size 432x288 with 1 Axes>"
            ],
            "image/png": "[encoded data removed]"
          },
          "metadata": {
            "needs_background": "light"
          }
        }
      ]
    },
    {
      "cell_type": "code",
      "source": [
        "# 오른쪽 아래\n",
        "import matplotlib.pyplot as plt\n",
        "import numpy as np\n",
        "\n",
        "ssim_value = [0.9756, 0.9793, 0.9707, 0.9786]\n",
        "\n",
        "x = np.arange(4)\n",
        "\n",
        "y = ['Shift-net', 'Global&Local', 'Contextual', 'Gated']\n",
        "# plt.plot(x, ssim_value, marker='o', label='Shift-net')\n",
        "plt.bar(x, ssim_value)\n",
        "# plt.plot(x, contextual_ssim, marker='o', label='Contextual')\n",
        "\n",
        "# plt.plot(years, data, color='r')\n",
        "plt.axhline(y=0.9633, color='r', linewidth=3, label='not apply ')\n",
        "plt.legend()\n",
        "# plt.bar(x, data)\n",
        "plt.xticks(x, y)\n",
        "plt.ylim([0.95, 1.0])\n",
        "plt.xlabel('Model')\n",
        "plt.ylabel('SSIM')\n",
        "plt.title('SSIM')\n",
        "# print(len(x))\n",
        "for i, v in enumerate(x):\n",
        "    plt.text(v, ssim_value[i], ssim_value[i],                 # 좌표 (x축 = v, y축 = y[0]..y[1], 표시 = y[0]..y[1])\n",
        "             fontsize = 13, \n",
        "             color='blue',\n",
        "             horizontalalignment='center',  # horizontalalignment (left, center, right)\n",
        "             verticalalignment='bottom')    # verticalalignment (top, center, bottom)\n",
        "\n",
        "plt.show()"
      ],
      "metadata": {
        "id": "k4lfBMGyvxAa",
        "colab": {
          "base_uri": "https://localhost:8080/",
          "height": 295
        },
        "outputId": "49537786-3f42-444e-9e0c-7e55aa680c33"
      },
      "execution_count": null,
      "outputs": [
        {
          "output_type": "display_data",
          "data": {
            "text/plain": [
              "<Figure size 432x288 with 1 Axes>"
            ],
            "image/png": "[encoded data removed]"
          },
          "metadata": {
            "needs_background": "light"
          }
        }
      ]
    },
    {
      "cell_type": "code",
      "source": [
        "# 오른쪽 아래\n",
        "import matplotlib.pyplot as plt\n",
        "import numpy as np\n",
        "\n",
        "psnr_value = [41.45, 42.02, 42.49, 43.87]\n",
        "\n",
        "x = np.arange(4)\n",
        "\n",
        "y = ['Shift-net', 'Global&Local', 'Contextual', 'Gated']\n",
        "\n",
        "plt.bar(x, psnr_value)\n",
        "\n",
        "plt.axhline(y=43.27, color='r', linewidth=3, label='not apply ')\n",
        "plt.legend()\n",
        "plt.xticks(x, y)\n",
        "plt.ylim([40, 44])\n",
        "plt.xlabel('Model')\n",
        "plt.ylabel('PSNR')\n",
        "plt.title('PSNR')\n",
        "# print(len(x))\n",
        "for i, v in enumerate(x):\n",
        "    plt.text(v, psnr_value[i], psnr_value[i],                 # 좌표 (x축 = v, y축 = y[0]..y[1], 표시 = y[0]..y[1])\n",
        "             fontsize = 13, \n",
        "             color='blue',\n",
        "             horizontalalignment='center',  # horizontalalignment (left, center, right)\n",
        "             verticalalignment='bottom')    # verticalalignment (top, center, bottom)\n",
        "\n",
        "plt.show()"
      ],
      "metadata": {
        "colab": {
          "base_uri": "https://localhost:8080/",
          "height": 295
        },
        "id": "nnA5JN4v7-1R",
        "outputId": "6c0b529a-6ac9-4244-f9f0-2cc31d30325a"
      },
      "execution_count": null,
      "outputs": [
        {
          "output_type": "display_data",
          "data": {
            "text/plain": [
              "<Figure size 432x288 with 1 Axes>"
            ],
            "image/png": "[encoded data removed]"
          },
          "metadata": {
            "needs_background": "light"
          }
        }
      ]
    },
    {
      "cell_type": "code",
      "source": [
        "# 오른쪽 아래\n",
        "import matplotlib.pyplot as plt\n",
        "import numpy as np\n",
        "# SSIM\n",
        "left_upper = [0.49, 0.63, 0.83]\n",
        "left_bottom = [0.7, 0.75, 0.85, 0.77]\n",
        "right_upper = [0.95, 0.96, 0.98, 0.96]\n",
        "right_bottom = [0.75, 0.76, 0.84, 0.78]\n",
        "# print(data)\n",
        "\n",
        "x = np.arange(3)\n",
        "\n",
        "ratio = ['10', '20', '30']\n",
        "plt.plot(x, shift_psnr, marker='o', label='Shift-net')\n",
        "plt.plot(x, contextual_psnr, marker='o', label='Contextual')\n",
        "\n",
        "# plt.plot(years, data, color='r')\n",
        "\n",
        "plt.legend()\n",
        "# plt.bar(x, data)\n",
        "plt.xticks(x, ratio)\n",
        "# plt.ylim([0.7, 0.84])\n",
        "# plt.xlim([0,40])\n",
        "plt.xlabel('Ratio (%)')\n",
        "plt.ylabel('PSNR')\n",
        "plt.title('PSNR')\n",
        "# print(len(x))\n",
        "for i, v in enumerate(x):\n",
        "    plt.text(v, shift_psnr[2], shift_psnr[2],                 # 좌표 (x축 = v, y축 = y[0]..y[1], 표시 = y[0]..y[1])\n",
        "             fontsize = 13, \n",
        "             color='blue',\n",
        "             horizontalalignment='right',  # horizontalalignment (left, center, right)\n",
        "             verticalalignment='bottom')    # verticalalignment (top, center, bottom)\n",
        "    # plt.text(v, contextual_psnr[i], contextual_psnr[i],                 \n",
        "    #          fontsize = 13, \n",
        "    #          color='red',\n",
        "    #          horizontalalignment='right',  \n",
        "    #          verticalalignment='bottom')    \n",
        "\n",
        "plt.show()"
      ],
      "metadata": {
        "colab": {
          "base_uri": "https://localhost:8080/",
          "height": 248
        },
        "id": "gIjNqXpCwI-N",
        "outputId": "5e41a26a-e2ba-478b-9b2d-378143916879"
      },
      "execution_count": null,
      "outputs": [
        {
          "output_type": "error",
          "ename": "NameError",
          "evalue": "ignored",
          "traceback": [
            "\u001b[0;31m---------------------------------------------------------------------------\u001b[0m",
            "\u001b[0;31mNameError\u001b[0m                                 Traceback (most recent call last)",
            "\u001b[0;32m<ipython-input-1-a3571e7ab45f>\u001b[0m in \u001b[0;36m<module>\u001b[0;34m\u001b[0m\n\u001b[1;32m     12\u001b[0m \u001b[0;34m\u001b[0m\u001b[0m\n\u001b[1;32m     13\u001b[0m \u001b[0mratio\u001b[0m \u001b[0;34m=\u001b[0m \u001b[0;34m[\u001b[0m\u001b[0;34m'10'\u001b[0m\u001b[0;34m,\u001b[0m \u001b[0;34m'20'\u001b[0m\u001b[0;34m,\u001b[0m \u001b[0;34m'30'\u001b[0m\u001b[0;34m]\u001b[0m\u001b[0;34m\u001b[0m\u001b[0;34m\u001b[0m\u001b[0m\n\u001b[0;32m---> 14\u001b[0;31m \u001b[0mplt\u001b[0m\u001b[0;34m.\u001b[0m\u001b[0mplot\u001b[0m\u001b[0;34m(\u001b[0m\u001b[0mx\u001b[0m\u001b[0;34m,\u001b[0m \u001b[0mshift_psnr\u001b[0m\u001b[0;34m,\u001b[0m \u001b[0mmarker\u001b[0m\u001b[0;34m=\u001b[0m\u001b[0;34m'o'\u001b[0m\u001b[0;34m,\u001b[0m \u001b[0mlabel\u001b[0m\u001b[0;34m=\u001b[0m\u001b[0;34m'Shift-net'\u001b[0m\u001b[0;34m)\u001b[0m\u001b[0;34m\u001b[0m\u001b[0;34m\u001b[0m\u001b[0m\n\u001b[0m\u001b[1;32m     15\u001b[0m \u001b[0mplt\u001b[0m\u001b[0;34m.\u001b[0m\u001b[0mplot\u001b[0m\u001b[0;34m(\u001b[0m\u001b[0mx\u001b[0m\u001b[0;34m,\u001b[0m \u001b[0mcontextual_psnr\u001b[0m\u001b[0;34m,\u001b[0m \u001b[0mmarker\u001b[0m\u001b[0;34m=\u001b[0m\u001b[0;34m'o'\u001b[0m\u001b[0;34m,\u001b[0m \u001b[0mlabel\u001b[0m\u001b[0;34m=\u001b[0m\u001b[0;34m'Contextual'\u001b[0m\u001b[0;34m)\u001b[0m\u001b[0;34m\u001b[0m\u001b[0;34m\u001b[0m\u001b[0m\n\u001b[1;32m     16\u001b[0m \u001b[0;34m\u001b[0m\u001b[0m\n",
            "\u001b[0;31mNameError\u001b[0m: name 'shift_psnr' is not defined"
          ]
        }
      ]
    },
    {
      "cell_type": "code",
      "source": [
        "# 오른쪽 아래\n",
        "import matplotlib.pyplot as plt\n",
        "import numpy as np\n",
        "\n",
        "shift_psnr = [37.94, 36.17, 33.94]\n",
        "contextual_psnr = [39.26, 36.05, 33]\n",
        "\n",
        "# print(data)\n",
        "\n",
        "x = np.arange(3)\n",
        "\n",
        "ratio = ['10', '20', '30']\n",
        "plt.plot(x, shift_psnr, marker='o', label='Shift-net')\n",
        "plt.plot(x, contextual_psnr, marker='o', label='Contextual')\n",
        "\n",
        "# plt.plot(years, data, color='r')\n",
        "\n",
        "plt.legend()\n",
        "# plt.bar(x, data)\n",
        "plt.xticks(x, ratio)\n",
        "# plt.ylim([0.7, 0.84])\n",
        "# plt.xlim([0,40])\n",
        "plt.xlabel('Ratio (%)')\n",
        "plt.ylabel('PSNR')\n",
        "plt.title('PSNR')\n",
        "# print(len(x))\n",
        "# for i, v in enumerate(x):\n",
        "#     plt.text(v, shift_psnr[i], shift_psnr[i],                 # 좌표 (x축 = v, y축 = y[0]..y[1], 표시 = y[0]..y[1])\n",
        "#              fontsize = 13, \n",
        "#              color='blue',\n",
        "#              horizontalalignment='center',  # horizontalalignment (left, center, right)\n",
        "#              verticalalignment='bottom')    # verticalalignment (top, center, bottom)\n",
        "#     plt.text(v, contextual_psnr[0], contextual_psnr[0],                 \n",
        "#              fontsize = 13, \n",
        "#              color='red',\n",
        "#              horizontalalignment='right',  \n",
        "#              verticalalignment='top')    \n",
        "\n",
        "plt.show()"
      ],
      "metadata": {
        "colab": {
          "base_uri": "https://localhost:8080/",
          "height": 295
        },
        "id": "dNqo0JORBY7q",
        "outputId": "0a0fcb12-982c-47ec-be4a-5727974c4968"
      },
      "execution_count": null,
      "outputs": [
        {
          "output_type": "display_data",
          "data": {
            "text/plain": [
              "<Figure size 432x288 with 1 Axes>"
            ],
            "image/png": "[encoded data removed]"
          },
          "metadata": {
            "needs_background": "light"
          }
        }
      ]
    },
    {
      "cell_type": "code",
      "source": [
        "# 오른쪽 아래\n",
        "import matplotlib.pyplot as plt\n",
        "import numpy as np\n",
        "\n",
        "globallocal_psnr = [29.59, 30.63, 30.53]\n",
        "\n",
        "x = np.arange(3)\n",
        "\n",
        "ratio = ['10', '20', '30']\n",
        "# plt.plot(x, shift_psnr, marker='o', label='Shift-net')\n",
        "plt.plot(x, globallocal_psnr, marker='o', label='left upper', color='y')\n",
        "\n",
        "# plt.plot(years, data, color='r')\n",
        "\n",
        "plt.legend()\n",
        "# plt.bar(x, data)\n",
        "plt.xticks(x, ratio)\n",
        "# plt.ylim([0.7, 0.84])\n",
        "# plt.xlim([0,40])\n",
        "plt.xlabel('Ratio (%)')\n",
        "plt.ylabel('PSNR')\n",
        "plt.title('PSNR')\n",
        "# print(len(x))\n",
        "for i, v in enumerate(x):\n",
        "    plt.text(v, globallocal_psnr[i], globallocal_psnr[i],                 # 좌표 (x축 = v, y축 = y[0]..y[1], 표시 = y[0]..y[1])\n",
        "             fontsize = 13, \n",
        "             color='blue',\n",
        "             horizontalalignment='center',  # horizontalalignment (left, center, right)\n",
        "             verticalalignment='bottom')    # verticalalignment (top, center, bottom)\n",
        "    # plt.text(v, contextual_psnr[i], contextual_psnr[i],                 \n",
        "    #          fontsize = 13, \n",
        "    #          color='red',\n",
        "    #          horizontalalignment='right',  \n",
        "    #          verticalalignment='bottom')    \n",
        "\n",
        "plt.show()"
      ],
      "metadata": {
        "colab": {
          "base_uri": "https://localhost:8080/",
          "height": 295
        },
        "id": "k2gSsaXwiveM",
        "outputId": "0d4f2a1d-b62a-4a34-cc58-23bba8d51c5f"
      },
      "execution_count": null,
      "outputs": [
        {
          "output_type": "display_data",
          "data": {
            "text/plain": [
              "<Figure size 432x288 with 1 Axes>"
            ],
            "image/png": "[encoded data removed]"
          },
          "metadata": {
            "needs_background": "light"
          }
        }
      ]
    },
    {
      "cell_type": "code",
      "source": [
        "# 오른쪽 아래\n",
        "import matplotlib.pyplot as plt\n",
        "import numpy as np\n",
        "\n",
        "globallocal_ssim = [0.48, 0.5, 0.5] \n",
        "\n",
        "x = np.arange(3)\n",
        "\n",
        "ratio = ['10', '20', '30']\n",
        "# plt.plot(x, shift_psnr, marker='o', label='Shift-net')\n",
        "plt.plot(x, globallocal_ssim, marker='o', label='left upper', color='y')\n",
        "\n",
        "# plt.plot(years, data, color='r')\n",
        "\n",
        "plt.legend()\n",
        "# plt.bar(x, data)\n",
        "plt.xticks(x, ratio)\n",
        "# plt.ylim([0.7, 0.84])\n",
        "# plt.xlim([0,40])\n",
        "plt.xlabel('Ratio (%)')\n",
        "plt.ylabel('SSIM')\n",
        "plt.title('SSIM')\n",
        "# print(len(x))\n",
        "for i, v in enumerate(x):\n",
        "    plt.text(v, globallocal_ssim[i], globallocal_ssim[i],                 # 좌표 (x축 = v, y축 = y[0]..y[1], 표시 = y[0]..y[1])\n",
        "             fontsize = 13, \n",
        "             color='blue',\n",
        "             horizontalalignment='center',  # horizontalalignment (left, center, right)\n",
        "             verticalalignment='bottom')    # verticalalignment (top, center, bottom)\n",
        "    # plt.text(v, contextual_psnr[i], contextual_psnr[i],                 \n",
        "    #          fontsize = 13, \n",
        "    #          color='red',\n",
        "    #          horizontalalignment='right',  \n",
        "    #          verticalalignment='bottom')    \n",
        "\n",
        "plt.show()"
      ],
      "metadata": {
        "colab": {
          "base_uri": "https://localhost:8080/",
          "height": 295
        },
        "id": "s8jQ3qEfjVUH",
        "outputId": "5fe11739-16f3-49ce-d43a-e283d6b5fe95"
      },
      "execution_count": null,
      "outputs": [
        {
          "output_type": "display_data",
          "data": {
            "text/plain": [
              "<Figure size 432x288 with 1 Axes>"
            ],
            "image/png": "[encoded data removed]"
          },
          "metadata": {
            "needs_background": "light"
          }
        }
      ]
    }
  ]
}